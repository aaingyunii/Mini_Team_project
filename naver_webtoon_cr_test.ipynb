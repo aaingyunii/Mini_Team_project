{
 "cells": [
  {
   "cell_type": "code",
   "execution_count": null,
   "metadata": {},
   "outputs": [],
   "source": []
  },
  {
   "cell_type": "markdown",
   "metadata": {},
   "source": [
    "# `requests` 통해 웹 정보를 받아 크롤링"
   ]
  },
  {
   "cell_type": "code",
   "execution_count": 1,
   "metadata": {},
   "outputs": [],
   "source": [
    "import requests"
   ]
  },
  {
   "cell_type": "markdown",
   "metadata": {},
   "source": [
    "### 테스트"
   ]
  },
  {
   "cell_type": "code",
   "execution_count": 6,
   "metadata": {},
   "outputs": [],
   "source": [
    "## https://comic.naver.com/webtoon 에 접속했을 때, 요일별 현재 연재 중인 전체 웹툰이 담긴 api\n",
    "url = \"https://comic.naver.com/api/webtoon/titlelist/weekday?order=user\"\n",
    "\n",
    "head  = {'User-Agent':\n",
    "'Mozilla/5.0 (Windows NT 10.0; Win64; x64) AppleWebKit/537.36 (KHTML, like Gecko) Chrome/115.0.0.0 Safari/537.36'}\n",
    "\n",
    "r = requests.get(url, headers=head)\n",
    "# r.text"
   ]
  },
  {
   "cell_type": "code",
   "execution_count": 7,
   "metadata": {},
   "outputs": [
    {
     "data": {
      "text/plain": [
       "{'titleId': 783053,\n",
       " 'titleName': '김부장',\n",
       " 'author': '박태준 만화회사 / 정종택',\n",
       " 'thumbnailUrl': 'https://image-comic.pstatic.net/webtoon/783053/thumbnail/thumbnail_IMAG21_d7732f14-26da-4e35-8762-660cc87b53f1.jpg',\n",
       " 'up': False,\n",
       " 'rest': False,\n",
       " 'bm': False,\n",
       " 'adult': False,\n",
       " 'starScore': 9.47574,\n",
       " 'viewCount': 0,\n",
       " 'openToday': False,\n",
       " 'potenUp': False,\n",
       " 'bestChallengeLevelUp': False,\n",
       " 'finish': False,\n",
       " 'new': False}"
      ]
     },
     "execution_count": 7,
     "metadata": {},
     "output_type": "execute_result"
    }
   ],
   "source": [
    "## 하나의 웹툰 찾기 \n",
    "r.json()['titleListMap']['TUESDAY'][0]"
   ]
  },
  {
   "cell_type": "code",
   "execution_count": 8,
   "metadata": {},
   "outputs": [
    {
     "data": {
      "text/plain": [
       "[783053, 784248, 796152, 790713, 789979, 730656]"
      ]
     },
     "execution_count": 8,
     "metadata": {},
     "output_type": "execute_result"
    }
   ],
   "source": [
    "### 화요일 웹툰 titleId 모으기 테스트\n",
    "\n",
    "a = []\n",
    "for i in range(r.json()['titleListMap']['TUESDAY'].__len__()):\n",
    "    a.append(r.json()['titleListMap']['TUESDAY'][i]['titleId'])\n",
    "a[:6]"
   ]
  },
  {
   "cell_type": "code",
   "execution_count": 9,
   "metadata": {},
   "outputs": [
    {
     "data": {
      "text/plain": [
       "dict_keys(['MONDAY', 'SUNDAY', 'TUESDAY', 'SATURDAY', 'THURSDAY', 'FRIDAY', 'WEDNESDAY'])"
      ]
     },
     "execution_count": 9,
     "metadata": {},
     "output_type": "execute_result"
    }
   ],
   "source": [
    "r.json()['titleListMap'].keys()"
   ]
  },
  {
   "cell_type": "code",
   "execution_count": null,
   "metadata": {},
   "outputs": [],
   "source": []
  },
  {
   "cell_type": "markdown",
   "metadata": {},
   "source": [
    "## 요일 전체 `titleId` 가져오기"
   ]
  },
  {
   "cell_type": "code",
   "execution_count": 10,
   "metadata": {},
   "outputs": [],
   "source": [
    "import requests\n",
    "from tqdm import tqdm"
   ]
  },
  {
   "cell_type": "code",
   "execution_count": 11,
   "metadata": {},
   "outputs": [],
   "source": [
    "## https://comic.naver.com/webtoon 에 접속했을 때, 요일별 현재 연재 중인 전체 웹툰이 담긴 api\n",
    "url = \"https://comic.naver.com/api/webtoon/titlelist/weekday?order=user\"\n",
    "\n",
    "head  = {'User-Agent':\n",
    "'Mozilla/5.0 (Windows NT 10.0; Win64; x64) AppleWebKit/537.36 (KHTML, like Gecko) Chrome/115.0.0.0 Safari/537.36'}\n",
    "\n",
    "r = requests.get(url, headers=head)"
   ]
  },
  {
   "cell_type": "code",
   "execution_count": 12,
   "metadata": {},
   "outputs": [
    {
     "name": "stderr",
     "output_type": "stream",
     "text": [
      "100%|██████████| 7/7 [00:01<00:00,  4.84it/s]\n"
     ]
    }
   ],
   "source": [
    "week_day = list(r.json()['titleListMap'].keys()) # 요일 담은 리스트\n",
    "\n",
    "titleId_list =[]\n",
    "for i in tqdm(week_day):\n",
    "    for j in range(r.json()['titleListMap'][i].__len__()):\n",
    "        titleId_list.append(r.json()['titleListMap'][i][j]['titleId'])\n"
   ]
  },
  {
   "cell_type": "code",
   "execution_count": 13,
   "metadata": {},
   "outputs": [
    {
     "data": {
      "text/plain": [
       "619"
      ]
     },
     "execution_count": 13,
     "metadata": {},
     "output_type": "execute_result"
    }
   ],
   "source": [
    "len(titleId_list)"
   ]
  },
  {
   "cell_type": "code",
   "execution_count": 14,
   "metadata": {},
   "outputs": [
    {
     "data": {
      "text/plain": [
       "[758037,\n",
       " 648419,\n",
       " 183559,\n",
       " 774866,\n",
       " 733074,\n",
       " 783052,\n",
       " 728750,\n",
       " 602910,\n",
       " 654774,\n",
       " 796867,\n",
       " 795297,\n",
       " 813552,\n",
       " 806189,\n",
       " 796075,\n",
       " 801035,\n",
       " 759940,\n",
       " 768536,\n",
       " 805907,\n",
       " 761461,\n",
       " 752414,\n",
       " 772725,\n",
       " 21815,\n",
       " 791256,\n",
       " 783050,\n",
       " 807775,\n",
       " 802039,\n",
       " 730174,\n",
       " 741891,\n",
       " 769663,\n",
       " 814541,\n",
       " 812403,\n",
       " 739115,\n",
       " 801710,\n",
       " 803518,\n",
       " 780414,\n",
       " 687915,\n",
       " 814116,\n",
       " 808711,\n",
       " 808776,\n",
       " 800333,\n",
       " 800034,\n",
       " 679568,\n",
       " 805437,\n",
       " 791629,\n",
       " 794421,\n",
       " 756140,\n",
       " 774302,\n",
       " 798277,\n",
       " 801517,\n",
       " 801827,\n",
       " 804782,\n",
       " 800618,\n",
       " 791062,\n",
       " 794156,\n",
       " 772734,\n",
       " 745654,\n",
       " 804469,\n",
       " 734574,\n",
       " 793944,\n",
       " 798293,\n",
       " 802854,\n",
       " 802551,\n",
       " 807397,\n",
       " 808760,\n",
       " 785749,\n",
       " 802033,\n",
       " 797253,\n",
       " 796368,\n",
       " 807159,\n",
       " 776256,\n",
       " 805702,\n",
       " 793067,\n",
       " 811129,\n",
       " 792317,\n",
       " 808074,\n",
       " 791205,\n",
       " 740132,\n",
       " 764480,\n",
       " 807600,\n",
       " 799868,\n",
       " 764623,\n",
       " 772243,\n",
       " 786979,\n",
       " 803123,\n",
       " 814362,\n",
       " 814594,\n",
       " 812354,\n",
       " 811721,\n",
       " 736277,\n",
       " 710751,\n",
       " 758150,\n",
       " 774044,\n",
       " 779632,\n",
       " 795262,\n",
       " 703844,\n",
       " 774831,\n",
       " 803909,\n",
       " 805193,\n",
       " 813564,\n",
       " 759567,\n",
       " 798664,\n",
       " 743838,\n",
       " 799805,\n",
       " 792694,\n",
       " 799267,\n",
       " 811219,\n",
       " 809706,\n",
       " 728128,\n",
       " 813410,\n",
       " 805691,\n",
       " 800778,\n",
       " 789966,\n",
       " 802079,\n",
       " 783524,\n",
       " 776092,\n",
       " 807550,\n",
       " 730657,\n",
       " 778967,\n",
       " 800788,\n",
       " 803649,\n",
       " 769658,\n",
       " 814213,\n",
       " 812660,\n",
       " 813598,\n",
       " 812168,\n",
       " 807826,\n",
       " 803480,\n",
       " 813412,\n",
       " 801580,\n",
       " 813451,\n",
       " 795529,\n",
       " 730607,\n",
       " 804157,\n",
       " 809622,\n",
       " 778991,\n",
       " 804055,\n",
       " 805156,\n",
       " 807164,\n",
       " 808897,\n",
       " 811841,\n",
       " 798172,\n",
       " 768474,\n",
       " 778322,\n",
       " 808677,\n",
       " 812144,\n",
       " 784140,\n",
       " 805405,\n",
       " 813949,\n",
       " 798303,\n",
       " 786262,\n",
       " 802682,\n",
       " 800101,\n",
       " 801455,\n",
       " 807992,\n",
       " 786973,\n",
       " 793539,\n",
       " 805481,\n",
       " 802986,\n",
       " 799509,\n",
       " 786082,\n",
       " 797155,\n",
       " 783599,\n",
       " 807206,\n",
       " 758665,\n",
       " 803122,\n",
       " 768473,\n",
       " 802751,\n",
       " 801428,\n",
       " 779354,\n",
       " 799213,\n",
       " 801277,\n",
       " 796251,\n",
       " 814149,\n",
       " 814407,\n",
       " 783053,\n",
       " 784248,\n",
       " 796152,\n",
       " 790713,\n",
       " 789979,\n",
       " 730656,\n",
       " 743139,\n",
       " 773459,\n",
       " 804783,\n",
       " 738487,\n",
       " 774358,\n",
       " 721433,\n",
       " 783877,\n",
       " 801711,\n",
       " 812414,\n",
       " 711422,\n",
       " 812161,\n",
       " 802389,\n",
       " 813454,\n",
       " 766648,\n",
       " 795658,\n",
       " 804653,\n",
       " 757904,\n",
       " 814356,\n",
       " 801589,\n",
       " 698918,\n",
       " 802840,\n",
       " 732988,\n",
       " 812594,\n",
       " 809618,\n",
       " 702608,\n",
       " 798326,\n",
       " 616239,\n",
       " 809261,\n",
       " 805743,\n",
       " 797582,\n",
       " 800726,\n",
       " 723046,\n",
       " 813922,\n",
       " 765156,\n",
       " 753839,\n",
       " 789682,\n",
       " 813121,\n",
       " 400739,\n",
       " 814298,\n",
       " 805334,\n",
       " 752532,\n",
       " 808388,\n",
       " 654138,\n",
       " 800506,\n",
       " 812017,\n",
       " 808804,\n",
       " 785703,\n",
       " 798101,\n",
       " 804333,\n",
       " 808454,\n",
       " 814398,\n",
       " 803010,\n",
       " 676695,\n",
       " 809579,\n",
       " 812576,\n",
       " 791126,\n",
       " 794105,\n",
       " 767908,\n",
       " 807582,\n",
       " 797819,\n",
       " 797413,\n",
       " 804868,\n",
       " 812121,\n",
       " 773793,\n",
       " 797259,\n",
       " 790776,\n",
       " 801820,\n",
       " 812731,\n",
       " 807314,\n",
       " 807858,\n",
       " 809263,\n",
       " 805671,\n",
       " 805974,\n",
       " 809006,\n",
       " 797943,\n",
       " 810561,\n",
       " 802872,\n",
       " 799250,\n",
       " 797258,\n",
       " 800400,\n",
       " 650305,\n",
       " 792651,\n",
       " 730694,\n",
       " 727188,\n",
       " 813335,\n",
       " 597447,\n",
       " 812339,\n",
       " 812124,\n",
       " 773796,\n",
       " 807777,\n",
       " 814048,\n",
       " 780404,\n",
       " 807393,\n",
       " 793275,\n",
       " 787500,\n",
       " 724815,\n",
       " 812851,\n",
       " 801475,\n",
       " 808439,\n",
       " 721948,\n",
       " 801589,\n",
       " 813443,\n",
       " 64997,\n",
       " 733280,\n",
       " 798182,\n",
       " 808994,\n",
       " 808757,\n",
       " 616239,\n",
       " 803934,\n",
       " 801324,\n",
       " 793350,\n",
       " 809722,\n",
       " 808473,\n",
       " 774832,\n",
       " 793374,\n",
       " 778656,\n",
       " 774864,\n",
       " 703839,\n",
       " 739411,\n",
       " 811707,\n",
       " 814039,\n",
       " 797184,\n",
       " 732021,\n",
       " 813329,\n",
       " 814398,\n",
       " 807029,\n",
       " 799503,\n",
       " 784580,\n",
       " 793553,\n",
       " 774051,\n",
       " 814371,\n",
       " 808533,\n",
       " 786496,\n",
       " 809694,\n",
       " 783814,\n",
       " 800312,\n",
       " 812645,\n",
       " 753975,\n",
       " 803794,\n",
       " 805356,\n",
       " 794161,\n",
       " 797844,\n",
       " 812156,\n",
       " 778580,\n",
       " 806776,\n",
       " 806265,\n",
       " 808265,\n",
       " 806449,\n",
       " 797932,\n",
       " 807776,\n",
       " 814595,\n",
       " 809445,\n",
       " 780845,\n",
       " 800828,\n",
       " 755744,\n",
       " 812907,\n",
       " 811908,\n",
       " 783864,\n",
       " 803530,\n",
       " 802070,\n",
       " 746833,\n",
       " 778968,\n",
       " 802819,\n",
       " 811634,\n",
       " 784582,\n",
       " 809056,\n",
       " 769193,\n",
       " 811255,\n",
       " 753304,\n",
       " 735078,\n",
       " 794458,\n",
       " 802117,\n",
       " 812354,\n",
       " 478261,\n",
       " 802293,\n",
       " 747271,\n",
       " 808198,\n",
       " 800770,\n",
       " 797410,\n",
       " 746857,\n",
       " 783888,\n",
       " 813563,\n",
       " 780170,\n",
       " 809054,\n",
       " 801505,\n",
       " 812629,\n",
       " 762279,\n",
       " 748831,\n",
       " 797731,\n",
       " 802833,\n",
       " 790239,\n",
       " 808482,\n",
       " 788976,\n",
       " 812962,\n",
       " 801515,\n",
       " 131385,\n",
       " 813625,\n",
       " 570506,\n",
       " 785727,\n",
       " 809625,\n",
       " 741825,\n",
       " 770523,\n",
       " 758439,\n",
       " 701700,\n",
       " 812560,\n",
       " 802039,\n",
       " 775631,\n",
       " 801698,\n",
       " 814512,\n",
       " 807537,\n",
       " 776542,\n",
       " 776668,\n",
       " 804051,\n",
       " 776655,\n",
       " 814541,\n",
       " 813571,\n",
       " 813802,\n",
       " 783117,\n",
       " 798173,\n",
       " 783536,\n",
       " 812164,\n",
       " 807406,\n",
       " 670145,\n",
       " 796242,\n",
       " 805368,\n",
       " 808286,\n",
       " 801998,\n",
       " 790453,\n",
       " 797468,\n",
       " 808910,\n",
       " 771912,\n",
       " 814538,\n",
       " 813334,\n",
       " 799165,\n",
       " 807356,\n",
       " 802378,\n",
       " 805746,\n",
       " 762035,\n",
       " 802272,\n",
       " 798331,\n",
       " 774451,\n",
       " 797937,\n",
       " 807655,\n",
       " 812223,\n",
       " 703847,\n",
       " 785701,\n",
       " 792277,\n",
       " 787729,\n",
       " 791258,\n",
       " 802849,\n",
       " 754876,\n",
       " 784989,\n",
       " 810450,\n",
       " 796492,\n",
       " 800304,\n",
       " 795929,\n",
       " 751993,\n",
       " 792280,\n",
       " 794644,\n",
       " 796302,\n",
       " 729964,\n",
       " 641253,\n",
       " 776601,\n",
       " 777767,\n",
       " 773797,\n",
       " 735661,\n",
       " 790713,\n",
       " 790245,\n",
       " 753478,\n",
       " 725586,\n",
       " 798917,\n",
       " 712362,\n",
       " 751168,\n",
       " 746534,\n",
       " 772764,\n",
       " 761722,\n",
       " 802278,\n",
       " 799837,\n",
       " 711422,\n",
       " 765804,\n",
       " 804160,\n",
       " 768469,\n",
       " 804329,\n",
       " 808389,\n",
       " 773916,\n",
       " 804832,\n",
       " 803792,\n",
       " 552960,\n",
       " 766563,\n",
       " 813641,\n",
       " 783527,\n",
       " 801736,\n",
       " 794383,\n",
       " 758675,\n",
       " 800046,\n",
       " 814310,\n",
       " 745876,\n",
       " 741467,\n",
       " 783539,\n",
       " 800585,\n",
       " 803767,\n",
       " 800291,\n",
       " 801555,\n",
       " 805203,\n",
       " 807829,\n",
       " 800796,\n",
       " 814587,\n",
       " 777515,\n",
       " 800506,\n",
       " 794102,\n",
       " 794742,\n",
       " 809872,\n",
       " 804333,\n",
       " 804318,\n",
       " 805658,\n",
       " 801038,\n",
       " 732036,\n",
       " 799524,\n",
       " 644112,\n",
       " 783540,\n",
       " 799148,\n",
       " 799838,\n",
       " 797442,\n",
       " 794743,\n",
       " 794423,\n",
       " 783520,\n",
       " 780267,\n",
       " 775140,\n",
       " 773476,\n",
       " 751999,\n",
       " 802906,\n",
       " 793853,\n",
       " 793410,\n",
       " 805893,\n",
       " 729036,\n",
       " 800006,\n",
       " 801773,\n",
       " 803119,\n",
       " 797221,\n",
       " 798622,\n",
       " 778325,\n",
       " 802578,\n",
       " 803371,\n",
       " 758677,\n",
       " 801992,\n",
       " 802733,\n",
       " 801699,\n",
       " 800331,\n",
       " 799220,\n",
       " 802359,\n",
       " 769209,\n",
       " 811721,\n",
       " 747269,\n",
       " 807859,\n",
       " 670143,\n",
       " 804862,\n",
       " 807178,\n",
       " 775141,\n",
       " 717481,\n",
       " 814048,\n",
       " 742105,\n",
       " 795542,\n",
       " 738694,\n",
       " 806888,\n",
       " 750184,\n",
       " 748535,\n",
       " 805737,\n",
       " 812851,\n",
       " 804145,\n",
       " 783523,\n",
       " 790404,\n",
       " 807019,\n",
       " 748536,\n",
       " 750826,\n",
       " 808455,\n",
       " 808018,\n",
       " 808272,\n",
       " 807306,\n",
       " 799267,\n",
       " 783861,\n",
       " 813455,\n",
       " 602916,\n",
       " 758662,\n",
       " 789652,\n",
       " 730425,\n",
       " 796062,\n",
       " 671421,\n",
       " 811716,\n",
       " 760001,\n",
       " 797115,\n",
       " 765158,\n",
       " 803891,\n",
       " 808738,\n",
       " 801593,\n",
       " 812381,\n",
       " 802940,\n",
       " 780253,\n",
       " 791140,\n",
       " 802835,\n",
       " 771718,\n",
       " 812168,\n",
       " 809870,\n",
       " 807634,\n",
       " 805730,\n",
       " 793388,\n",
       " 760002,\n",
       " 807308,\n",
       " 800312,\n",
       " 701535,\n",
       " 797443,\n",
       " 799467,\n",
       " 805745,\n",
       " 750558,\n",
       " 810682,\n",
       " 800504,\n",
       " 697533,\n",
       " 812558,\n",
       " 812344,\n",
       " 799016,\n",
       " 791892,\n",
       " 809558,\n",
       " 800390,\n",
       " 806304,\n",
       " 808201,\n",
       " 805323,\n",
       " 808508,\n",
       " 774039,\n",
       " 804989,\n",
       " 801809,\n",
       " 807745,\n",
       " 809619,\n",
       " 802913,\n",
       " 796466,\n",
       " 804871,\n",
       " 809597,\n",
       " 791632,\n",
       " 792120,\n",
       " 792372,\n",
       " 806505]"
      ]
     },
     "execution_count": 14,
     "metadata": {},
     "output_type": "execute_result"
    }
   ],
   "source": [
    "titleId_list"
   ]
  },
  {
   "cell_type": "markdown",
   "metadata": {},
   "source": [
    "## 각 웹툰의 정보 크롤링"
   ]
  },
  {
   "cell_type": "code",
   "execution_count": 11,
   "metadata": {},
   "outputs": [],
   "source": [
    "import requests\n",
    "import pandas as pd"
   ]
  },
  {
   "cell_type": "markdown",
   "metadata": {},
   "source": [
    "### 테스트"
   ]
  },
  {
   "cell_type": "code",
   "execution_count": 19,
   "metadata": {},
   "outputs": [],
   "source": [
    "# 하나의 웹툰에 저장된 정보가 담긴 url api\n",
    "url2 = \"https://comic.naver.com/api/article/list/info?titleId=796075\"\n",
    "\n",
    "head2 = {'User-Agent':\n",
    "'Mozilla/5.0 (Windows NT 10.0; Win64; x64) AppleWebKit/537.36 (KHTML, like Gecko) Chrome/115.0.0.0 Safari/537.36'}"
   ]
  },
  {
   "cell_type": "code",
   "execution_count": 20,
   "metadata": {},
   "outputs": [],
   "source": [
    "r2 = requests.get(url2, headers=head2)\n",
    "# r2.text"
   ]
  },
  {
   "cell_type": "code",
   "execution_count": 68,
   "metadata": {},
   "outputs": [
    {
     "data": {
      "text/plain": [
       "dict_keys(['titleId', 'thumbnailUrl', 'posterThumbnailUrl', 'sharedThumbnailUrl', 'titleName', 'webtoonLevelCode', 'author', 'thumbnailBadgeList', 'age', 'publishDescription', 'synopsis', 'favoriteCount', 'favorite', 'firstArticle', 'publishDayOfWeekList', 'rest', 'finished', 'dailyPass', 'curationTagList', 'adBannerList', 'chargeBestChallenge', 'contentsNo', 'new'])"
      ]
     },
     "execution_count": 68,
     "metadata": {},
     "output_type": "execute_result"
    }
   ],
   "source": [
    "r2.json().keys()"
   ]
  },
  {
   "cell_type": "code",
   "execution_count": 17,
   "metadata": {},
   "outputs": [],
   "source": [
    "## 모을 데이터 컬럼:\n",
    "### \"titleName, author, age , favoriteCount, publishDayOfWeekList, curationTagList\"\n",
    "\n",
    "#### doc string 활용 내용\n",
    "\n",
    "# titleName 웹툰 제목\n",
    "# author 작가\n",
    "# age 시청 연령\n",
    "# publishDayOfWeekList 연재 요일\n",
    "# favoriteCount 관심도 수\n",
    "# curationTagList 웹툰 내용 관련 해시태그"
   ]
  },
  {
   "cell_type": "code",
   "execution_count": 69,
   "metadata": {},
   "outputs": [
    {
     "data": {
      "text/plain": [
       "[{'id': 796075,\n",
       "  'tagName': '무협/사극',\n",
       "  'urlPath': '/webtoon?tab=genre&genre=HISTORICAL',\n",
       "  'curationType': 'GENRE_HISTORICAL'},\n",
       " {'id': 184,\n",
       "  'tagName': '환골탈태',\n",
       "  'urlPath': '/curation/list?type=CUSTOM_TAG&id=184',\n",
       "  'curationType': 'CUSTOM_TAG'},\n",
       " {'id': 796075,\n",
       "  'tagName': '소설원작',\n",
       "  'urlPath': '/curation/list?type=NOVEL_ORIGIN',\n",
       "  'curationType': 'NOVEL_ORIGIN'}]"
      ]
     },
     "execution_count": 69,
     "metadata": {},
     "output_type": "execute_result"
    }
   ],
   "source": [
    "r2.json()['curationTagList']"
   ]
  },
  {
   "cell_type": "code",
   "execution_count": 19,
   "metadata": {},
   "outputs": [],
   "source": [
    "### 만약 분석을 추가한다면?\n",
    "#### 관심도 수 와 웹툰 랭킹을 연관지을 수 있으려나?? -> 조회순으로 보여지는 각 요일의 순서 == 랭킹이라고 가정.\n"
   ]
  },
  {
   "cell_type": "code",
   "execution_count": 70,
   "metadata": {},
   "outputs": [
    {
     "data": {
      "text/plain": [
       "'절대검감'"
      ]
     },
     "execution_count": 70,
     "metadata": {},
     "output_type": "execute_result"
    }
   ],
   "source": [
    "r2.json()['titleName']"
   ]
  },
  {
   "cell_type": "code",
   "execution_count": 71,
   "metadata": {},
   "outputs": [
    {
     "data": {
      "text/plain": [
       "'김두루미'"
      ]
     },
     "execution_count": 71,
     "metadata": {},
     "output_type": "execute_result"
    }
   ],
   "source": [
    "r2.json()['author']['writers'][0]['name']"
   ]
  },
  {
   "cell_type": "code",
   "execution_count": 72,
   "metadata": {},
   "outputs": [
    {
     "data": {
      "text/plain": [
       "'RATE_12'"
      ]
     },
     "execution_count": 72,
     "metadata": {},
     "output_type": "execute_result"
    }
   ],
   "source": [
    "r2.json()['age']['type']"
   ]
  },
  {
   "cell_type": "code",
   "execution_count": 73,
   "metadata": {},
   "outputs": [
    {
     "data": {
      "text/plain": [
       "115387"
      ]
     },
     "execution_count": 73,
     "metadata": {},
     "output_type": "execute_result"
    }
   ],
   "source": [
    "r2.json()['favoriteCount']"
   ]
  },
  {
   "cell_type": "code",
   "execution_count": 74,
   "metadata": {},
   "outputs": [
    {
     "data": {
      "text/plain": [
       "'MONDAY'"
      ]
     },
     "execution_count": 74,
     "metadata": {},
     "output_type": "execute_result"
    }
   ],
   "source": [
    "r2.json()['publishDayOfWeekList'][0]"
   ]
  },
  {
   "cell_type": "code",
   "execution_count": 21,
   "metadata": {},
   "outputs": [],
   "source": [
    "a = []\n",
    "for i in range(r2.json()['curationTagList'].__len__()):\n",
    "    a.append(r2.json()['curationTagList'][i]['tagName'])\n",
    "\n"
   ]
  },
  {
   "cell_type": "code",
   "execution_count": 22,
   "metadata": {},
   "outputs": [
    {
     "data": {
      "text/plain": [
       "['무협/사극', '환골탈태', '소설원작']"
      ]
     },
     "execution_count": 22,
     "metadata": {},
     "output_type": "execute_result"
    }
   ],
   "source": [
    "a\n",
    "## 해당 리스트를 데이터프레임에서 한 컬럼안에 넣기 위해선 문자열로 바꿔야한다."
   ]
  },
  {
   "cell_type": "code",
   "execution_count": 77,
   "metadata": {},
   "outputs": [
    {
     "data": {
      "text/plain": [
       "'무협/사극,환골탈태,소설원작'"
      ]
     },
     "execution_count": 77,
     "metadata": {},
     "output_type": "execute_result"
    }
   ],
   "source": [
    "## 이후에 잘 추출하기 위해 공백을 없앰.\n",
    "', '.join(a).replace(\" \",\"\")"
   ]
  },
  {
   "cell_type": "code",
   "execution_count": 78,
   "metadata": {},
   "outputs": [
    {
     "data": {
      "text/plain": [
       "['절대검감', '김두루미', 'RATE_12', 115387, 'MONDAY', '무협/사극,환골탈태,소설원작']"
      ]
     },
     "execution_count": 78,
     "metadata": {},
     "output_type": "execute_result"
    }
   ],
   "source": [
    "b = [\n",
    "    r2.json()['titleName'],\n",
    "    r2.json()['author']['writers'][0]['name'],\n",
    "    r2.json()['age']['type'],\n",
    "    r2.json()['favoriteCount'],\n",
    "    r2.json()['publishDayOfWeekList'][0],\n",
    "    ', '.join(a).replace(\" \",\"\")\n",
    "]\n",
    "b"
   ]
  },
  {
   "cell_type": "code",
   "execution_count": 53,
   "metadata": {},
   "outputs": [
    {
     "data": {
      "text/plain": [
       "{'Title': ['절대검감'],\n",
       " 'Author': ['김두루미'],\n",
       " 'Age': ['RATE_12'],\n",
       " 'Favorite': [115482],\n",
       " 'PublicDay': ['MONDAY'],\n",
       " 'HashTag': ['무협/사극,환골탈태,소설원작']}"
      ]
     },
     "execution_count": 53,
     "metadata": {},
     "output_type": "execute_result"
    }
   ],
   "source": [
    "c = {\n",
    "    'Title': [r2.json()['titleName']],\n",
    "    'Author': [r2.json()['author']['writers'][0]['name']],\n",
    "    'Age': [r2.json()['age']['type']],\n",
    "    'Favorite': [r2.json()['favoriteCount']],\n",
    "    'PublicDay': r2.json()['publishDayOfWeekList'],\n",
    "    'HashTag': [', '.join(a).replace(\" \",\"\")]\n",
    "}\n",
    "c"
   ]
  },
  {
   "cell_type": "code",
   "execution_count": 55,
   "metadata": {},
   "outputs": [],
   "source": [
    "m_df=pd.DataFrame(c)"
   ]
  },
  {
   "cell_type": "code",
   "execution_count": 57,
   "metadata": {},
   "outputs": [
    {
     "data": {
      "text/html": [
       "<div>\n",
       "<style scoped>\n",
       "    .dataframe tbody tr th:only-of-type {\n",
       "        vertical-align: middle;\n",
       "    }\n",
       "\n",
       "    .dataframe tbody tr th {\n",
       "        vertical-align: top;\n",
       "    }\n",
       "\n",
       "    .dataframe thead th {\n",
       "        text-align: right;\n",
       "    }\n",
       "</style>\n",
       "<table border=\"1\" class=\"dataframe\">\n",
       "  <thead>\n",
       "    <tr style=\"text-align: right;\">\n",
       "      <th></th>\n",
       "      <th>Title</th>\n",
       "      <th>Author</th>\n",
       "      <th>Age</th>\n",
       "      <th>Favorite</th>\n",
       "      <th>PublicDay</th>\n",
       "      <th>HashTag</th>\n",
       "    </tr>\n",
       "  </thead>\n",
       "  <tbody>\n",
       "    <tr>\n",
       "      <th>0</th>\n",
       "      <td>절대검감</td>\n",
       "      <td>김두루미</td>\n",
       "      <td>RATE_12</td>\n",
       "      <td>115482</td>\n",
       "      <td>MONDAY</td>\n",
       "      <td>무협/사극,환골탈태,소설원작</td>\n",
       "    </tr>\n",
       "  </tbody>\n",
       "</table>\n",
       "</div>"
      ],
      "text/plain": [
       "  Title Author      Age  Favorite PublicDay          HashTag\n",
       "0  절대검감   김두루미  RATE_12    115482    MONDAY  무협/사극,환골탈태,소설원작"
      ]
     },
     "execution_count": 57,
     "metadata": {},
     "output_type": "execute_result"
    }
   ],
   "source": [
    "m_df"
   ]
  },
  {
   "cell_type": "code",
   "execution_count": null,
   "metadata": {},
   "outputs": [],
   "source": [
    "## 재귀함수로 데이터프레임을 병합해야함. 아마도? 이건 좀 생각해보자"
   ]
  },
  {
   "cell_type": "code",
   "execution_count": null,
   "metadata": {},
   "outputs": [],
   "source": []
  },
  {
   "cell_type": "code",
   "execution_count": null,
   "metadata": {},
   "outputs": [],
   "source": []
  },
  {
   "cell_type": "markdown",
   "metadata": {},
   "source": [
    "# 전체 title_id를 통해 데이터프레임 만들기 "
   ]
  },
  {
   "cell_type": "code",
   "execution_count": 1,
   "metadata": {},
   "outputs": [],
   "source": [
    "import requests\n",
    "import pandas as pd"
   ]
  },
  {
   "cell_type": "code",
   "execution_count": 28,
   "metadata": {},
   "outputs": [],
   "source": [
    "# 하나의 웹툰에 저장된 정보가 담긴 url api\n",
    "### Id 부분은 format으로 동적 변경\n",
    "test_url = \"https://comic.naver.com/api/article/list/info?titleId=774866\"\n",
    "\n",
    "head2 = {'User-Agent':\n",
    "'Mozilla/5.0 (Windows NT 10.0; Win64; x64) AppleWebKit/537.36 (KHTML, like Gecko) Chrome/115.0.0.0 Safari/537.36'}"
   ]
  },
  {
   "cell_type": "code",
   "execution_count": 32,
   "metadata": {},
   "outputs": [],
   "source": [
    "t_r= requests.get(test_url, headers=head2)"
   ]
  },
  {
   "cell_type": "code",
   "execution_count": 37,
   "metadata": {},
   "outputs": [
    {
     "data": {
      "text/plain": [
       "3"
      ]
     },
     "execution_count": 37,
     "metadata": {},
     "output_type": "execute_result"
    }
   ],
   "source": [
    "t_r.json()['curationTagList'].__len__()"
   ]
  },
  {
   "cell_type": "code",
   "execution_count": 67,
   "metadata": {},
   "outputs": [
    {
     "data": {
      "text/plain": [
       "'무협/사극,사이다,힘숨찐,판무,먼치킨,소설원작'"
      ]
     },
     "execution_count": 67,
     "metadata": {},
     "output_type": "execute_result"
    }
   ],
   "source": [
    "# 'curationTagList' 부분은 딕셔너리 안에 딕셔너리 구조로 되어 있기 때문에\n",
    "## 이를 각각의 데이터를 뽑아 리스트 안에 넣었고,\n",
    "### 한 컬럼 안에 해당 데이터들을 모두 넣기 위해\n",
    "#### \", \".join() 을 통해 문자열로 변환함.\n",
    "##### 또한 replace() 를 통해 문자열 간의 공백을 없애고, ',' 로만 구분짓게 함.\n",
    "\n",
    "tmp = []\n",
    "for i in range(t_r.json()['curationTagList'].__len__()):\n",
    "    tmp.append(t_r.json()['curationTagList'][i]['tagName'])\n",
    "    \n",
    "\", \".join(tmp).replace(\" \",\"\")"
   ]
  },
  {
   "cell_type": "code",
   "execution_count": 68,
   "metadata": {},
   "outputs": [],
   "source": [
    "from tqdm import tqdm"
   ]
  },
  {
   "cell_type": "code",
   "execution_count": 69,
   "metadata": {},
   "outputs": [
    {
     "name": "stderr",
     "output_type": "stream",
     "text": [
      "100%|██████████| 619/619 [00:33<00:00, 18.71it/s]\n"
     ]
    }
   ],
   "source": [
    "test_url = \"https://comic.naver.com/api/article/list/info?titleId={}\"\n",
    "\n",
    "head = {'User-Agent':\n",
    "'Mozilla/5.0 (Windows NT 10.0; Win64; x64) AppleWebKit/537.36 (KHTML, like Gecko) Chrome/115.0.0.0 Safari/537.36'}\n",
    "\n",
    "# m_df = pd.DataFrame()\n",
    "data_list = []\n",
    "\n",
    "for x in tqdm(titleId_list) :\n",
    "    t_r= requests.get(test_url.format(x), headers=head)\n",
    "\n",
    "    # 'curationTagList' 부분은 딕셔너리 안에 딕셔너리 구조로 되어 있기 때문에\n",
    "    ## 이를 각각의 데이터를 뽑아 리스트 안에 넣었고,\n",
    "    ### 한 컬럼 안에 해당 데이터들을 모두 넣기 위해\n",
    "    #### \", \".join() 을 통해 문자열로 변환함.\n",
    "    ##### 또한 replace() 를 통해 문자열 간의 공백을 없애고, ',' 로만 구분짓게 함.\n",
    "    tmp = []\n",
    "    for i in range(t_r.json()['curationTagList'].__len__()):\n",
    "        tmp.append(t_r.json()['curationTagList'][i]['tagName'])\n",
    "        \n",
    "    tags = \", \".join(tmp).replace(\" \",\"\")\n",
    "\n",
    "    temp = {\n",
    "        'Title': t_r.json()['titleName'],\n",
    "        'Author': t_r.json()['author']['writers'][0]['name'],\n",
    "        'Age': t_r.json()['age']['type'],\n",
    "        'Favorite': t_r.json()['favoriteCount'],\n",
    "        'PublicDay': t_r.json()['publishDayOfWeekList'][0],\n",
    "        'HashTag': tags\n",
    "    }\n",
    "    data_list.append(temp)\n",
    "\n",
    "\n"
   ]
  },
  {
   "cell_type": "code",
   "execution_count": 73,
   "metadata": {},
   "outputs": [],
   "source": [
    "pd.DataFrame(data_list).to_csv(\"./webtoon.csv\", encoding=\"utf-8-sig\")"
   ]
  },
  {
   "cell_type": "code",
   "execution_count": null,
   "metadata": {},
   "outputs": [],
   "source": []
  },
  {
   "cell_type": "code",
   "execution_count": null,
   "metadata": {},
   "outputs": [],
   "source": []
  },
  {
   "cell_type": "code",
   "execution_count": null,
   "metadata": {},
   "outputs": [],
   "source": []
  },
  {
   "cell_type": "markdown",
   "metadata": {},
   "source": [
    "#### (사용X) `selenium` 을 활용한 크롤링"
   ]
  },
  {
   "cell_type": "code",
   "execution_count": null,
   "metadata": {},
   "outputs": [],
   "source": [
    "# pip install selenium"
   ]
  },
  {
   "cell_type": "code",
   "execution_count": null,
   "metadata": {},
   "outputs": [],
   "source": [
    "from selenium import webdriver\n",
    "import selenium"
   ]
  },
  {
   "cell_type": "code",
   "execution_count": null,
   "metadata": {},
   "outputs": [],
   "source": [
    "driver = webdriver.Chrome()"
   ]
  },
  {
   "cell_type": "code",
   "execution_count": null,
   "metadata": {},
   "outputs": [],
   "source": [
    "driver.get(\"https://comic.naver.com/webtoon\")"
   ]
  },
  {
   "cell_type": "code",
   "execution_count": null,
   "metadata": {},
   "outputs": [],
   "source": [
    "from selenium.webdriver.common.by import By\n",
    "driver.find_element(By.CSS_SELECTOR,\n",
    "                    \"#container > div.component_wrap.type2 > div.WeekdayMainView__daily_all_wrap--UvRFc > div:nth-child(1) > ul > li:nth-child(1) > div > a > span\").click()"
   ]
  },
  {
   "cell_type": "code",
   "execution_count": null,
   "metadata": {},
   "outputs": [],
   "source": [
    "driver.find_element(By.CSS_SELECTOR,\n",
    ").click()"
   ]
  },
  {
   "cell_type": "code",
   "execution_count": null,
   "metadata": {},
   "outputs": [],
   "source": []
  }
 ],
 "metadata": {
  "kernelspec": {
   "display_name": "venv",
   "language": "python",
   "name": "python3"
  },
  "language_info": {
   "codemirror_mode": {
    "name": "ipython",
    "version": 3
   },
   "file_extension": ".py",
   "mimetype": "text/x-python",
   "name": "python",
   "nbconvert_exporter": "python",
   "pygments_lexer": "ipython3",
   "version": "3.10.11"
  },
  "orig_nbformat": 4
 },
 "nbformat": 4,
 "nbformat_minor": 2
}
