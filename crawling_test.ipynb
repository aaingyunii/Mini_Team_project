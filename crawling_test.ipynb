{
 "cells": [
  {
   "cell_type": "code",
   "execution_count": null,
   "metadata": {},
   "outputs": [],
   "source": []
  },
  {
   "cell_type": "markdown",
   "metadata": {},
   "source": [
    "# `requests` 통해 웹 정보를 받아 크롤링"
   ]
  },
  {
   "cell_type": "code",
   "execution_count": 1,
   "metadata": {},
   "outputs": [],
   "source": [
    "import requests"
   ]
  },
  {
   "cell_type": "markdown",
   "metadata": {},
   "source": [
    "### 테스트"
   ]
  },
  {
   "cell_type": "code",
   "execution_count": 2,
   "metadata": {},
   "outputs": [],
   "source": [
    "## https://comic.naver.com/webtoon 에 접속했을 때, 요일별 현재 연재 중인 전체 웹툰이 담긴 api\n",
    "url = \"https://comic.naver.com/api/webtoon/titlelist/weekday?order=user\"\n",
    "\n",
    "head  = {'User-Agent':\n",
    "'Mozilla/5.0 (Windows NT 10.0; Win64; x64) AppleWebKit/537.36 (KHTML, like Gecko) Chrome/115.0.0.0 Safari/537.36'}\n",
    "\n",
    "r = requests.get(url, headers=head)\n",
    "# r.text"
   ]
  },
  {
   "cell_type": "code",
   "execution_count": 11,
   "metadata": {},
   "outputs": [
    {
     "data": {
      "text/plain": [
       "{'titleId': 783053,\n",
       " 'titleName': '김부장',\n",
       " 'author': '박태준 만화회사 / 정종택',\n",
       " 'thumbnailUrl': 'https://image-comic.pstatic.net/webtoon/783053/thumbnail/thumbnail_IMAG21_d7732f14-26da-4e35-8762-660cc87b53f1.jpg',\n",
       " 'up': False,\n",
       " 'rest': False,\n",
       " 'bm': False,\n",
       " 'adult': False,\n",
       " 'starScore': 9.47587,\n",
       " 'viewCount': 0,\n",
       " 'openToday': False,\n",
       " 'potenUp': False,\n",
       " 'bestChallengeLevelUp': False,\n",
       " 'finish': False,\n",
       " 'new': False}"
      ]
     },
     "execution_count": 11,
     "metadata": {},
     "output_type": "execute_result"
    }
   ],
   "source": [
    "## 하나의 웹툰 찾기\n",
    "r.json()['titleListMap']['TUESDAY'][0]"
   ]
  },
  {
   "cell_type": "code",
   "execution_count": 8,
   "metadata": {},
   "outputs": [
    {
     "data": {
      "text/plain": [
       "[783053, 784248, 796152, 790713, 789979, 730656]"
      ]
     },
     "execution_count": 8,
     "metadata": {},
     "output_type": "execute_result"
    }
   ],
   "source": [
    "### 화요일 웹툰 titleId 모으기 테스트\n",
    "\n",
    "a = []\n",
    "for i in range(r.json()['titleListMap']['TUESDAY'].__len__()):\n",
    "    a.append(r.json()['titleListMap']['TUESDAY'][i]['titleId'])\n",
    "a[:6]"
   ]
  },
  {
   "cell_type": "code",
   "execution_count": 9,
   "metadata": {},
   "outputs": [
    {
     "data": {
      "text/plain": [
       "dict_keys(['MONDAY', 'SUNDAY', 'TUESDAY', 'SATURDAY', 'THURSDAY', 'FRIDAY', 'WEDNESDAY'])"
      ]
     },
     "execution_count": 9,
     "metadata": {},
     "output_type": "execute_result"
    }
   ],
   "source": [
    "r.json()['titleListMap'].keys()"
   ]
  },
  {
   "cell_type": "code",
   "execution_count": null,
   "metadata": {},
   "outputs": [],
   "source": []
  },
  {
   "cell_type": "markdown",
   "metadata": {},
   "source": [
    "## 요일 전체 `titleId` 가져오기"
   ]
  },
  {
   "cell_type": "code",
   "execution_count": 3,
   "metadata": {},
   "outputs": [],
   "source": [
    "import requests\n",
    "from tqdm import tqdm"
   ]
  },
  {
   "cell_type": "code",
   "execution_count": 7,
   "metadata": {},
   "outputs": [],
   "source": [
    "## https://comic.naver.com/webtoon 에 접속했을 때, 요일별 현재 연재 중인 전체 웹툰이 담긴 api\n",
    "url = \"https://comic.naver.com/api/webtoon/titlelist/weekday?order=user\"\n",
    "\n",
    "head  = {'User-Agent':\n",
    "'Mozilla/5.0 (Windows NT 10.0; Win64; x64) AppleWebKit/537.36 (KHTML, like Gecko) Chrome/115.0.0.0 Safari/537.36'}\n",
    "\n",
    "r = requests.get(url, headers=head)"
   ]
  },
  {
   "cell_type": "code",
   "execution_count": null,
   "metadata": {},
   "outputs": [],
   "source": []
  },
  {
   "cell_type": "code",
   "execution_count": 5,
   "metadata": {},
   "outputs": [
    {
     "name": "stderr",
     "output_type": "stream",
     "text": [
      "100%|██████████| 7/7 [00:01<00:00,  5.83it/s]\n"
     ]
    }
   ],
   "source": [
    "week_day = list(r.json()['titleListMap'].keys()) # 요일 담은 리스트\n",
    "\n",
    "titleId_list =[]\n",
    "for i in tqdm(week_day):\n",
    "    for j in range(r.json()['titleListMap'][i].__len__()):\n",
    "        titleId_list.append(r.json()['titleListMap'][i][j]['titleId'])\n"
   ]
  },
  {
   "cell_type": "code",
   "execution_count": 6,
   "metadata": {},
   "outputs": [
    {
     "data": {
      "text/plain": [
       "622"
      ]
     },
     "execution_count": 6,
     "metadata": {},
     "output_type": "execute_result"
    }
   ],
   "source": [
    "len(titleId_list)"
   ]
  },
  {
   "cell_type": "code",
   "execution_count": 69,
   "metadata": {},
   "outputs": [],
   "source": [
    "# r.json()['titleListMap']"
   ]
  },
  {
   "cell_type": "code",
   "execution_count": 104,
   "metadata": {},
   "outputs": [],
   "source": []
  },
  {
   "cell_type": "code",
   "execution_count": 11,
   "metadata": {},
   "outputs": [],
   "source": [
    "# titleId_list\n",
    "from tqdm import tqdm"
   ]
  },
  {
   "cell_type": "code",
   "execution_count": 67,
   "metadata": {},
   "outputs": [],
   "source": [
    "# 각 웹툰 ID와 매칭되는 별점 (starScore) 값을 저장.\n",
    "# 별점은 round()를 통해 소수 둘째 자리 까지 반올림함.\n",
    "star_score_list = []\n",
    "titleId_list = []\n",
    "for day, webtoons in r.json()['titleListMap'].items():\n",
    "    for i in webtoons :\n",
    "        star_score_list.append(round(i['starScore'],2))\n",
    "        titleId_list.append(i['titleId'])\n",
    "        \n",
    "# star_score_list"
   ]
  },
  {
   "cell_type": "code",
   "execution_count": 27,
   "metadata": {},
   "outputs": [],
   "source": [
    "import pickle"
   ]
  },
  {
   "cell_type": "code",
   "execution_count": 28,
   "metadata": {},
   "outputs": [],
   "source": [
    "### 현재 연재 중인 웹툰의 ID 값을 저장한 pickle 파일\n",
    "### 매일 연재 웹툰의 개수가 달라\n",
    "### 이를 저장하여 고정되게 사용할 수 있게 함. (622개의 데이터)\n",
    "with open('webtoon_id.pkl', 'wb') as f:\n",
    "    pickle.dump(titleId_list, f)"
   ]
  },
  {
   "cell_type": "code",
   "execution_count": 29,
   "metadata": {},
   "outputs": [],
   "source": [
    "with open('webtoon_id.pkl', 'rb') as f:\n",
    "    titleId_list = pickle.load(f)"
   ]
  },
  {
   "cell_type": "code",
   "execution_count": 50,
   "metadata": {},
   "outputs": [],
   "source": [
    "with open('./webtoon_star_score.pkl', 'wb') as f:\n",
    "    pickle.dump(star_score_list, f)"
   ]
  },
  {
   "cell_type": "code",
   "execution_count": 51,
   "metadata": {},
   "outputs": [],
   "source": [
    "with open('./webtoon_star_score.pkl', 'rb') as f:\n",
    "    ssl = pickle.load(f)"
   ]
  },
  {
   "cell_type": "code",
   "execution_count": 53,
   "metadata": {},
   "outputs": [
    {
     "data": {
      "text/plain": [
       "9.93"
      ]
     },
     "execution_count": 53,
     "metadata": {},
     "output_type": "execute_result"
    }
   ],
   "source": [
    "ssl[0]"
   ]
  },
  {
   "cell_type": "code",
   "execution_count": 40,
   "metadata": {},
   "outputs": [
    {
     "data": {
      "text/plain": [
       "621"
      ]
     },
     "execution_count": 40,
     "metadata": {},
     "output_type": "execute_result"
    }
   ],
   "source": [
    "len(titleId_list)"
   ]
  },
  {
   "cell_type": "markdown",
   "metadata": {},
   "source": [
    "## 각 웹툰의 정보 크롤링"
   ]
  },
  {
   "cell_type": "code",
   "execution_count": 11,
   "metadata": {},
   "outputs": [],
   "source": [
    "import requests\n",
    "import pandas as pd"
   ]
  },
  {
   "cell_type": "markdown",
   "metadata": {},
   "source": [
    "### 테스트"
   ]
  },
  {
   "cell_type": "code",
   "execution_count": 17,
   "metadata": {},
   "outputs": [],
   "source": [
    "# 하나의 웹툰에 저장된 정보가 담긴 url api\n",
    "url2 = \"https://comic.naver.com/api/article/list/info?titleId=796075\"\n",
    "\n",
    "head2 = {'User-Agent':\n",
    "'Mozilla/5.0 (Windows NT 10.0; Win64; x64) AppleWebKit/537.36 (KHTML, like Gecko) Chrome/115.0.0.0 Safari/537.36'}"
   ]
  },
  {
   "cell_type": "code",
   "execution_count": 18,
   "metadata": {},
   "outputs": [],
   "source": [
    "r2 = requests.get(url2, headers=head2)\n",
    "# r2.text"
   ]
  },
  {
   "cell_type": "code",
   "execution_count": 68,
   "metadata": {},
   "outputs": [
    {
     "data": {
      "text/plain": [
       "dict_keys(['titleId', 'thumbnailUrl', 'posterThumbnailUrl', 'sharedThumbnailUrl', 'titleName', 'webtoonLevelCode', 'author', 'thumbnailBadgeList', 'age', 'publishDescription', 'synopsis', 'favoriteCount', 'favorite', 'firstArticle', 'publishDayOfWeekList', 'rest', 'finished', 'dailyPass', 'curationTagList', 'adBannerList', 'chargeBestChallenge', 'contentsNo', 'new'])"
      ]
     },
     "execution_count": 68,
     "metadata": {},
     "output_type": "execute_result"
    }
   ],
   "source": [
    "r2.json().keys()"
   ]
  },
  {
   "cell_type": "code",
   "execution_count": 82,
   "metadata": {},
   "outputs": [],
   "source": [
    "## 모을 데이터 컬럼:\n",
    "### \"titleId, titleName, writer, painter, age , favoriteCount, thumbnailUrl, publishDayOfWeekList, curationTagList\"\n"
   ]
  },
  {
   "cell_type": "code",
   "execution_count": 69,
   "metadata": {},
   "outputs": [
    {
     "data": {
      "text/plain": [
       "[{'id': 796075,\n",
       "  'tagName': '무협/사극',\n",
       "  'urlPath': '/webtoon?tab=genre&genre=HISTORICAL',\n",
       "  'curationType': 'GENRE_HISTORICAL'},\n",
       " {'id': 184,\n",
       "  'tagName': '환골탈태',\n",
       "  'urlPath': '/curation/list?type=CUSTOM_TAG&id=184',\n",
       "  'curationType': 'CUSTOM_TAG'},\n",
       " {'id': 796075,\n",
       "  'tagName': '소설원작',\n",
       "  'urlPath': '/curation/list?type=NOVEL_ORIGIN',\n",
       "  'curationType': 'NOVEL_ORIGIN'}]"
      ]
     },
     "execution_count": 69,
     "metadata": {},
     "output_type": "execute_result"
    }
   ],
   "source": [
    "r2.json()['curationTagList']"
   ]
  },
  {
   "cell_type": "code",
   "execution_count": 19,
   "metadata": {},
   "outputs": [],
   "source": [
    "### 만약 분석을 추가한다면?\n",
    "#### 관심도 수 와 웹툰 랭킹을 연관지을 수 있으려나?? -> 조회순으로 보여지는 각 요일의 순서 == 랭킹이라고 가정.\n"
   ]
  },
  {
   "cell_type": "code",
   "execution_count": 70,
   "metadata": {},
   "outputs": [
    {
     "data": {
      "text/plain": [
       "'절대검감'"
      ]
     },
     "execution_count": 70,
     "metadata": {},
     "output_type": "execute_result"
    }
   ],
   "source": [
    "r2.json()['titleName']"
   ]
  },
  {
   "cell_type": "code",
   "execution_count": 71,
   "metadata": {},
   "outputs": [
    {
     "data": {
      "text/plain": [
       "'김두루미'"
      ]
     },
     "execution_count": 71,
     "metadata": {},
     "output_type": "execute_result"
    }
   ],
   "source": [
    "r2.json()['author']['writers'][0]['name']"
   ]
  },
  {
   "cell_type": "code",
   "execution_count": 72,
   "metadata": {},
   "outputs": [
    {
     "data": {
      "text/plain": [
       "'RATE_12'"
      ]
     },
     "execution_count": 72,
     "metadata": {},
     "output_type": "execute_result"
    }
   ],
   "source": [
    "r2.json()['age']['type']"
   ]
  },
  {
   "cell_type": "code",
   "execution_count": 73,
   "metadata": {},
   "outputs": [
    {
     "data": {
      "text/plain": [
       "115387"
      ]
     },
     "execution_count": 73,
     "metadata": {},
     "output_type": "execute_result"
    }
   ],
   "source": [
    "r2.json()['favoriteCount']"
   ]
  },
  {
   "cell_type": "code",
   "execution_count": 74,
   "metadata": {},
   "outputs": [
    {
     "data": {
      "text/plain": [
       "'MONDAY'"
      ]
     },
     "execution_count": 74,
     "metadata": {},
     "output_type": "execute_result"
    }
   ],
   "source": [
    "r2.json()['publishDayOfWeekList'][0]"
   ]
  },
  {
   "cell_type": "code",
   "execution_count": 21,
   "metadata": {},
   "outputs": [],
   "source": [
    "a = []\n",
    "for i in range(r2.json()['curationTagList'].__len__()):\n",
    "    a.append(r2.json()['curationTagList'][i]['tagName'])\n",
    "\n"
   ]
  },
  {
   "cell_type": "code",
   "execution_count": 22,
   "metadata": {},
   "outputs": [
    {
     "data": {
      "text/plain": [
       "['무협/사극', '환골탈태', '소설원작']"
      ]
     },
     "execution_count": 22,
     "metadata": {},
     "output_type": "execute_result"
    }
   ],
   "source": [
    "a\n",
    "## 해당 리스트를 데이터프레임에서 한 컬럼안에 넣기 위해선 문자열로 바꿔야한다."
   ]
  },
  {
   "cell_type": "code",
   "execution_count": 77,
   "metadata": {},
   "outputs": [
    {
     "data": {
      "text/plain": [
       "'무협/사극,환골탈태,소설원작'"
      ]
     },
     "execution_count": 77,
     "metadata": {},
     "output_type": "execute_result"
    }
   ],
   "source": [
    "## 이후에 잘 추출하기 위해 공백을 없앰.\n",
    "', '.join(a).replace(\" \",\"\")"
   ]
  },
  {
   "cell_type": "code",
   "execution_count": 78,
   "metadata": {},
   "outputs": [
    {
     "data": {
      "text/plain": [
       "['절대검감', '김두루미', 'RATE_12', 115387, 'MONDAY', '무협/사극,환골탈태,소설원작']"
      ]
     },
     "execution_count": 78,
     "metadata": {},
     "output_type": "execute_result"
    }
   ],
   "source": [
    "b = [\n",
    "    r2.json()['titleName'],\n",
    "    r2.json()['author']['writers'][0]['name'],\n",
    "    r2.json()['age']['type'],\n",
    "    r2.json()['favoriteCount'],\n",
    "    r2.json()['publishDayOfWeekList'][0],\n",
    "    ', '.join(a).replace(\" \",\"\")\n",
    "]\n",
    "b"
   ]
  },
  {
   "cell_type": "code",
   "execution_count": 53,
   "metadata": {},
   "outputs": [
    {
     "data": {
      "text/plain": [
       "{'Title': ['절대검감'],\n",
       " 'Author': ['김두루미'],\n",
       " 'Age': ['RATE_12'],\n",
       " 'Favorite': [115482],\n",
       " 'PublicDay': ['MONDAY'],\n",
       " 'HashTag': ['무협/사극,환골탈태,소설원작']}"
      ]
     },
     "execution_count": 53,
     "metadata": {},
     "output_type": "execute_result"
    }
   ],
   "source": [
    "c = {\n",
    "    'Title': [r2.json()['titleName']],\n",
    "    'Author': [r2.json()['author']['writers'][0]['name']],\n",
    "    'Age': [r2.json()['age']['type']],\n",
    "    'Favorite': [r2.json()['favoriteCount']],\n",
    "    'PublicDay': r2.json()['publishDayOfWeekList'],\n",
    "    'HashTag': [', '.join(a).replace(\" \",\"\")]\n",
    "}\n",
    "c"
   ]
  },
  {
   "cell_type": "code",
   "execution_count": 55,
   "metadata": {},
   "outputs": [],
   "source": [
    "m_df=pd.DataFrame(c)"
   ]
  },
  {
   "cell_type": "code",
   "execution_count": 57,
   "metadata": {},
   "outputs": [
    {
     "data": {
      "text/html": [
       "<div>\n",
       "<style scoped>\n",
       "    .dataframe tbody tr th:only-of-type {\n",
       "        vertical-align: middle;\n",
       "    }\n",
       "\n",
       "    .dataframe tbody tr th {\n",
       "        vertical-align: top;\n",
       "    }\n",
       "\n",
       "    .dataframe thead th {\n",
       "        text-align: right;\n",
       "    }\n",
       "</style>\n",
       "<table border=\"1\" class=\"dataframe\">\n",
       "  <thead>\n",
       "    <tr style=\"text-align: right;\">\n",
       "      <th></th>\n",
       "      <th>Title</th>\n",
       "      <th>Author</th>\n",
       "      <th>Age</th>\n",
       "      <th>Favorite</th>\n",
       "      <th>PublicDay</th>\n",
       "      <th>HashTag</th>\n",
       "    </tr>\n",
       "  </thead>\n",
       "  <tbody>\n",
       "    <tr>\n",
       "      <th>0</th>\n",
       "      <td>절대검감</td>\n",
       "      <td>김두루미</td>\n",
       "      <td>RATE_12</td>\n",
       "      <td>115482</td>\n",
       "      <td>MONDAY</td>\n",
       "      <td>무협/사극,환골탈태,소설원작</td>\n",
       "    </tr>\n",
       "  </tbody>\n",
       "</table>\n",
       "</div>"
      ],
      "text/plain": [
       "  Title Author      Age  Favorite PublicDay          HashTag\n",
       "0  절대검감   김두루미  RATE_12    115482    MONDAY  무협/사극,환골탈태,소설원작"
      ]
     },
     "execution_count": 57,
     "metadata": {},
     "output_type": "execute_result"
    }
   ],
   "source": [
    "m_df"
   ]
  },
  {
   "cell_type": "code",
   "execution_count": null,
   "metadata": {},
   "outputs": [],
   "source": [
    "## 재귀함수로 데이터프레임을 병합해야함. 아마도? 이건 좀 생각해보자"
   ]
  },
  {
   "cell_type": "code",
   "execution_count": null,
   "metadata": {},
   "outputs": [],
   "source": []
  },
  {
   "cell_type": "code",
   "execution_count": null,
   "metadata": {},
   "outputs": [],
   "source": []
  },
  {
   "cell_type": "markdown",
   "metadata": {},
   "source": [
    "# 전체 title_id를 통해 데이터프레임 만들기 "
   ]
  },
  {
   "cell_type": "code",
   "execution_count": 2,
   "metadata": {},
   "outputs": [],
   "source": [
    "import requests\n",
    "import pandas as pd"
   ]
  },
  {
   "cell_type": "code",
   "execution_count": 3,
   "metadata": {},
   "outputs": [],
   "source": [
    "# 하나의 웹툰에 저장된 정보가 담긴 url api\n",
    "### Id 부분은 format으로 동적 변경\n",
    "detail_url = \"https://comic.naver.com/api/article/list/info?titleId=711422\"\n",
    "\n",
    "head = {'User-Agent':\n",
    "'Mozilla/5.0 (Windows NT 10.0; Win64; x64) AppleWebKit/537.36 (KHTML, like Gecko) Chrome/115.0.0.0 Safari/537.36'}"
   ]
  },
  {
   "cell_type": "code",
   "execution_count": 4,
   "metadata": {},
   "outputs": [],
   "source": [
    "r2= requests.get(detail_url, headers=head)"
   ]
  },
  {
   "cell_type": "code",
   "execution_count": 81,
   "metadata": {},
   "outputs": [
    {
     "data": {
      "text/plain": [
       "['TUESDAY', 'FRIDAY']"
      ]
     },
     "execution_count": 81,
     "metadata": {},
     "output_type": "execute_result"
    }
   ],
   "source": [
    "r2.json()['publishDayOfWeekList']"
   ]
  },
  {
   "cell_type": "code",
   "execution_count": null,
   "metadata": {},
   "outputs": [],
   "source": []
  },
  {
   "cell_type": "code",
   "execution_count": 73,
   "metadata": {},
   "outputs": [
    {
     "data": {
      "text/plain": [
       "dict_keys(['titleId', 'thumbnailUrl', 'posterThumbnailUrl', 'sharedThumbnailUrl', 'titleName', 'webtoonLevelCode', 'author', 'thumbnailBadgeList', 'age', 'publishDescription', 'synopsis', 'favoriteCount', 'favorite', 'firstArticle', 'publishDayOfWeekList', 'rest', 'finished', 'dailyPass', 'curationTagList', 'adBannerList', 'chargeBestChallenge', 'contentsNo', 'new'])"
      ]
     },
     "execution_count": 73,
     "metadata": {},
     "output_type": "execute_result"
    }
   ],
   "source": [
    "r2.json().keys()"
   ]
  },
  {
   "cell_type": "code",
   "execution_count": 84,
   "metadata": {},
   "outputs": [
    {
     "data": {
      "text/plain": [
       "int"
      ]
     },
     "execution_count": 84,
     "metadata": {},
     "output_type": "execute_result"
    }
   ],
   "source": [
    "type(r2.json()['favoriteCount'])"
   ]
  },
  {
   "cell_type": "code",
   "execution_count": 81,
   "metadata": {},
   "outputs": [
    {
     "data": {
      "text/plain": [
       "'김현수'"
      ]
     },
     "execution_count": 81,
     "metadata": {},
     "output_type": "execute_result"
    }
   ],
   "source": [
    "r2.json()['author']['painters'][0]['name']"
   ]
  },
  {
   "cell_type": "code",
   "execution_count": 22,
   "metadata": {},
   "outputs": [
    {
     "data": {
      "text/plain": [
       "'https://image-comic.pstatic.net/webtoon/774866/thumbnail/thumbnail_IMAG21_46cf2e65-7b7c-4fb7-8f54-0078456d8ff0.jpg'"
      ]
     },
     "execution_count": 22,
     "metadata": {},
     "output_type": "execute_result"
    }
   ],
   "source": [
    "r2.json()['thumbnailUrl']"
   ]
  },
  {
   "cell_type": "code",
   "execution_count": 14,
   "metadata": {},
   "outputs": [
    {
     "data": {
      "text/plain": [
       "3"
      ]
     },
     "execution_count": 14,
     "metadata": {},
     "output_type": "execute_result"
    }
   ],
   "source": [
    "r2.json()['curationTagList'].__len__()"
   ]
  },
  {
   "cell_type": "code",
   "execution_count": 15,
   "metadata": {},
   "outputs": [
    {
     "data": {
      "text/plain": [
       "'스릴러,2020지상최대공모전,서스펜스'"
      ]
     },
     "execution_count": 15,
     "metadata": {},
     "output_type": "execute_result"
    }
   ],
   "source": [
    "# 'curationTagList' 부분은 딕셔너리 안에 딕셔너리 구조로 되어 있기 때문에\n",
    "## 이를 각각의 데이터를 뽑아 리스트 안에 넣었고,\n",
    "### 한 컬럼 안에 해당 데이터들을 모두 넣기 위해\n",
    "#### \", \".join() 을 통해 문자열로 변환함.\n",
    "##### 또한 replace() 를 통해 문자열 간의 공백을 없애고, ',' 로만 구분짓게 함.\n",
    "\n",
    "tmp = []\n",
    "for i in range(r2.json()['curationTagList'].__len__()):\n",
    "    tmp.append(r2.json()['curationTagList'][i]['tagName'])\n",
    "\n",
    "\", \".join(tmp).replace(\" \",\"\")"
   ]
  },
  {
   "cell_type": "code",
   "execution_count": 98,
   "metadata": {},
   "outputs": [
    {
     "data": {
      "text/plain": [
       "'TUESDAY,FRIDAY'"
      ]
     },
     "execution_count": 98,
     "metadata": {},
     "output_type": "execute_result"
    }
   ],
   "source": [
    "tmp2 = []\n",
    "for i in range(r2.json()['publishDayOfWeekList'].__len__()):\n",
    "    tmp2.append(r2.json()['publishDayOfWeekList'][i])   \n",
    "days = \", \".join(tmp2).replace(\" \",\"\")\n",
    "days"
   ]
  },
  {
   "cell_type": "code",
   "execution_count": 15,
   "metadata": {},
   "outputs": [],
   "source": [
    "import pickle"
   ]
  },
  {
   "cell_type": "code",
   "execution_count": 16,
   "metadata": {},
   "outputs": [],
   "source": [
    "with open('./webtoon_id.pkl','rb') as f:\n",
    "    titleId_list = pickle.load(f)"
   ]
  },
  {
   "cell_type": "code",
   "execution_count": 13,
   "metadata": {},
   "outputs": [],
   "source": [
    "import requests\n",
    "from tqdm import tqdm\n",
    "import pandas as pd"
   ]
  },
  {
   "cell_type": "code",
   "execution_count": 33,
   "metadata": {},
   "outputs": [
    {
     "name": "stderr",
     "output_type": "stream",
     "text": [
      "100%|██████████| 622/622 [00:27<00:00, 22.47it/s]\n"
     ]
    }
   ],
   "source": [
    "detail_url = \"https://comic.naver.com/api/article/list/info?titleId={}\"\n",
    "\n",
    "head = {'User-Agent':\n",
    "'Mozilla/5.0 (Windows NT 10.0; Win64; x64) AppleWebKit/537.36 (KHTML, like Gecko) Chrome/115.0.0.0 Safari/537.36'}\n",
    "\n",
    "data_list = []\n",
    "\n",
    "for x in tqdm(titleId_list) :\n",
    "    r2= requests.get(detail_url.format(x), headers=head)\n",
    "\n",
    "    # 'curationTagList' 부분은 딕셔너리 안에 딕셔너리 구조로 되어 있기 때문에\n",
    "    ## 이를 각각의 데이터를 뽑아 리스트 안에 넣었고,\n",
    "    ### 한 컬럼 안에 해당 데이터들을 모두 넣기 위해\n",
    "    #### \", \".join() 을 통해 문자열로 변환함.\n",
    "    ##### 또한 replace() 를 통해 문자열 간의 공백을 없애고, ',' 로만 구분짓게 함.\n",
    "    tmp = []\n",
    "    for i in range(r2.json()['curationTagList'].__len__()):\n",
    "        tmp.append(r2.json()['curationTagList'][i]['tagName'])\n",
    "        \n",
    "    tags = \", \".join(tmp).replace(\" \",\"\")\n",
    "\n",
    "    temp = {\n",
    "        'Id' : x,\n",
    "        'Title': r2.json()['titleName'],\n",
    "        'Writer': r2.json()['author']['writers'][0]['name'],\n",
    "        'Painter' : r2.json()['author']['painters'][0]['name'],\n",
    "        'Age': r2.json()['age']['type'],\n",
    "        'Favorite': r2.json()['favoriteCount'],\n",
    "        'ThumbnailUrl' :  r2.json()['thumbnailUrl'],\n",
    "        'PublishDay': r2.json()['publishDayOfWeekList'],\n",
    "        'HashTags': tags\n",
    "    }\n",
    "    data_list.append(temp)\n",
    "\n",
    "\n"
   ]
  },
  {
   "cell_type": "code",
   "execution_count": 18,
   "metadata": {},
   "outputs": [
    {
     "data": {
      "text/plain": [
       "'무협/사극'"
      ]
     },
     "execution_count": 18,
     "metadata": {},
     "output_type": "execute_result"
    }
   ],
   "source": [
    "tags"
   ]
  },
  {
   "cell_type": "code",
   "execution_count": 100,
   "metadata": {},
   "outputs": [
    {
     "data": {
      "text/html": [
       "<div>\n",
       "<style scoped>\n",
       "    .dataframe tbody tr th:only-of-type {\n",
       "        vertical-align: middle;\n",
       "    }\n",
       "\n",
       "    .dataframe tbody tr th {\n",
       "        vertical-align: top;\n",
       "    }\n",
       "\n",
       "    .dataframe thead th {\n",
       "        text-align: right;\n",
       "    }\n",
       "</style>\n",
       "<table border=\"1\" class=\"dataframe\">\n",
       "  <thead>\n",
       "    <tr style=\"text-align: right;\">\n",
       "      <th></th>\n",
       "      <th>Id</th>\n",
       "      <th>Title</th>\n",
       "      <th>Writer</th>\n",
       "      <th>Painter</th>\n",
       "      <th>Age</th>\n",
       "      <th>Favorite</th>\n",
       "      <th>ThumbnailUrl</th>\n",
       "      <th>PublishDay</th>\n",
       "      <th>HashTags</th>\n",
       "    </tr>\n",
       "  </thead>\n",
       "  <tbody>\n",
       "    <tr>\n",
       "      <th>383</th>\n",
       "      <td>641253</td>\n",
       "      <td>외모지상주의</td>\n",
       "      <td>박태준</td>\n",
       "      <td>박태준</td>\n",
       "      <td>RATE_15</td>\n",
       "      <td>2361336</td>\n",
       "      <td>https://image-comic.pstatic.net/webtoon/641253...</td>\n",
       "      <td>FRIDAY</td>\n",
       "      <td>드라마,학원물,먼치킨</td>\n",
       "    </tr>\n",
       "    <tr>\n",
       "      <th>224</th>\n",
       "      <td>183559</td>\n",
       "      <td>신의 탑</td>\n",
       "      <td>SIU</td>\n",
       "      <td>SIU</td>\n",
       "      <td>RATE_12</td>\n",
       "      <td>1965213</td>\n",
       "      <td>https://image-comic.pstatic.net/webtoon/183559...</td>\n",
       "      <td>MONDAY</td>\n",
       "      <td>판타지,세계관,이능력배틀물,소년왕도물,먼치킨</td>\n",
       "    </tr>\n",
       "    <tr>\n",
       "      <th>372</th>\n",
       "      <td>597447</td>\n",
       "      <td>프리드로우</td>\n",
       "      <td>전선욱</td>\n",
       "      <td>전선욱</td>\n",
       "      <td>RATE_15</td>\n",
       "      <td>1631773</td>\n",
       "      <td>https://image-comic.pstatic.net/webtoon/597447...</td>\n",
       "      <td>SATURDAY</td>\n",
       "      <td>드라마,힘숨찐,학원물,성장드라마</td>\n",
       "    </tr>\n",
       "    <tr>\n",
       "      <th>251</th>\n",
       "      <td>602910</td>\n",
       "      <td>윈드브레이커</td>\n",
       "      <td>조용석</td>\n",
       "      <td>조용석</td>\n",
       "      <td>RATE_12</td>\n",
       "      <td>1149312</td>\n",
       "      <td>https://image-comic.pstatic.net/webtoon/602910...</td>\n",
       "      <td>MONDAY</td>\n",
       "      <td>스포츠,스포츠성장</td>\n",
       "    </tr>\n",
       "    <tr>\n",
       "      <th>267</th>\n",
       "      <td>769209</td>\n",
       "      <td>화산귀환</td>\n",
       "      <td>LICO</td>\n",
       "      <td>LICO</td>\n",
       "      <td>RATE_15</td>\n",
       "      <td>1137254</td>\n",
       "      <td>https://image-comic.pstatic.net/webtoon/769209...</td>\n",
       "      <td>WEDNESDAY</td>\n",
       "      <td>무협/사극,세계관,동양풍판타지,회귀,힘숨찐,이세계,먼치킨,소설원작</td>\n",
       "    </tr>\n",
       "  </tbody>\n",
       "</table>\n",
       "</div>"
      ],
      "text/plain": [
       "         Id   Title Writer Painter      Age  Favorite  \\\n",
       "383  641253  외모지상주의    박태준     박태준  RATE_15   2361336   \n",
       "224  183559    신의 탑    SIU     SIU  RATE_12   1965213   \n",
       "372  597447   프리드로우    전선욱     전선욱  RATE_15   1631773   \n",
       "251  602910  윈드브레이커    조용석     조용석  RATE_12   1149312   \n",
       "267  769209    화산귀환   LICO    LICO  RATE_15   1137254   \n",
       "\n",
       "                                          ThumbnailUrl PublishDay  \\\n",
       "383  https://image-comic.pstatic.net/webtoon/641253...     FRIDAY   \n",
       "224  https://image-comic.pstatic.net/webtoon/183559...     MONDAY   \n",
       "372  https://image-comic.pstatic.net/webtoon/597447...   SATURDAY   \n",
       "251  https://image-comic.pstatic.net/webtoon/602910...     MONDAY   \n",
       "267  https://image-comic.pstatic.net/webtoon/769209...  WEDNESDAY   \n",
       "\n",
       "                                 HashTags  \n",
       "383                           드라마,학원물,먼치킨  \n",
       "224              판타지,세계관,이능력배틀물,소년왕도물,먼치킨  \n",
       "372                     드라마,힘숨찐,학원물,성장드라마  \n",
       "251                             스포츠,스포츠성장  \n",
       "267  무협/사극,세계관,동양풍판타지,회귀,힘숨찐,이세계,먼치킨,소설원작  "
      ]
     },
     "execution_count": 100,
     "metadata": {},
     "output_type": "execute_result"
    }
   ],
   "source": [
    "pd.DataFrame(data_list).sort_values('Favorite',ascending=False).head()"
   ]
  },
  {
   "cell_type": "code",
   "execution_count": 1,
   "metadata": {},
   "outputs": [
    {
     "ename": "NameError",
     "evalue": "name 'r2' is not defined",
     "output_type": "error",
     "traceback": [
      "\u001b[1;31m---------------------------------------------------------------------------\u001b[0m",
      "\u001b[1;31mNameError\u001b[0m                                 Traceback (most recent call last)",
      "Cell \u001b[1;32mIn[1], line 1\u001b[0m\n\u001b[1;32m----> 1\u001b[0m r2\u001b[39m.\u001b[39mjson()[\u001b[39m'\u001b[39m\u001b[39mStarScore\u001b[39m\u001b[39m'\u001b[39m]\n",
      "\u001b[1;31mNameError\u001b[0m: name 'r2' is not defined"
     ]
    }
   ],
   "source": [
    "r2.json()['StarScore']"
   ]
  },
  {
   "cell_type": "code",
   "execution_count": 119,
   "metadata": {},
   "outputs": [],
   "source": [
    "pd.DataFrame(data_list).to_csv(\"./webtoon.csv\", encoding=\"utf-8-sig\", index=False)"
   ]
  },
  {
   "cell_type": "code",
   "execution_count": 2,
   "metadata": {},
   "outputs": [],
   "source": [
    "import pandas as pd"
   ]
  },
  {
   "cell_type": "code",
   "execution_count": null,
   "metadata": {},
   "outputs": [],
   "source": []
  },
  {
   "cell_type": "code",
   "execution_count": null,
   "metadata": {},
   "outputs": [],
   "source": [
    "#### doc string 활용 내용\n",
    "\n",
    "## 컬럼 설명\n",
    "# Id 웹툰 id 값\n",
    "# Title 웹툰 제목\n",
    "# Writer 글 작가\n",
    "# Painter 그림 작가\n",
    "# Age 시청 연령\n",
    "# Favorite 관심도 수\n",
    "# ThumbnailUrl 썸네일 사진 링크\n",
    "# PublishDay 연재 요일\n",
    "# HashTags 웹툰 내용 관련 해시태그"
   ]
  },
  {
   "cell_type": "code",
   "execution_count": 56,
   "metadata": {},
   "outputs": [],
   "source": [
    "with open('./webtoon_id.pkl', 'rb') as f:\n",
    "    webtoon_ids = pickle.load(f)"
   ]
  },
  {
   "cell_type": "code",
   "execution_count": 60,
   "metadata": {},
   "outputs": [],
   "source": [
    "# webtoon_ids"
   ]
  },
  {
   "cell_type": "code",
   "execution_count": 59,
   "metadata": {},
   "outputs": [],
   "source": [
    "with open('./webtoon_star_score.pkl', 'rb') as f:\n",
    "    stars = pickle.load(f)"
   ]
  },
  {
   "cell_type": "code",
   "execution_count": null,
   "metadata": {},
   "outputs": [],
   "source": []
  },
  {
   "cell_type": "code",
   "execution_count": 64,
   "metadata": {},
   "outputs": [
    {
     "name": "stderr",
     "output_type": "stream",
     "text": [
      "100%|██████████| 621/621 [00:58<00:00, 10.71it/s]\n"
     ]
    }
   ],
   "source": [
    "# 각 웹툰의 상세 내용이 담긴 API 주소값\n",
    "detail_url = \"https://comic.naver.com/api/article/list/info?titleId={}\"\n",
    "\n",
    "data_list = []\n",
    "for k in tqdm(range(len(webtoon_ids))) :\n",
    "        x = webtoon_ids[k]\n",
    "        \n",
    "        r2= requests.get(detail_url.format(x), headers=head)\n",
    "\n",
    "        # 해시태그 값들을 저장하기 위한 빈 리스트\n",
    "        \n",
    "        # 'curationTagList' 부분은 딕셔너리 안에 딕셔너리 구조로 되어 있기 때문에\n",
    "        ## 이를 각각의 데이터를 뽑아 리스트 안에 넣었고,\n",
    "        ### 한 컬럼 안에 해당 데이터들을 모두 넣기 위해\n",
    "        #### \", \".join() 을 통해 문자열로 변환함.\n",
    "        ##### 또한 replace() 를 통해 문자열 간의 공백을 없애고, ',' 로만 구분짓게 함.\n",
    "        tmp = [] \n",
    "        for i in range(r2.json()['curationTagList'].__len__()):\n",
    "            tmp.append(r2.json()['curationTagList'][i]['tagName'])\n",
    "        tags = \", \".join(tmp).replace(\" \",\"\")\n",
    "\n",
    "        # 해시태그와 같은 이유로 구현.\n",
    "        ## 일주일에 두 번이상 연재하는 웹툰이 있긴 때문에 컬럼 값에 해당 내용을 모두 저장하기 위해서\n",
    "        tmp2 = []\n",
    "        for i in range(r2.json()['publishDayOfWeekList'].__len__()):\n",
    "            tmp2.append(r2.json()['publishDayOfWeekList'][i])   \n",
    "        days = \", \".join(tmp2).replace(\" \",\"\")\n",
    "\n",
    "        # 최종 데이터프레임에 저장될 각각의 값들에 해당하는 dict 변수.\n",
    "        temp = {\n",
    "            'WebtoonId' : x,\n",
    "            'Title': r2.json()['titleName'],\n",
    "            'Writer': r2.json()['author']['writers'][0]['name'],\n",
    "            'Painter' : r2.json()['author']['painters'][0]['name'],\n",
    "            'Age': r2.json()['age']['type'],\n",
    "            'Favorite': r2.json()['favoriteCount'],\n",
    "            'StarScore': stars[k],\n",
    "            'ThumbnailUrl' :  r2.json()['thumbnailUrl'],\n",
    "            'PublishDay': days,\n",
    "            'HashTags': tags\n",
    "        }\n",
    "        \n",
    "        \n",
    "        data_list.append(temp)\n"
   ]
  },
  {
   "cell_type": "code",
   "execution_count": 66,
   "metadata": {},
   "outputs": [],
   "source": [
    "    \n",
    "df = pd.DataFrame(data_list)\n",
    "# df"
   ]
  },
  {
   "cell_type": "code",
   "execution_count": null,
   "metadata": {},
   "outputs": [],
   "source": []
  },
  {
   "cell_type": "code",
   "execution_count": 115,
   "metadata": {},
   "outputs": [],
   "source": []
  },
  {
   "cell_type": "markdown",
   "metadata": {},
   "source": [
    "## MySQL DB 테이블 만들고 데이터 삽입"
   ]
  },
  {
   "cell_type": "code",
   "execution_count": 61,
   "metadata": {},
   "outputs": [],
   "source": [
    "import pymysql"
   ]
  },
  {
   "cell_type": "code",
   "execution_count": 69,
   "metadata": {},
   "outputs": [],
   "source": [
    "try:\n",
    "    con = pymysql.connect(host='127.0.0.1', user='root', password='8489',  db='encore', charset='utf8')\n",
    "    cur = con.cursor()\n",
    "except Exception as e:\n",
    "    print (e)    "
   ]
  },
  {
   "cell_type": "code",
   "execution_count": 77,
   "metadata": {},
   "outputs": [
    {
     "data": {
      "text/plain": [
       "True"
      ]
     },
     "execution_count": 77,
     "metadata": {},
     "output_type": "execute_result"
    }
   ],
   "source": [
    "\n",
    "check = cur.execute(\"show tables like 'webtoon'\")\n",
    "check == True"
   ]
  },
  {
   "cell_type": "code",
   "execution_count": 63,
   "metadata": {},
   "outputs": [],
   "source": [
    "cr_table = \"\"\"CREATE TABLE webtoon(\n",
    "    Id INT(11) NOT NULL PRIMARY KEY,\n",
    "    Title VARCHAR(255),\n",
    "    Writer VARCHAR(255),\n",
    "    Painter VARCHAR(255),\n",
    "    Age VARCHAR(255),\n",
    "    Favorite INT(11),\n",
    "    ThumbnailUrl VARCHAR(255),\n",
    "    PublishDay VARCHAR(255),\n",
    "    HashTags VARCHAR(255)\n",
    ")\n",
    "\"\"\""
   ]
  },
  {
   "cell_type": "code",
   "execution_count": 64,
   "metadata": {},
   "outputs": [
    {
     "data": {
      "text/plain": [
       "0"
      ]
     },
     "execution_count": 64,
     "metadata": {},
     "output_type": "execute_result"
    }
   ],
   "source": [
    "cur.execute(cr_table)"
   ]
  },
  {
   "cell_type": "code",
   "execution_count": 65,
   "metadata": {},
   "outputs": [
    {
     "data": {
      "text/plain": [
       "9"
      ]
     },
     "execution_count": 65,
     "metadata": {},
     "output_type": "execute_result"
    }
   ],
   "source": [
    "cur.execute(\"show tables\")"
   ]
  },
  {
   "cell_type": "code",
   "execution_count": 66,
   "metadata": {},
   "outputs": [],
   "source": [
    "sql = \"INSERT INTO webtoon VALUES(%s, %s, %s, %s, %s, %s, %s, %s, %s)\""
   ]
  },
  {
   "cell_type": "code",
   "execution_count": 67,
   "metadata": {},
   "outputs": [],
   "source": [
    "import csv"
   ]
  },
  {
   "cell_type": "code",
   "execution_count": 68,
   "metadata": {},
   "outputs": [
    {
     "name": "stderr",
     "output_type": "stream",
     "text": [
      "623it [00:00, 6498.59it/s]"
     ]
    },
    {
     "name": "stdout",
     "output_type": "stream",
     "text": [
      "(1062, \"Duplicate entry '800312' for key 'PRIMARY'\")\n",
      "(1062, \"Duplicate entry '811721' for key 'PRIMARY'\")\n",
      "(1062, \"Duplicate entry '812851' for key 'PRIMARY'\")\n",
      "(1062, \"Duplicate entry '711422' for key 'PRIMARY'\")\n",
      "(1062, \"Duplicate entry '814048' for key 'PRIMARY'\")\n",
      "(1062, \"Duplicate entry '812168' for key 'PRIMARY'\")\n",
      "(1062, \"Duplicate entry '801589' for key 'PRIMARY'\")\n",
      "(1062, \"Duplicate entry '812354' for key 'PRIMARY'\")\n",
      "(1062, \"Duplicate entry '616239' for key 'PRIMARY'\")\n",
      "(1062, \"Duplicate entry '802039' for key 'PRIMARY'\")\n",
      "(1062, \"Duplicate entry '799267' for key 'PRIMARY'\")\n",
      "(1062, \"Duplicate entry '814541' for key 'PRIMARY'\")\n",
      "(1062, \"Duplicate entry '804333' for key 'PRIMARY'\")\n",
      "(1062, \"Duplicate entry '814398' for key 'PRIMARY'\")\n",
      "(1062, \"Duplicate entry '790713' for key 'PRIMARY'\")\n",
      "(1062, \"Duplicate entry '800506' for key 'PRIMARY'\")\n"
     ]
    },
    {
     "name": "stderr",
     "output_type": "stream",
     "text": [
      "\n"
     ]
    }
   ],
   "source": [
    "with open(\"./webtoon.csv\", \"r\", encoding='utf-8-sig') as csvfile:\n",
    "    spamreader = csv.reader(csvfile, delimiter=',')\n",
    "    for idx,row in tqdm(enumerate(spamreader)):\n",
    "        # print(idx,', '.join(row))\n",
    "        if idx > 0:\n",
    "            try:\n",
    "                cur.execute(sql,row)\n",
    "            except Exception as e:\n",
    "                print(e)"
   ]
  },
  {
   "cell_type": "code",
   "execution_count": 57,
   "metadata": {},
   "outputs": [
    {
     "data": {
      "text/plain": [
       "['814149',\n",
       " '집착광공 집사전락',\n",
       " '마자',\n",
       " '마자',\n",
       " 'ALL',\n",
       " '13197',\n",
       " 'https://image-comic.pstatic.net/webtoon/814149/thumbnail/thumbnail_IMAG21_1cf527a2-606b-410a-b74c-b17bf938491e.jpg',\n",
       " 'SUNDAY',\n",
       " '개그,집착물']"
      ]
     },
     "execution_count": 57,
     "metadata": {},
     "output_type": "execute_result"
    }
   ],
   "source": [
    "row"
   ]
  },
  {
   "cell_type": "code",
   "execution_count": 49,
   "metadata": {},
   "outputs": [
    {
     "name": "stdout",
     "output_type": "stream",
     "text": [
      "Id, Title, Writer, Painter, Age, Favorite, ThumbnailUrl, PublishDay, HashTags\n",
      "762279, 정글쥬스, 형은, 쥬더, RATE_15, 382415, https://image-comic.pstatic.net/webtoon/762279/thumbnail/thumbnail_IMAG21_715e8b9b-f6e7-48fc-af26-88fdf50ff7c5.jpg, THURSDAY, 액션,슈퍼스트링,이능력배틀물,먼치킨\n",
      "799503, 간첩 18세, 팀꿀빨, 김주인, RATE_15, 87773, https://image-comic.pstatic.net/webtoon/799503/thumbnail/thumbnail_IMAG21_34f3cf97-e658-48bd-80c2-ca4397b1ecfd.jpg, SATURDAY, 액션,학원물\n",
      "808265, 방송은 방송으로 봐, 박은혁, 박은혁, RATE_15, 32142, https://image-comic.pstatic.net/webtoon/808265/thumbnail/thumbnail_IMAG21_9efa88c9-cd85-41c2-8c4c-8dea39c6acd9.jpg, SATURDAY, 드라마\n",
      "776668, 마왕까지 한 걸음, 윤홍, 윤홍, RATE_15, 153666, https://image-comic.pstatic.net/webtoon/776668/thumbnail/thumbnail_IMAG21_82e1a5b6-754c-425b-af4b-e89382f35997.jpg, THURSDAY, 판타지,힘숨찐\n",
      "797468, 누나! 나 무서워, 디귿 , 디귿 , RATE_15, 72950, https://image-comic.pstatic.net/webtoon/797468/thumbnail/thumbnail_IMAG21_31b5356a-65c6-4ae3-a8af-92b1c959357f.jpg, THURSDAY, 스릴러,4차원,학원물,괴담\n",
      "808508, 줄리에게, 제야, 제야, ALL, 27890, https://image-comic.pstatic.net/webtoon/808508/thumbnail/thumbnail_IMAG21_84327107-e80b-4f50-8125-35ae8978e7ec.jpg, WEDNESDAY, 로맨스\n",
      "811255, 멸망으로 시작하는! 근미래 생존법, 김부농, 김부농, RATE_12, 12703, https://image-comic.pstatic.net/webtoon/811255/thumbnail/thumbnail_IMAG21_96bce722-8991-4b3f-af64-5374b14796a6.jpg, SATURDAY, 판타지,세계관,2021지상최대공모전,두뇌싸움\n",
      "748831, 별을 삼킨 너에게, ARI, ARI, RATE_15, 463765, https://image-comic.pstatic.net/webtoon/748831/thumbnail/thumbnail_IMAG21_b08f61b4-c656-4e16-8d07-c3ea3a64c77c.jpg, THURSDAY, 로맨스,아이돌,최강자전,2019최강자전,친구>연인,연상연하,연예계,삼각관계\n",
      "809706, 사랑받는 시집살이, 견이, 견이, ALL, 125061, https://image-comic.pstatic.net/webtoon/809706/thumbnail/thumbnail_IMAG21_e36ff5e5-2edf-417d-ae14-c5fa9d8ca924.jpg, SUNDAY, 로맨스,요즘핫한추천작,러블리,힐링,로판,소설원작\n",
      "730694, 초인의 시대, 섭이, 섭이, RATE_15, 420568, https://image-comic.pstatic.net/webtoon/730694/thumbnail/thumbnail_IMAG21_e6fc219d-e5ea-4d93-b7d6-45b595c2a3cb.jpeg, SATURDAY, 액션,최강자전,2018최강자전,이능력배틀물,소년왕도물\n",
      "776256, 역주행!, 김현아, 김현아, ALL, 48568, https://image-comic.pstatic.net/webtoon/776256/thumbnail/thumbnail_IMAG21_d520a876-7403-4349-a56a-f1203882bed2.jpg, MONDAY, 드라마,아이돌,아이돌연애,연예계\n",
      "644112, 몽홀, 장태산, 장태산, ALL, 94748, https://image-comic.pstatic.net/webtoon/644112/thumbnail/thumbnail_IMAG21_3618981192359294768.jpg, FRIDAY, 무협/사극,역사물\n",
      "780404, 물위의 우리, 뱁새, 왈패, RATE_15, 390273, https://image-comic.pstatic.net/webtoon/780404/thumbnail/thumbnail_IMAG21_e9eccbd9-b1c1-49b9-81a8-5bee3291315f.jpg, SATURDAY, 드라마,최강자전,2020최강자전,아포칼립스\n",
      "794421, 북부 공작님을 유혹하겠습니다, 가천가, 은하수, ALL, 254607, https://image-comic.pstatic.net/webtoon/794421/thumbnail/thumbnail_IMAG21_65e1c328-a2e5-42f6-86ef-47d7424bb44e.jpg, MONDAY, 로맨스,로판,소설원작\n",
      "803792, 연애의 기록, 베어리, 베어리, RATE_15, 23232, https://image-comic.pstatic.net/webtoon/803792/thumbnail/thumbnail_IMAG21_ceb2e7d1-abc4-4351-823d-c410ffb1d379.jpg, FRIDAY, 드라마\n",
      "729036, 합법해적 파르페, 뼈피살, 뼈피살, ALL, 51323, https://image-comic.pstatic.net/webtoon/729036/thumbnail/thumbnail_IMAG21_e7de7318-0952-49a2-9e24-335e0a321ce8.jpg, FRIDAY, 판타지,최강자전,2017최강자전\n",
      "741467, 너의 미소가 함정, 앵고, 앵고, ALL, 226248, https://image-comic.pstatic.net/webtoon/741467/thumbnail/thumbnail_IMAG21_ea059962-650e-4424-ae2c-6d1dea40fec4.jpg, FRIDAY, 로맨스,하이틴\n",
      "812168, 강아지는 멍멍하고 짖지 않아!, 얄라리, 얄라리, ALL, 21775, https://image-comic.pstatic.net/webtoon/812168/thumbnail/thumbnail_IMAG21_b0c2ba00-3f16-4e96-923f-920a746aa883.jpg, WEDNESDAY, 일상,무해한,힐링\n",
      "809694, 첫사랑은 헤이트, 망두, 망두, RATE_12, 125116, https://image-comic.pstatic.net/webtoon/809694/thumbnail/thumbnail_IMAG21_2dded0a5-e188-4ed4-8139-d273185aedb2.jpg, SATURDAY, 로맨스,캠퍼스로맨스\n",
      "812339, 괴양이, 붉은코끼리, 붉은코끼리, RATE_15, 40348, https://image-comic.pstatic.net/webtoon/812339/thumbnail/thumbnail_IMAG21_47abc151-1d2a-4b83-b63c-95dbe3771f3d.jpg, SATURDAY, 개그,동물,구원서사\n",
      "790404, 쓰레기는 쓰레기통에!, EDDiERiNG, EDDiERiNG, RATE_15, 263960, https://image-comic.pstatic.net/webtoon/790404/thumbnail/thumbnail_IMAG21_13c8b97c-3eba-4a3f-ad14-a7bcc4ec593d.jpg, WEDNESDAY, 로맨스,계략여주,2021지상최대공모전,현실로맨스,서스펜스\n",
      "805893, 연기는 처음인데요?!, 홍로베, 앨렴, ALL, 33352, https://image-comic.pstatic.net/webtoon/805893/thumbnail/thumbnail_IMAG21_bfdc4017-7983-4474-90bc-854779bdbdbf.jpg, FRIDAY, 로맨스,학원로맨스,하이틴,청춘로맨스,연예계,성장드라마\n",
      "814310, 흑요석의 신부, 왕보라청푸름, 팀 쿼츠, RATE_15, 35662, https://image-comic.pstatic.net/webtoon/814310/thumbnail/thumbnail_IMAG21_fcc13386-dc54-4e27-a91b-c64bf0616003.jpg, FRIDAY, 로맨스,요즘핫한추천작,로판\n",
      "814048, 마님이네 미국 시골집 이야기, 마님, 마님, ALL, 29408, https://image-comic.pstatic.net/webtoon/814048/thumbnail/thumbnail_IMAG21_234ffc80-64de-4765-b059-6888ae0a9fae.jpg, WEDNESDAY, 일상,러블리,힐링,동물\n",
      "807582, 랜덤타겟, 이니, 정유한, ALL, 76308, https://image-comic.pstatic.net/webtoon/807582/thumbnail/thumbnail_IMAG21_1c7a2387-173f-4def-8764-f3060c169275.jpg, TUESDAY, 로맨스\n",
      "805405, 신혼부부 생활 백서, 문나영, 문나영, RATE_15, 53343, https://image-comic.pstatic.net/webtoon/805405/thumbnail/thumbnail_IMAG21_74098c45-0052-46e7-affc-91013b2e3c0a.jpg, SUNDAY, 로맨스,2030연애,계약연애,현실로맨스,선결혼후연애,소설원작\n",
      "767908, 아이즈, 정썸머, 정썸머, RATE_15, 88083, https://image-comic.pstatic.net/webtoon/767908/thumbnail/thumbnail_IMAG21_133544d1-6655-47ac-99ce-00da2f3cdc17.jpg, TUESDAY, 액션,2019지상최대공모전,이능력배틀물,인외존재\n",
      "794156, 지옥연애환담, 황도톨, 당첨, RATE_15, 50945, https://image-comic.pstatic.net/webtoon/794156/thumbnail/thumbnail_IMAG21_759dc2a2-7315-4c34-a980-36e176614795.jpeg, MONDAY, 로맨스,로판,까칠남,소설원작\n",
      "814543, 너는 그냥 개그만화나 그려라, 조석, 조석, ALL, 47288, https://image-comic.pstatic.net/webtoon/814543/thumbnail/thumbnail_IMAG21_b9d0083f-ced5-4ba8-ac33-c685b96d611a.jpg, TUESDAY, 개그,요즘핫한추천작,지금추천작\n",
      "768473, 천치전능, 김칸비, 송래현, RATE_12, 59998, https://image-comic.pstatic.net/webtoon/768473/thumbnail/thumbnail_IMAG21_3977634166458311222.jpg, SUNDAY, 드라마\n",
      "794102, 킬 더 드래곤, 현가, 미스 지수, RATE_15, 71745, https://image-comic.pstatic.net/webtoon/794102/thumbnail/thumbnail_IMAG21_f6a66314-b084-4f48-ae7d-e5ee5771f17a.jpg, FRIDAY, 액션,레드아이스스튜디오,헌터물,소설원작\n",
      "789652, 인과관계, 강환영, 강환영, RATE_12, 291040, https://image-comic.pstatic.net/webtoon/789652/thumbnail/thumbnail_IMAG21_9e92f54e-ec57-4cd3-9574-9a58455606bf.jpg, WEDNESDAY, 로맨스,힐링,학원로맨스,청춘로맨스,삼각관계\n",
      "807829, 평화식당, 턍, 서우서우, RATE_12, 35844, https://image-comic.pstatic.net/webtoon/807829/thumbnail/thumbnail_IMAG21_7a731990-1b33-4d79-8c00-e8fe03460618.jpg, FRIDAY, 판타지,먼치킨\n",
      "800333, 사이다걸, 김드루, 김그루, ALL, 34613, https://image-comic.pstatic.net/webtoon/800333/thumbnail/thumbnail_IMAG21_407ea651-d14f-47af-9e06-8813e7160421.jpeg, MONDAY, 드라마\n",
      "791062, 매지컬 급식:암살법사, 웡웡이, 웡웡이, ALL, 31157, https://image-comic.pstatic.net/webtoon/791062/thumbnail/thumbnail_IMAG21_d358a9ab-09bc-436b-8a77-076cae2ea8d1.jpg, MONDAY, 판타지,학원물,이능력배틀물\n",
      "732036, 후덜덜덜 남극전자, 김민혁, 김민혁, ALL, 48372, https://image-comic.pstatic.net/webtoon/732036/thumbnail/thumbnail_IMAG21_a5f5b19f-5c44-4adf-b801-ec831eadc27b.jpg, FRIDAY, 개그\n",
      "804862, 백XX, 병장, 펀치킥, RATE_15, 269688, https://image-comic.pstatic.net/webtoon/804862/thumbnail/thumbnail_IMAG21_e2814dcb-83ae-477a-9149-d20fad5bdf92.jpg, WEDNESDAY, 액션,지금추천작,범죄\n",
      "773793, 필리아로제 - 가시왕관의 예언, 백화등, Ryuta, ALL, 80726, https://image-comic.pstatic.net/webtoon/773793/thumbnail/thumbnail_IMAG21_06d14210-4e71-4ae1-97a7-62071c3e90bc.jpg, TUESDAY, 판타지,레드아이스스튜디오,소설원작\n",
      "648419, 뷰티풀 군바리, 설이, 윤성원, RATE_15, 782565, https://image-comic.pstatic.net/webtoon/648419/thumbnail/thumbnail_IMAG21_d9398229-cbfd-47dc-9208-0a6fb936f3a7.jpg, MONDAY, 드라마,직업드라마,밀리터리\n",
      "776601, 광마회귀, JP, 이히, RATE_15, 401731, https://image-comic.pstatic.net/webtoon/776601/thumbnail/thumbnail_IMAG21_7365135131254864183.jpg, FRIDAY, 무협/사극,세계관,사이다,회귀,판무,소설원작\n",
      "807356, 불쌍해야 하는 남자, 윤병, 윤병, RATE_15, 10569, https://image-comic.pstatic.net/webtoon/807356/thumbnail/thumbnail_IMAG21_7c35811d-1498-4d50-a38c-0b494502018c.jpg, THURSDAY, 드라마\n",
      "801428, 천년간 노려왔습니다, 수빈, 수빈, RATE_12, 31435, https://image-comic.pstatic.net/webtoon/801428/thumbnail/thumbnail_IMAG21_50e8a89e-b0b6-44ad-8a98-0850328943b4.jpg, SUNDAY, 로맨스\n",
      "812223, 3X3!, 만능유자차, 만능유자차, ALL, 28634, https://image-comic.pstatic.net/webtoon/812223/thumbnail/thumbnail_IMAG21_8cd5cd96-8a33-40f2-bcad-c22179ffc5b8.jpg, THURSDAY, 드라마,무해한,힐링,4차원,하이틴,성장드라마,레트로\n",
      "792280, 아인슈페너, 한끼룩, 한끼룩, RATE_15, 72364, https://image-comic.pstatic.net/webtoon/792280/thumbnail/thumbnail_IMAG21_ef08524c-1c6d-4941-a532-44cb05261730.jpg, THURSDAY, 스릴러,집착물\n",
      "797731, 순정빌런, 세윤, 세윤, RATE_12, 385770, https://image-comic.pstatic.net/webtoon/797731/thumbnail/thumbnail_IMAG21_88164681-e112-492f-829b-1e0bd75b8655.jpg, THURSDAY, 로맨스,다정남,로맨스코미디\n",
      "814595, 너에게로 중독, 무멘, 태양, RATE_15, 17017, https://image-comic.pstatic.net/webtoon/814595/thumbnail/thumbnail_IMAG21_dffe09d7-c1ec-4cb3-8d6d-2ac82c50ace4.jpg, SATURDAY, 로맨스,소설원작\n",
      "796062, 좀간, 옹구, 다이, RATE_15, 164626, https://image-comic.pstatic.net/webtoon/796062/thumbnail/thumbnail_IMAG21_dc14b7fc-c61e-4fdf-9e6c-0108db4a26db.jpg, WEDNESDAY, 액션\n",
      "799509, 손 안의 안단테, 나윤희, 나윤희, RATE_12, 58593, https://image-comic.pstatic.net/webtoon/799509/thumbnail/thumbnail_IMAG21_1ef92df7-7d7f-48ab-9c8d-f342aad36d08.jpg, SUNDAY, 드라마,음악,연상연하,성장드라마,감성드라마\n",
      "806888, 왕따가 격투기를 너무 잘함, 팀꿀빨, 팀꿀빨, RATE_15, 83877, https://image-comic.pstatic.net/webtoon/806888/thumbnail/thumbnail_IMAG21_6db5b5ec-f275-4b5f-8e1d-d6acfa9c487a.jpeg, WEDNESDAY, 액션,지금추천작,소설원작\n",
      "798182, 디펜스 게임의 폭군이 되었다, 하정, 굥, RATE_12, 140192, https://image-comic.pstatic.net/webtoon/798182/thumbnail/thumbnail_IMAG21_3129bf23-e1fa-4943-b3d5-9d29e3c8109e.jpg, SATURDAY, 판타지,소설원작\n",
      "783888, 현실퀘스트, 이주운, 태성, RATE_15, 359887, https://image-comic.pstatic.net/webtoon/783888/thumbnail/thumbnail_IMAG21_316daca9-cf4f-42f8-9802-da356dd584f1.jpg, THURSDAY, 액션,게임판타지,회귀,학원물\n",
      "814356, 성검전설, 최다킬, 최다킬, RATE_15, 16251, https://image-comic.pstatic.net/webtoon/814356/thumbnail/thumbnail_IMAG21_8ab854ac-f59a-4065-9287-cdfc336eb438.jpg, TUESDAY, 개그,2022지상최대공모전,고인물,사이다,다크히어로,먼치킨\n",
      "812156, 동그란 그녀와 소심한 그 남자, 하야마 이즈미, 오카무라 야치요, ALL, 24234, https://image-comic.pstatic.net/webtoon/812156/thumbnail/thumbnail_IMAG21_a73dc539-ab0b-400a-95cb-4fd653c438f4.jpg, SATURDAY, 로맨스,햇살캐,해외작품,로맨스코미디,힐링\n",
      "794423, 너의 키스씬, 조니조, 조니조, RATE_15, 69880, https://image-comic.pstatic.net/webtoon/794423/thumbnail/thumbnail_IMAG21_78b255d2-1610-4884-8226-6d2894c6fd35.jpg, FRIDAY, 로맨스,비밀연애,짝사랑,2030연애,로맨스코미디,현실로맨스,직진남,연상연하,연예계\n",
      "783536, 해시의 신루, 명랑, INUS, RATE_15, 115142, https://image-comic.pstatic.net/webtoon/783536/thumbnail/thumbnail_IMAG21_9e7bb6e6-7ee1-4374-9f9d-4407fe10f4ff.jpg, THURSDAY, 로맨스,햇살캐,다정남,궁중로맨스,퓨전사극,소설원작\n",
      "800504, 그 남자의 은밀한 하루, 탄단, 이로, RATE_12, 70343, https://image-comic.pstatic.net/webtoon/800504/thumbnail/thumbnail_IMAG21_de7f2718-2ed9-4688-890d-fc73b9179c1d.jpg, WEDNESDAY, 로맨스,2030연애,계약연애,현실로맨스,오피스로맨스,사내연애,소설원작\n",
      "778325, 미친 후작을 길들이고 말았다, 골지, 이레, ALL, 147984, https://image-comic.pstatic.net/webtoon/778325/thumbnail/thumbnail_IMAG21_5998e09b-34fc-42fa-910b-ee9564be0a20.jpg, FRIDAY, 로맨스,소설원작\n",
      "802293, 앞집나리, 민송아, 민송아, RATE_18, 256915, https://image-comic.pstatic.net/webtoon/802293/thumbnail/thumbnail_IMAG21_a3e4736d-dfd6-4e76-aec6-b145f4123845.jpg, THURSDAY, 로맨스,2030연애,로맨스코미디,현실로맨스,하이퍼리얼리즘,하이틴,청춘로맨스,성인웹툰\n",
      "796492, 유월의 소한, 윤정민, 윤정민, ALL, 11930, https://image-comic.pstatic.net/webtoon/796492/thumbnail/thumbnail_IMAG21_4122820291731022946.jpg, THURSDAY, 로맨스,퓨전사극\n",
      "809722, 부패의 사제, 보리, YU, RATE_15, 34391, https://image-comic.pstatic.net/webtoon/809722/thumbnail/thumbnail_IMAG21_bc942644-b79c-45ff-a8c6-4ac29423ace3.jpg, SATURDAY, 판타지,소설원작\n",
      "797932, 청춘일지, 쏘림, 쏘림, ALL, 106346, https://image-comic.pstatic.net/webtoon/797932/thumbnail/thumbnail_IMAG21_ef5d2231-8978-4ebd-8e85-8bf73437da62.jpg, SATURDAY, 로맨스,2030연애,로맨스코미디,캠퍼스로맨스,청춘로맨스\n",
      "747271, 나노마신, 현절무, 금강불괴, RATE_15, 529438, https://image-comic.pstatic.net/webtoon/747271/thumbnail/thumbnail_IMAG21_75c6a3cc-c4d1-4b51-a945-029aff772a63.jpg, THURSDAY, 무협/사극,레드아이스스튜디오,사이다,게임판타지,이능력배틀물,소설원작\n",
      "778322, 무서운게 딱좋아!, 이동규, 이동규, ALL, 147481, https://image-comic.pstatic.net/webtoon/778322/thumbnail/thumbnail_IMAG21_3918807004477994082.jpg, SUNDAY, 스릴러,레트로,괴담\n",
      "801475, 세레나, 정이나, 정이나, RATE_15, 375680, https://image-comic.pstatic.net/webtoon/801475/thumbnail/thumbnail_IMAG21_63818a49-407c-4d1d-8f9a-e541285abdd9.jpg, SATURDAY, 로맨스,고자극로맨스,혐관로맨스,선결혼후연애\n",
      "812144, 사장님이 미쳤어요, 밤희, 꾼, RATE_15, 23673, https://image-comic.pstatic.net/webtoon/812144/thumbnail/thumbnail_IMAG21_56080bd0-30ea-426f-b51b-33980668b2f7.jpg, SUNDAY, 로맨스,2030연애,오피스로맨스,사내연애,소설원작\n",
      "801455, 완벽한 파트너, 산차, 산차, ALL, 63494, https://image-comic.pstatic.net/webtoon/801455/thumbnail/thumbnail_IMAG21_24d87e2b-c39c-4f30-8b11-4ba2ab86e253.jpg, SUNDAY, 로맨스,소설원작\n",
      "807314, 원포인트, 잇, 잇, ALL, 23951, https://image-comic.pstatic.net/webtoon/807314/thumbnail/thumbnail_IMAG21_176143e6-3d43-495d-b60e-4dae06bc10e2.jpg, TUESDAY, 스포츠,동아리,스포츠성장\n",
      "797410, 남편을 죽여줘요, 이연, 구물, RATE_18, 221378, https://image-comic.pstatic.net/webtoon/797410/thumbnail/thumbnail_IMAG21_9852442e-217e-4ec7-92a7-21c0ada85dc7.jpg, THURSDAY, 로맨스,고자극로맨스,서스펜스,로판,감성드라마,성인웹툰\n",
      "748536, 사상최강, 이단아, 이단아, ALL, 129165, https://image-comic.pstatic.net/webtoon/748536/thumbnail/thumbnail_IMAG21_f5ccf206-ed7d-42ae-9452-c11cb188474b.jpg, WEDNESDAY, 무협/사극,사이다,먼치킨,소설원작\n",
      "791140, 메모리얼, 상C, 상C, RATE_15, 59113, https://image-comic.pstatic.net/webtoon/791140/thumbnail/thumbnail_IMAG21_28c779aa-48bf-47bc-8a52-fd0ede76a9c5.jpg, WEDNESDAY, 스릴러,완결무료,완결스릴러\n",
      "809263, 대리게임, 철준, 철준, RATE_15, 12873, https://image-comic.pstatic.net/webtoon/809263/thumbnail/thumbnail_IMAG21_10493e4c-e4b5-4aac-b1ed-4acd07879e54.jpg, TUESDAY, 스릴러,게임판타지,학원물,복수극\n",
      "805193, 천화서고 대공자, 128, MIDNIGHT STUDIO, RATE_15, 83063, https://image-comic.pstatic.net/webtoon/805193/thumbnail/thumbnail_IMAG21_47d9dfe3-8e58-43ba-b9c1-ad18673068cb.jpg, SUNDAY, 무협/사극,지금추천작,소설원작\n",
      "812962, 일립예고 학생들, 백본, 백본, ALL, 63939, https://image-comic.pstatic.net/webtoon/812962/thumbnail/thumbnail_IMAG21_64afec58-886c-4db3-83a8-e6a54a5f0fdc.jpg, THURSDAY, 드라마,성장물,2022지상최대공모전,성장드라마,감성드라마\n",
      "808711, 쥴리에타의 드레스 업, 말차, 유자차, RATE_15, 36036, https://image-comic.pstatic.net/webtoon/808711/thumbnail/thumbnail_IMAG21_d0fb6e8e-bae0-4561-b537-bd84a6b3cb09.jpg, MONDAY, 로맨스,소설원작\n",
      "808804, 렌탈히어로, 포르토, 코벳, RATE_15, 27890, https://image-comic.pstatic.net/webtoon/808804/thumbnail/thumbnail_IMAG21_2af53eb3-eb52-40e7-b1d9-7b4fccfba9af.jpg, TUESDAY, 액션\n",
      "804055, 아포크리파, 은성, 두만식, RATE_15, 33130, https://image-comic.pstatic.net/webtoon/804055/thumbnail/thumbnail_IMAG21_e7b5bec9-be9f-484b-a5a0-3a5182aaf33f.jpg, SUNDAY, 스릴러,오컬트\n",
      "805658, 신컨의 원 코인 클리어, 스튜디오 호호이, 스튜디오 호호이, ALL, 53942, https://image-comic.pstatic.net/webtoon/805658/thumbnail/thumbnail_IMAG21_707d140c-65e7-4164-a885-dd99ea22f266.jpeg, FRIDAY, 판타지,소설원작\n",
      "774039, 나의 계절, 박수민, 박수민, RATE_15, 36299, https://image-comic.pstatic.net/webtoon/774039/thumbnail/thumbnail_IMAG21_baed2068-c7f0-4f57-af10-c355f2b560f8.jpg, WEDNESDAY, 로맨스\n",
      "766648, 위아더좀비, 이명재, 이명재, RATE_12, 212231, https://image-comic.pstatic.net/webtoon/766648/thumbnail/thumbnail_IMAG21_3977861984512325425.jpg, TUESDAY, 드라마,2020지상최대공모전,아포칼립스,좀비,감염,감성드라마\n",
      "785727, 국세청 망나니, 스튜디오웨이브, 스튜디오웨이브, ALL, 98209, https://image-comic.pstatic.net/webtoon/785727/thumbnail/thumbnail_IMAG21_4e91ad84-dffc-4475-af5e-a6130136edfb.jpg, THURSDAY, 드라마,직업드라마,소설원작\n",
      "773916, 말년용사, 후딩, 신마니, RATE_15, 146603, https://image-comic.pstatic.net/webtoon/773916/thumbnail/thumbnail_IMAG21_7a5dbee0-0997-41f9-99b3-bb062e18fb64.jpg, FRIDAY, 판타지,2020지상최대공모전,4차원,밀리터리,회귀\n",
      "814039, 데이팅 캣, 모하, 모하, RATE_15, 24063, https://image-comic.pstatic.net/webtoon/814039/thumbnail/thumbnail_IMAG21_59d8de35-834d-43d2-8ba4-3112f5f91439.jpg, SATURDAY, 로맨스,학원로맨스,하이틴,인플루언서\n",
      "797413, 여우자매, 갈치, 갈치, ALL, 78212, https://image-comic.pstatic.net/webtoon/797413/thumbnail/thumbnail_IMAG21_f04539ee-5166-4337-bd33-10f41d2713fa.jpg, TUESDAY, 판타지,동양풍판타지\n",
      "798172, 내곁엔 없을까, 쑤녕, 쑤녕, ALL, 93786, https://image-comic.pstatic.net/webtoon/798172/thumbnail/thumbnail_IMAG21_8bcf6118-e095-44a1-b587-778a48caab52.jpg, SUNDAY, 로맨스\n",
      "746534, 낙향문사전, 바킹독, 고기산적, RATE_12, 187929, https://image-comic.pstatic.net/webtoon/746534/thumbnail/thumbnail_IMAG21_3904681570744218160.jpg, FRIDAY, 무협/사극,레드아이스스튜디오,먼치킨,소설원작\n",
      "801589, 놓지마 정신줄 시즌3, 신태훈, 나승훈, ALL, 119010, https://image-comic.pstatic.net/webtoon/801589/thumbnail/thumbnail_IMAG21_1b439234-e17d-4fb8-9eef-5d2d4173234c.jpg, TUESDAY, 개그,드라마&영화원작웹툰\n",
      "800312, 이십팔세기 광팬, 컷부, 컷부, RATE_12, 42283, https://image-comic.pstatic.net/webtoon/800312/thumbnail/thumbnail_IMAG21_90520e55-609b-4015-8260-974081bce964.jpg, WEDNESDAY, 개그,차원이동,4차원\n",
      "808473, 예명여고, 육공, 육공, RATE_15, 58376, https://image-comic.pstatic.net/webtoon/808473/thumbnail/thumbnail_IMAG21_f3216ccd-e4c2-45f5-8d01-397d3c191d28.jpg, SATURDAY, 스릴러,오컬트,괴담\n",
      "813564, 아카데미의 천재칼잡이, 시치, 시치, RATE_15, 65852, https://image-comic.pstatic.net/webtoon/813564/thumbnail/thumbnail_IMAG21_a11fb31e-2a52-438d-8b4e-a527c01ff49a.jpg, SUNDAY, 판타지,소설원작\n",
      "751168, 상남자, 하늘소, 도가도, RATE_15, 242437, https://image-comic.pstatic.net/webtoon/751168/thumbnail/thumbnail_IMAG21_529c6125-cf14-435f-94ed-db1a2d499d84.jpg, FRIDAY, 드라마,직업드라마,머니게임,소설원작\n",
      "758150, 입학용병, YC, 락현, RATE_12, 610293, https://image-comic.pstatic.net/webtoon/758150/thumbnail/thumbnail_IMAG21_4135492154714961716.jpg, SUNDAY, 액션,밀리터리,학원물,먼치킨\n",
      "774302, 하루의 하루, 김이랑, 김이랑, ALL, 56704, https://image-comic.pstatic.net/webtoon/774302/thumbnail/thumbnail_IMAG21_4121973654889457249.jpg, MONDAY, 드라마\n",
      "789682, 짝사랑의 마침표, 숭어, 숭어, ALL, 283239, https://image-comic.pstatic.net/webtoon/789682/thumbnail/thumbnail_IMAG21_764560de-de68-45ee-816f-fe376fbe4f60.jpg, TUESDAY, 로맨스,짝사랑,하이틴\n",
      "807306, 닥터앤닥터 병원일기, 닥터베르, 닥터베르, ALL, 35863, https://image-comic.pstatic.net/webtoon/807306/thumbnail/thumbnail_IMAG21_69a712a4-11e8-48bf-9b0c-a26f28c405d8.jpg, WEDNESDAY, 일상,육아물,의학드라마\n",
      "795929, 권리행사자, 샤이탄, 샤이탄, RATE_15, 19570, https://image-comic.pstatic.net/webtoon/795929/thumbnail/thumbnail_IMAG21_15a77e3d-669f-4658-991d-b73071283f6d.jpg, THURSDAY, 판타지\n",
      "802682, 여신님의 호랑이 공략법, 아완, 청라, RATE_15, 54589, https://image-comic.pstatic.net/webtoon/802682/thumbnail/thumbnail_IMAG21_2b6bb044-08d6-443a-aa0f-672f2429066a.jpg, SUNDAY, 로맨스,타임슬립,동양풍판타지,인외존재\n",
      "792694, 폰투스 : 극야2, 운, 한큰빛, RATE_15, 77990, https://image-comic.pstatic.net/webtoon/792694/thumbnail/thumbnail_IMAG21_5419c2b6-6def-4fcc-b54c-9a94ec2f2b75.jpg, SUNDAY, 스릴러,좀비,먼치킨,감염\n",
      "813121, 폭군의 심장을 쥐었다, 아리, Nobena, RATE_15, 45962, https://image-comic.pstatic.net/webtoon/813121/thumbnail/thumbnail_IMAG21_4d99dac0-e646-4c42-ba34-25dc3f5fa405.jpg, TUESDAY, 로맨스,소설원작\n",
      "773797, 나 혼자 만렙 뉴비, WAN.Z, 스윙뱃, RATE_15, 510936, https://image-comic.pstatic.net/webtoon/773797/thumbnail/thumbnail_IMAG21_4dda13fe-417f-45b9-9696-880f2487d41d.jpg, FRIDAY, 판타지,고인물,레드아이스스튜디오,사이다,게임판타지,헌터물,먼치킨,소설원작\n",
      "801773, 하나는 적고 둘은 너무 많아, 젤리피쉬, 손모모, RATE_15, 24353, https://image-comic.pstatic.net/webtoon/801773/thumbnail/thumbnail_IMAG21_ea1917eb-9a72-45ab-a7fe-fa5cbd90b2ca.jpg, FRIDAY, 로맨스,고자극로맨스,현실로맨스,재회\n",
      "814298, 이상형, 배사과, 배사과, RATE_15, 6834, https://image-comic.pstatic.net/webtoon/814298/thumbnail/thumbnail_IMAG21_7896dd49-b0c2-4f5d-9505-aa576656a919.jpg, TUESDAY, 드라마,하이퍼리얼리즘,삼각관계\n",
      "783524, 고백 취소도 되나?, 신매, 신매, ALL, 399024, https://image-comic.pstatic.net/webtoon/783524/thumbnail/thumbnail_IMAG21_3761743981130101296.jpg, SUNDAY, 로맨스,폭스남,하이틴,청춘로맨스\n",
      "800006, 미드우트, 원김, 원김, RATE_15, 37325, https://image-comic.pstatic.net/webtoon/800006/thumbnail/thumbnail_IMAG21_027497ee-7115-4fb9-b8ae-d99f54e47e42.jpg, FRIDAY, 판타지\n",
      "802751, 네 것이었던 것, 아이아리, 바밤, RATE_15, 14327, https://image-comic.pstatic.net/webtoon/802751/thumbnail/thumbnail_IMAG21_fb1ccdf4-244c-4614-9642-c1d6051a68c3.jpg, SUNDAY, 드라마\n",
      "811841, 죽고 싶습니다, 연제원, 연제원, RATE_18, 10663, https://image-comic.pstatic.net/webtoon/811841/thumbnail/thumbnail_IMAG21_af03da42-11b4-4504-93a1-30c6c957e999.jpg, SUNDAY, 스릴러,범죄,서바이벌,두뇌싸움,성인웹툰\n",
      "812381, 귀비나리, 신희빈, 곰시, RATE_15, 34406, https://image-comic.pstatic.net/webtoon/812381/thumbnail/thumbnail_IMAG21_616c0474-a8e2-4caf-a986-d7528c4feb55.jpg, WEDNESDAY, 스릴러,복수극\n",
      "793374, 완벽한 부부는 없다, 롱별, 초이, RATE_15, 104052, https://image-comic.pstatic.net/webtoon/793374/thumbnail/thumbnail_IMAG21_3775484551403496548.jpg, SATURDAY, 로맨스,소설원작\n",
      "811721, 무직백수 계백순, 지발, 지발, RATE_15, 130008, https://image-comic.pstatic.net/webtoon/811721/thumbnail/thumbnail_IMAG21_9a2a959a-666b-4156-8e4f-db64dfe319c6.jpg, WEDNESDAY, 개그,요즘핫한추천작\n",
      "807634, 말숙이를 부탁해, 임규현, 임규현, ALL, 44501, https://image-comic.pstatic.net/webtoon/807634/thumbnail/thumbnail_IMAG21_1da46b85-5eb9-440e-93a8-4d45d602eb9e.jpg, WEDNESDAY, 개그,2022지상최대공모전,육아물\n",
      "771718, 수요웹툰의 나강림, 이경민, 송준혁, RATE_15, 131785, https://image-comic.pstatic.net/webtoon/771718/thumbnail/thumbnail_IMAG21_8d86de3e-15d5-464e-b448-cbd73b1bd71c.jpg, WEDNESDAY, 판타지\n",
      "780170, 나 혼자 네크로맨서, 김경열, 김동준, RATE_12, 209135, https://image-comic.pstatic.net/webtoon/780170/thumbnail/thumbnail_IMAG21_c8b82359-da45-480c-95fd-aa9ae794d6be.jpg, THURSDAY, 판타지,아포칼립스,이능력배틀물,먼치킨,소설원작\n",
      "804868, 팀장님은 신혼이 피곤하다, 장그린, 장그린, ALL, 75381, https://image-comic.pstatic.net/webtoon/804868/thumbnail/thumbnail_IMAG21_ea78afa0-0987-46e8-901c-6f0aef44bc0c.jpg, TUESDAY, 로맨스,짝사랑,로맨스코미디,계약연애,오피스로맨스,소설원작\n",
      "790239, 가족같은 XX, 서우현, 서우현, RATE_15, 234760, https://image-comic.pstatic.net/webtoon/790239/thumbnail/thumbnail_IMAG21_75cb9f71-9af3-48ca-a143-cd59540328b1.jpg, THURSDAY, 로맨스,2020지상최대공모전,계약연애,연예계,삼각관계\n",
      "812164, 쌍둥이 영애가 남장을 하는 이유, 아마미야 레이, M N, RATE_12, 51205, https://image-comic.pstatic.net/webtoon/812164/thumbnail/thumbnail_IMAG21_89ab296b-1a3e-4b93-8a00-383f9d76a0c3.jpg, THURSDAY, 판타지,해외작품,학원로맨스,역하렘,로판\n",
      "812851, 망치하르방, 상상어, 상상어, RATE_12, 42735, https://image-comic.pstatic.net/webtoon/812851/thumbnail/thumbnail_IMAG21_2a769f30-0067-470b-838a-18856e7e0f8f.jpg, WEDNESDAY, 판타지,힘숨찐,먼치킨\n",
      "805702, 토마토가 돼라!, 뮤리, 뮤리, ALL, 36157, https://image-comic.pstatic.net/webtoon/805702/thumbnail/thumbnail_IMAG21_e7e812d2-5d0a-46c6-8a39-b67a5010a7bc.jpg, MONDAY, 로맨스\n",
      "791205, 파운더, 임상윤, 만두인, RATE_15, 46549, https://image-comic.pstatic.net/webtoon/791205/thumbnail/thumbnail_IMAG21_7149240538535388720.jpg, MONDAY, 액션,범죄\n",
      "772764, 죽지 않으려면, 파래, 임진국, RATE_15, 332041, https://image-comic.pstatic.net/webtoon/772764/thumbnail/thumbnail_IMAG21_be1cd9e7-17da-449a-bc04-1294015fdbd5.jpg, FRIDAY, 액션,환골탈태,블루스트링,사이다,학원물,복수극\n",
      "671421, 언덕 위의 제임스, 쿠당탕, 쿠당탕, ALL, 153811, https://image-comic.pstatic.net/webtoon/671421/thumbnail/thumbnail_IMAG21_7643171d-08fb-40a8-9da1-813a3b7e784f.jpg, WEDNESDAY, 개그,4차원\n",
      "711422, 삼국지톡, 무적핑크, 이리, RATE_12, 165395, https://image-comic.pstatic.net/webtoon/711422/thumbnail/thumbnail_IMAG21_fd8cb5db-01ab-4c7b-a2a9-920d4479d5f7.jpg, TUESDAY, 무협/사극\n",
      "813451, 내가 만든 이세계, 가천가, 가천가, RATE_12, 9552, https://image-comic.pstatic.net/webtoon/813451/thumbnail/thumbnail_IMAG21_63771fb5-bb2b-4ecf-a9d8-1169fa9c73ab.jpeg, SUNDAY, 판타지,차원이동,이세계\n",
      "794743, 스토커의 하루, bunny, bunny, RATE_15, 48713, https://image-comic.pstatic.net/webtoon/794743/thumbnail/thumbnail_IMAG21_cda3c8aa-f076-439a-94e9-cdac4f0b5db7.jpeg, FRIDAY, 스릴러,서스펜스,괴담\n",
      "710751, 약한영웅, 서패스, 김진석, RATE_15, 550873, https://image-comic.pstatic.net/webtoon/710751/thumbnail/thumbnail_IMAG21_53aefc06-6bdf-40fb-93ac-fab7242146c6.jpg, SUNDAY, 액션,드라마&영화원작웹툰,힘숨찐,학원물\n",
      "807745, 우리의 연애일지, 오늘, 오늘, ALL, 11242, https://image-comic.pstatic.net/webtoon/807745/thumbnail/thumbnail_IMAG21_48748c1b-e177-48ef-b684-3c9e29a69b7c.jpg, WEDNESDAY, 로맨스\n",
      "747269, 전지적 독자 시점, UMI, 슬리피-C, RATE_15, 1014823, https://image-comic.pstatic.net/webtoon/747269/thumbnail/thumbnail_IMAG21_aabd9952-ff45-47a2-a543-33f19a5c6708.jpg, WEDNESDAY, 판타지,세계관,레드아이스스튜디오,아포칼립스,게임판타지,헌터물,이능력배틀물,먼치킨,구원서사,소설원작\n",
      "793853, 악마라고 불러다오, 자양, 써나, RATE_15, 131584, https://image-comic.pstatic.net/webtoon/793853/thumbnail/thumbnail_IMAG21_3758400f-d46d-41a7-b5be-11ca210b9bc7.jpg, FRIDAY, 로맨스,소설원작\n",
      "813563, 마도귀환록, 팀 더 제이, MISANG, RATE_15, 38403, https://image-comic.pstatic.net/webtoon/813563/thumbnail/thumbnail_IMAG21_0cc17211-31da-4b94-a1e6-5b017fe9aadc.jpg, THURSDAY, 무협/사극,소설원작\n",
      "800585, 소름일기, 석재윤, 석재윤, RATE_15, 48754, https://image-comic.pstatic.net/webtoon/800585/thumbnail/thumbnail_IMAG21_11721c44-7e70-45e2-bd2e-da1e4a51922b.jpg, FRIDAY, 스릴러,오컬트,괴담\n",
      "801998, 코인 리벤지, 박성현, 박성현, RATE_15, 44963, https://image-comic.pstatic.net/webtoon/801998/thumbnail/thumbnail_IMAG21_6607e2c4-b8bd-4145-94f6-ed96d1ec27a2.jpg, THURSDAY, 액션\n",
      "773796, 망나니 소교주로 환생했다, 재무, 전마두, RATE_12, 220048, https://image-comic.pstatic.net/webtoon/773796/thumbnail/thumbnail_IMAG21_c9aae885-3aa5-4aea-ac82-31c0c55479fc.jpg, SATURDAY, 무협/사극,레드아이스스튜디오,오컬트,회귀,소설원작\n",
      "784248, 내가 키운 S급들, seri, 비완, RATE_12, 432613, https://image-comic.pstatic.net/webtoon/784248/thumbnail/thumbnail_IMAG21_20a8aca7-23d3-4bc0-9916-a31ebc884ca8.jpg, TUESDAY, 판타지,회귀,헌터물,이능력배틀물,소년왕도물,먼치킨,소설원작\n",
      "803122, 인생영화, 희나리, 희나리, RATE_15, 16905, https://image-comic.pstatic.net/webtoon/803122/thumbnail/thumbnail_IMAG21_7160c2e6-5434-403b-bc7c-a21ecffbd599.jpg, SUNDAY, 스릴러,타임슬립,서스펜스,복수극\n",
      "807206, 신의 재래, 홍무제, 홍무제, RATE_15, 35976, https://image-comic.pstatic.net/webtoon/807206/thumbnail/thumbnail_IMAG21_9fa6b184-48c8-438c-b734-4bb9de975230.jpg, SUNDAY, 판타지,2022지상최대공모전,차원이동,동양풍판타지,이능력배틀물,성장드라마\n",
      "765158, 괴물공작의 딸, 한바다, 찬란, ALL, 186738, https://image-comic.pstatic.net/webtoon/765158/thumbnail/thumbnail_IMAG21_7378132256276230709.jpg, WEDNESDAY, 판타지,힐링,육아물\n",
      "799250, 헥토파스칼, 버퍼링, 길성근, RATE_12, 97577, https://image-comic.pstatic.net/webtoon/799250/thumbnail/thumbnail_IMAG21_cc84475a-58c8-4e66-a26b-2a08be6a1f24.jpg, TUESDAY, 액션,복수극,느와르\n",
      "725586, 1초, 시니, 광운, ALL, 547361, https://image-comic.pstatic.net/webtoon/725586/thumbnail/thumbnail_IMAG21_17f81846-d1a9-43fd-83a4-f9e966b6b977.jpg, FRIDAY, 드라마,직업드라마\n",
      "807859, 성스러운 작가생활, 이작가야, 이작가야, RATE_18, 175390, https://image-comic.pstatic.net/webtoon/807859/thumbnail/thumbnail_IMAG21_f76458b0-e807-480e-b44c-3437d9888a75.jpg, WEDNESDAY, 로맨스,요즘핫한추천작,로맨스코미디,직업드라마,전남친,까칠남,성인웹툰\n",
      "799165, 나의 불편한 상사, 탄지, 남은경, ALL, 91424, https://image-comic.pstatic.net/webtoon/799165/thumbnail/thumbnail_IMAG21_e4cf53a5-8d69-435d-95eb-a68a0128580e.jpg, THURSDAY, 로맨스,오피스로맨스,소설원작\n",
      "798331, 규격 외 혈통 천재, ZAINO, 클로버, RATE_12, 117730, https://image-comic.pstatic.net/webtoon/798331/thumbnail/thumbnail_IMAG21_846e6d29-da15-40cb-9d4f-1c7f5b1a6faa.jpg, THURSDAY, 판타지,소설원작\n",
      "800390, 하얀 사자의 비밀 신부, 봉비, 봉비, ALL, 65235, https://image-comic.pstatic.net/webtoon/800390/thumbnail/thumbnail_IMAG21_66f9aedf-b500-40b4-984d-33b10b6a1489.jpg, WEDNESDAY, 로맨스,계략여주,회귀,로판,소설원작\n",
      "799837, 사신, 임재원, 임재원, RATE_15, 88722, https://image-comic.pstatic.net/webtoon/799837/thumbnail/thumbnail_IMAG21_361ed944-3c87-481f-a3d9-0e02c12b027d.jpg, FRIDAY, 무협/사극,성장물,세계관,소년왕도물,소설원작\n",
      "743838, 소녀재판, 루즌아, 보로콤, RATE_15, 378522, https://image-comic.pstatic.net/webtoon/743838/thumbnail/thumbnail_IMAG21_a406f148-9929-4eff-aad1-e9cec2153da6.jpg, SUNDAY, 드라마,2019지상최대공모전,공감성수치\n",
      "801699, 기억해줘, BD, 왈치, RATE_12, 28881, https://image-comic.pstatic.net/webtoon/801699/thumbnail/thumbnail_IMAG21_5f6bd4f5-c1e6-4583-bc91-cd7afaf0f226.jpg, FRIDAY, 로맨스,2021지상최대공모전,현실로맨스,재회,연상연하\n",
      "808388, 해골협객, 성불예정, 준1, RATE_15, 23261, https://image-comic.pstatic.net/webtoon/808388/thumbnail/thumbnail_IMAG21_741d216d-75b8-4a81-93c5-1f6d6f697ed2.jpg, TUESDAY, 무협/사극,차원이동,좀비,판무,빙의\n",
      "805737, 황후를 훔친 이는 누구인가, 핀쿠, 뮬리, RATE_15, 155709, https://image-comic.pstatic.net/webtoon/805737/thumbnail/thumbnail_IMAG21_c72b400d-fc29-4928-828f-56b3629ce352.jpg, WEDNESDAY, 로맨스,로판,소설원작\n",
      "777515, 쌈빡, 38, 38, RATE_15, 108640, https://image-comic.pstatic.net/webtoon/777515/thumbnail/thumbnail_IMAG21_54762710-164c-4341-90ac-d9cea424eb15.jpg, FRIDAY, 액션,학원물\n",
      "804318, 죽음으로 구원하사, 고요빛, 유니, RATE_18, 35052, https://image-comic.pstatic.net/webtoon/804318/thumbnail/thumbnail_IMAG21_b26fa842-0608-4939-aa2d-f37f67610f9f.jpg, FRIDAY, 스릴러,2021지상최대공모전,서스펜스,복수극,성인웹툰\n",
      "755744, 왕년엔 용사님, 고샤, 솔렘, ALL, 76198, https://image-comic.pstatic.net/webtoon/755744/thumbnail/thumbnail_IMAG21_ea3e8a31-f6ef-40b4-936b-acb0fac4e94f.jpg, SATURDAY, 판타지,최강자전,2019최강자전\n",
      "805156, 고양이 타타, 로로, 로로, ALL, 115847, https://image-comic.pstatic.net/webtoon/805156/thumbnail/thumbnail_IMAG21_6f3edc71-606d-4454-af42-e2f558137132.jpg, SUNDAY, 드라마,무해한,힐링,동물\n",
      "805368, 이러면 안 돼요, 전하!, 안진애, 우라노스, ALL, 73888, https://image-comic.pstatic.net/webtoon/805368/thumbnail/thumbnail_IMAG21_96351617-cd09-4eda-abdd-877a3ec12bcb.jpg, THURSDAY, 로맨스,회귀,로판,걸크러시,소설원작\n",
      "803891, 용한소녀, 올소, 올소, ALL, 118749, https://image-comic.pstatic.net/webtoon/803891/thumbnail/thumbnail_IMAG21_668eac64-9d55-4c3a-bc5f-8fe862f4c3e6.jpg, WEDNESDAY, 로맨스,학원로맨스,동물\n",
      "772734, 최후의 금빛아이, 알깨, 새몽, RATE_12, 66731, https://image-comic.pstatic.net/webtoon/772734/thumbnail/thumbnail_IMAG21_fdecfea5-8ca1-4a32-9c55-34a30f24266d.jpg, MONDAY, 판타지,이세계,성장드라마\n",
      "785701, 가상&RPG, 주다현, 주다현, RATE_12, 59612, https://image-comic.pstatic.net/webtoon/785701/thumbnail/thumbnail_IMAG21_b93b84ea-264c-47e2-9f55-24e719e65eb9.jpg, THURSDAY, 판타지,고인물,최강자전,2019최강자전,게임판타지\n",
      "760001, 하렘의 남자들, 히어리, 영빈 , RATE_12, 340484, https://image-comic.pstatic.net/webtoon/760001/thumbnail/thumbnail_IMAG21_c62cf78d-b346-49cf-b847-3062fc51500b.jpg, WEDNESDAY, 로맨스,궁중로맨스,이세계,역하렘,로판,소설원작\n",
      "797258, 너의 순정, 나의 순정, 정살, 정살, ALL, 46071, https://image-comic.pstatic.net/webtoon/797258/thumbnail/thumbnail_IMAG21_7293970135255232568.jpg, TUESDAY, 로맨스,학원로맨스\n",
      "813571, 여친을 찾아서, 뻥, 타로맨, RATE_15, 15446, https://image-comic.pstatic.net/webtoon/813571/thumbnail/thumbnail_IMAG21_a40611fc-7bbb-4faf-a533-0216f91a7639.jpg, THURSDAY, 드라마,범죄,성장드라마\n",
      "762035, 달의 요람, 이정선, 이정선, RATE_12, 58624, https://image-comic.pstatic.net/webtoon/762035/thumbnail/thumbnail_IMAG21_4123154521771304291.jpg, THURSDAY, 드라마\n",
      "131385, 쿠베라, 카레곰, 카레곰, ALL, 471692, https://image-comic.pstatic.net/webtoon/131385/thumbnail/thumbnail_IMAG21_1d44dd99-4fef-48b5-81f0-083e83b6c048.jpg, THURSDAY, 판타지,세계관,인외존재,다크판타지\n",
      "800788, 약빨이 신선함, 한집, 벤, RATE_15, 64566, https://image-comic.pstatic.net/webtoon/800788/thumbnail/thumbnail_IMAG21_20e24a76-68af-4a5c-a4ae-2ac2b25cc1d1.jpg, SUNDAY, 판타지,소설원작\n",
      "809006, 동경과 거짓말, 오한, 오한, RATE_12, 21037, https://image-comic.pstatic.net/webtoon/809006/thumbnail/thumbnail_IMAG21_5f9fb10f-61bf-45bb-82cd-834b4252975f.jpg, TUESDAY, 드라마,음악,2021지상최대공모전,성장드라마,구원서사\n",
      "812660, 찐한 고백, JIP, 의령, RATE_12, 62177, https://image-comic.pstatic.net/webtoon/812660/thumbnail/thumbnail_IMAG21_6fd5cbf5-6576-4dc9-9421-2ec5d0a99359.jpg, SUNDAY, 로맨스,러블리,폭스남,비밀연애,짝사랑,2030연애,로맨스코미디,현실로맨스,오피스로맨스,사내연애,소설원작\n",
      "797155, 킬링킬러, 아백, 아백, RATE_15, 55957, https://image-comic.pstatic.net/webtoon/797155/thumbnail/thumbnail_IMAG21_f4040a49-edae-4b48-81c7-09b6426f3c81.jpg, SUNDAY, 액션\n",
      "806449, 당신이 나를 믿으신다면, 김그래프, 김그래프, RATE_15, 26593, https://image-comic.pstatic.net/webtoon/806449/thumbnail/thumbnail_IMAG21_cda9ea7c-3734-44b0-ba3f-2428f8d82854.jpg, SATURDAY, 드라마,2021지상최대공모전,사이비종교\n",
      "799524, 절대복종, 혼, 혼, RATE_15, 53803, https://image-comic.pstatic.net/webtoon/799524/thumbnail/thumbnail_IMAG21_b01c5e4c-fe6f-4817-a0db-b00b80b3ec94.jpeg, FRIDAY, 액션,게임판타지,학원물\n",
      "811219, 고수, 후궁으로 깨어나다, LICO, LICO, RATE_15, 97181, https://image-comic.pstatic.net/webtoon/811219/thumbnail/thumbnail_IMAG21_5b44af13-e338-4363-8a3f-c709edc81af3.jpg, SUNDAY, 로맨스,요즘핫한추천작,로맨스코미디,궁중로맨스,동양풍판타지,걸크러시,소설원작\n",
      "774866, 똑 닮은 딸, 이담, 이담, RATE_15, 480280, https://image-comic.pstatic.net/webtoon/774866/thumbnail/thumbnail_IMAG21_46cf2e65-7b7c-4fb7-8f54-0078456d8ff0.jpg, MONDAY, 스릴러,2020지상최대공모전,서스펜스\n",
      "724815, 아홉수 우리들, 수박양, 수박양, ALL, 427375, https://image-comic.pstatic.net/webtoon/724815/thumbnail/thumbnail_IMAG21_4bdd52f2-bbc9-4524-b44b-adc1e7208f93.jpg, SATURDAY, 로맨스,2030연애,현실로맨스,감성드라마\n",
      "808272, 악의 등교, 팀 더 지크, 시원, RATE_15, 81715, https://image-comic.pstatic.net/webtoon/808272/thumbnail/thumbnail_IMAG21_92f35240-3cfd-49c6-a75e-b2715f8b2d98.jpg, WEDNESDAY, 액션,학원물,소설원작\n",
      "751993, 보물과 괴물의 도시, 이을, 이을, RATE_12, 43573, https://image-comic.pstatic.net/webtoon/751993/thumbnail/thumbnail_IMAG21_7089003575688389985.jpg, THURSDAY, 판타지,오컬트,이능력배틀물,인외존재,성장드라마,다크판타지\n",
      "807178, 캐슬2:만인지상, 정연, 정연, RATE_15, 213209, https://image-comic.pstatic.net/webtoon/807178/thumbnail/thumbnail_IMAG21_28fcfb22-aae7-41b4-8767-05f6dd176b03.jpg, WEDNESDAY, 액션,요즘핫한추천작,지금추천작,범죄,사이다,복수극,먼치킨,느와르\n",
      "802940, 행성인간2: 행성의, 조석, 조석, RATE_15, 51114, https://image-comic.pstatic.net/webtoon/802940/thumbnail/thumbnail_IMAG21_27ad5bf3-0455-4ac2-b3ae-dbc40c247407.jpg, WEDNESDAY, 스릴러\n",
      "750826, 빌드업, 911, 911, RATE_12, 268186, https://image-comic.pstatic.net/webtoon/750826/thumbnail/thumbnail_IMAG21_8bf7d36d-d865-4df0-b76f-f72f288bb2cd.jpg, WEDNESDAY, 스포츠,2019지상최대공모전,축구,스포츠성장,소년왕도물\n",
      "779354, 패션쇼, 로커8, 로커8, ALL, 17324, https://image-comic.pstatic.net/webtoon/779354/thumbnail/thumbnail_IMAG21_60a74bee-a71e-4a50-a02b-c434359e36a1.jpg, SUNDAY, 드라마\n",
      "805907, 나 없는 단톡방, 봉수, 봉수, RATE_12, 134072, https://image-comic.pstatic.net/webtoon/805907/thumbnail/thumbnail_IMAG21_ab626e51-db74-46ff-8fdb-4a62edbc4fd1.jpg, MONDAY, 드라마,요즘핫한추천작,학원물\n",
      "800331, 지옥 키우기, 양세하, 양세하, RATE_15, 44357, https://image-comic.pstatic.net/webtoon/800331/thumbnail/thumbnail_IMAG21_54515d5f-c297-48b9-a9ad-07c759d278b4.jpg, FRIDAY, 스릴러,2021지상최대공모전,서스펜스,다크판타지\n",
      "807393, 귀환했는데 입대 전날이다, 해일, 오코믹, ALL, 145150, https://image-comic.pstatic.net/webtoon/807393/thumbnail/thumbnail_IMAG21_aff8a206-014c-471f-9e91-c569940ad8e5.jpg, SATURDAY, 판타지,지금추천작,소설원작\n",
      "786979, 별을 쫓는 소년들, HYBE, HYBE, RATE_12, 53941, https://image-comic.pstatic.net/webtoon/786979/thumbnail/thumbnail_IMAG21_495b3195-2185-458e-a07b-4af0f4ff6532.jpg, MONDAY, 판타지,히어로,연예계\n",
      "808738, 남사친의 법칙, 이도윤, 이도윤, ALL, 139130, https://image-comic.pstatic.net/webtoon/808738/thumbnail/thumbnail_IMAG21_5c0738e4-13bc-4e17-a06e-a2cef9b9f030.jpg, WEDNESDAY, 로맨스,짝사랑,현실로맨스,하이틴,학원로맨스,청춘로맨스\n",
      "552960, 더 게이머, 성상영, 상아, ALL, 393515, https://image-comic.pstatic.net/webtoon/552960/thumbnail/thumbnail_IMAG21_ce8f3dbb-3891-4e83-9782-64fa7986946e.jpg, FRIDAY, 판타지,게임판타지,먼치킨\n",
      "804653, 유사연애, 여은, 여은, RATE_15, 205492, https://image-comic.pstatic.net/webtoon/804653/thumbnail/thumbnail_IMAG21_245d93e8-07c6-4229-9e51-bb813a307610.jpg, TUESDAY, 로맨스,요즘핫한추천작,폭스남,고자극로맨스,2030연애,현실로맨스,오피스로맨스\n",
      "809445, 러브 어페어, 럭키고릴라, 팀 네모바퀴, RATE_15, 33438, https://image-comic.pstatic.net/webtoon/809445/thumbnail/thumbnail_IMAG21_f3610381-5179-4790-a278-b9d237f28e2e.jpg, SATURDAY, 로맨스,후회물,비밀연애,고자극로맨스,2030연애,소설원작\n",
      "804832, 커플브레이커, 기맹기, 태건, RATE_12, 199651, https://image-comic.pstatic.net/webtoon/804832/thumbnail/thumbnail_IMAG21_6edbde13-770a-495c-98d8-5d1d46fcc045.jpeg, FRIDAY, 로맨스,2030연애,계약연애,현실로맨스,걸크러시\n",
      "800778, 칼끝에 입술, 핀쿠, 뫄과, ALL, 193190, https://image-comic.pstatic.net/webtoon/800778/thumbnail/thumbnail_IMAG21_8515acc1-43f0-4110-8210-4b429d23b9df.jpg, SUNDAY, 로맨스,계략여주,계약연애,직진남,선결혼후연애,로판,걸크러시,소설원작\n",
      "787729, 나쁜 마법사의 꿈, 이아거, 이아거, ALL, 33389, https://image-comic.pstatic.net/webtoon/787729/thumbnail/thumbnail_IMAG21_d6ca420b-0d77-40ec-b59b-8e44f785e79d.jpg, THURSDAY, 판타지,2021지상최대공모전,감성드라마\n",
      "797115, 옆집남자 친구, 꿀삼, 꿀삼, ALL, 144482, https://image-comic.pstatic.net/webtoon/797115/thumbnail/thumbnail_IMAG21_5dd4b1ce-478e-43b3-ac65-d42e7728a039.jpg, WEDNESDAY, 로맨스,현실로맨스,청춘로맨스,캠퍼스로맨스,까칠남\n",
      "803530, 애구애구, 가령, 가령, ALL, 32064, https://image-comic.pstatic.net/webtoon/803530/thumbnail/thumbnail_IMAG21_c8d5f8f0-9883-465b-b79d-325c02d42b71.jpg, SATURDAY, 드라마,무해한,힐링,동물,감성드라마\n",
      "778580, 최강부캐, 직씨, 직씨, RATE_15, 93414, https://image-comic.pstatic.net/webtoon/778580/thumbnail/thumbnail_IMAG21_7365744059571516773.jpg, SATURDAY, 액션,게임판타지,먼치킨\n",
      "739115, 앵무살수, 김성진, 김성진, RATE_15, 224867, https://image-comic.pstatic.net/webtoon/739115/thumbnail/thumbnail_IMAG21_7077747896626722102.jpg, MONDAY, 판타지,판무\n",
      "800312, 이십팔세기 광팬, 컷부, 컷부, RATE_12, 42283, https://image-comic.pstatic.net/webtoon/800312/thumbnail/thumbnail_IMAG21_90520e55-609b-4015-8260-974081bce964.jpg, WEDNESDAY, 개그,차원이동,4차원\n",
      "813334, 잘못된 연애, 파키타리, 파키타리, RATE_12, 13691, https://image-comic.pstatic.net/webtoon/813334/thumbnail/thumbnail_IMAG21_4d1c2cb5-0f8e-484a-b36e-8318dcce3292.jpg, THURSDAY, 로맨스,캠퍼스로맨스,전남친\n",
      "797443, 운명을 보는 회사원, 영완(映完), 임성욱, ALL, 138407, https://image-comic.pstatic.net/webtoon/797443/thumbnail/thumbnail_IMAG21_cea05bf8-ab6b-4f19-8cd9-dd8c31ed1677.jpg, WEDNESDAY, 판타지,직업드라마,소설원작\n",
      "814587, 펜홀더, 이은재, 이은재, RATE_12, 7530, https://image-comic.pstatic.net/webtoon/814587/thumbnail/thumbnail_IMAG21_7dcee9f5-bb5f-4530-be38-48b836191517.jpg, FRIDAY, 스포츠,성장물,성장드라마,스포츠성장\n",
      "807019, 베이비 폭군, 아원, 아원, ALL, 169593, https://image-comic.pstatic.net/webtoon/807019/thumbnail/thumbnail_IMAG21_35128d6b-4a62-48d2-a908-222d47bcfe4e.jpg, WEDNESDAY, 로맨스,육아물,소설원작\n",
      "807858, 은밀한 재택근무, 굴닭, 타단, RATE_12, 22479, https://image-comic.pstatic.net/webtoon/807858/thumbnail/thumbnail_IMAG21_6f8082ba-9afe-491f-98d6-8b7b7fafb991.jpg, TUESDAY, 로맨스,재벌,2030연애,로맨스코미디,현실로맨스,친구>연인,직진남,재회,오피스로맨스,사내연애,소설원작\n",
      "809054, 네이처맨, 이윤창, 이윤창, RATE_12, 70878, https://image-comic.pstatic.net/webtoon/809054/thumbnail/thumbnail_IMAG21_99e2bc60-6038-44e7-8689-44cf20fbc6f5.jpg, THURSDAY, 개그,힘숨찐,히어로,레트로\n",
      "808286, 썩은 핑크의 법칙, 힙합신선, 힙합신선, RATE_15, 61334, https://image-comic.pstatic.net/webtoon/808286/thumbnail/thumbnail_IMAG21_88006dbe-f2eb-4d28-bc1b-b609c1edb318.jpg, THURSDAY, 드라마,2022지상최대공모전,동아리,캠퍼스로맨스\n",
      "791126, 내남친 킹카만들기, 랑쓰, 섯끼, ALL, 116955, https://image-comic.pstatic.net/webtoon/791126/thumbnail/thumbnail_IMAG21_b3c5cfcc-aba4-4ba6-b010-8c740c2cbc85.jpg, TUESDAY, 로맨스,환골탈태,로맨스코미디,2021지상최대공모전\n",
      "802278, 천하제일 대사형, YooN, YooN, RATE_15, 74960, https://image-comic.pstatic.net/webtoon/802278/thumbnail/thumbnail_IMAG21_311b8a63-cb77-4198-b015-95ef835007ac.jpg, FRIDAY, 무협/사극,환골탈태,소설원작\n",
      "783877, 하북팽가 막내아들, 스튜디오M, 기원, RATE_15, 111406, https://image-comic.pstatic.net/webtoon/783877/thumbnail/thumbnail_IMAG21_3904965231037146418.jpg, TUESDAY, 무협/사극,회귀,소년왕도물,소설원작\n",
      "802033, 집사, 주세요!, 꾀돌이, 꾀돌이, ALL, 57810, https://image-comic.pstatic.net/webtoon/802033/thumbnail/thumbnail_IMAG21_ccce5530-0976-4a0d-b76c-d54c5620cdd5.jpg, MONDAY, 로맨스,로맨스코미디,4차원,하이틴,학원로맨스,역하렘\n",
      "789979, 멸망 이후의 세계, S-Cynan, 언데드 감자, RATE_15, 320571, https://image-comic.pstatic.net/webtoon/789979/thumbnail/thumbnail_IMAG21_792cd36e-d722-4970-933b-3da7c37ee812.jpg, TUESDAY, 판타지,레드아이스스튜디오,차원이동,아포칼립스,소설원작\n",
      "783864, 전생연분, 재아, HAE, RATE_15, 218162, https://image-comic.pstatic.net/webtoon/783864/thumbnail/thumbnail_IMAG21_965c8626-3cdf-4168-978d-f9315044590a.jpg, SATURDAY, 로맨스,레드스트링\n",
      "812124, 유쾌한 왕따(재), 김숭늉, 김숭늉, RATE_18, 38045, https://image-comic.pstatic.net/webtoon/812124/thumbnail/thumbnail_IMAG21_7e3d71f2-4918-44db-a33b-bd16333eaa8f.jpg, SATURDAY, 스릴러,성인웹툰\n",
      "794161, 복수를 위한 결혼동맹, EMMA, EMMA, RATE_12, 110489, https://image-comic.pstatic.net/webtoon/794161/thumbnail/thumbnail_IMAG21_b83324b0-799f-4125-8950-4498053474d4.jpg, SATURDAY, 로맨스,소설원작\n",
      "804782, 악당과 악당이 만나면, 삵, 쏘가리, RATE_12, 43500, https://image-comic.pstatic.net/webtoon/804782/thumbnail/thumbnail_IMAG21_f09967ec-e4e8-4fb8-a8d5-a65db4c6e14e.jpg, MONDAY, 로맨스,계략여주,직진남,로판,걸크러시,소설원작\n",
      "805203, 바스티안, 아빈, 아빈, RATE_15, 114582, https://image-comic.pstatic.net/webtoon/805203/thumbnail/thumbnail_IMAG21_7c73fc44-700b-4bf4-a1a2-7d3e781638a8.jpg, FRIDAY, 로맨스,2030연애,혐관로맨스,선결혼후연애,로판,소설원작\n",
      "795542, 칼에 취한 밤을 걷다, JP, 송민, RATE_15, 122253, https://image-comic.pstatic.net/webtoon/795542/thumbnail/thumbnail_IMAG21_3703756833080816441.jpg, WEDNESDAY, 무협/사극,세계관,사이다,판무,소설원작\n",
      "752532, 연우의 순정, 이솔, 이솔, RATE_15, 228909, https://image-comic.pstatic.net/webtoon/752532/thumbnail/thumbnail_IMAG21_e0dbfa33-e13c-4adc-bf63-a5b26b4a2a3e.jpg, TUESDAY, 감성,다정남,걸크러시\n",
      "800291, 여자를 사귀고 싶다, 노갓량, 영오, RATE_15, 65567, https://image-comic.pstatic.net/webtoon/800291/thumbnail/thumbnail_IMAG21_270cacdd-57f7-4388-abf2-9e13a43dca24.jpg, FRIDAY, 개그,2030연애,블루스트링,청춘로맨스,성장드라마,공감성수치\n",
      "701535, 격기3반, 이학, 이학, RATE_15, 280065, https://image-comic.pstatic.net/webtoon/701535/thumbnail/thumbnail_IMAG21_2abe5b1a-9104-417f-9995-0db15c6db7be.jpg, WEDNESDAY, 스포츠,환골탈태,격투기\n",
      "794105, 주인님을 잡아먹는 방법, 세인, 세인, RATE_15, 121900, https://image-comic.pstatic.net/webtoon/794105/thumbnail/thumbnail_IMAG21_bc1d4038-94fc-428c-8e78-e2cb9ab3643e.jpg, TUESDAY, 로맨스,직진남,소설원작\n",
      "774831, 수희0(tngmlek0), 생일기분, 생일기분, RATE_12, 245910, https://image-comic.pstatic.net/webtoon/774831/thumbnail/thumbnail_IMAG21_b4644a73-ecfb-4532-a96c-575b02accfd0.jpg, SUNDAY, 드라마,하이퍼리얼리즘,인플루언서,머니게임\n",
      "679568, 마이너스의 손, 김뎐, 김뎐, ALL, 164420, https://image-comic.pstatic.net/webtoon/679568/thumbnail/thumbnail_IMAG21_0e7abd73-060d-42eb-afed-65cafc457104.jpg, MONDAY, 판타지,최강자전,2015최강자전\n",
      "808201, 이혼은 쉬운데, 연애는 어렵다, 수빙, 팔가락, RATE_12, 36159, https://image-comic.pstatic.net/webtoon/808201/thumbnail/thumbnail_IMAG21_1e67d319-2297-43cd-9888-b1e3c61d6be8.jpg, WEDNESDAY, 로맨스,러블리,다정남,짝사랑,2030연애,로맨스코미디,직업드라마,직진남,오피스로맨스,사내연애,소설원작\n",
      "783539, 희란국연가, MIDNIGHT STUDIO, MIDNIGHT STUDIO, RATE_15, 220102, https://image-comic.pstatic.net/webtoon/783539/thumbnail/thumbnail_IMAG21_933f1e25-848e-480b-baf2-8808a8c9ee30.jpg, FRIDAY, 로맨스,후회물,혐관로맨스,동양풍판타지,인외존재,이세계,삼각관계,구원서사,소설원작\n",
      "813443, 황제의 검, 레드훅, 류신, ALL, 38276, https://image-comic.pstatic.net/webtoon/813443/thumbnail/thumbnail_IMAG21_a0397983-ed25-4101-babe-17b15cd8ad08.jpg, SATURDAY, 무협/사극,소설원작\n",
      "791629, 입술이 예쁜 남자, 고도, 고도, RATE_15, 135876, https://image-comic.pstatic.net/webtoon/791629/thumbnail/thumbnail_IMAG21_4122541015824753209.jpg, MONDAY, 로맨스,소설원작\n",
      "799267, 안녕, 나의 수집, 하린, 하린, ALL, 69871, https://image-comic.pstatic.net/webtoon/799267/thumbnail/thumbnail_IMAG21_f522ff4f-4f7c-40bf-b9f2-f58d049d4a82.jpg, WEDNESDAY, 일상,무해한\n",
      "811716, 결혼 시뮬레이션, 김래잇, 황주영, RATE_15, 22793, https://image-comic.pstatic.net/webtoon/811716/thumbnail/thumbnail_IMAG21_8d276b58-be08-4023-a66d-cf8070a5913a.jpg, WEDNESDAY, 드라마\n",
      "765804, A.I. 닥터, ZAINO, 쿠큐, ALL, 210382, https://image-comic.pstatic.net/webtoon/765804/thumbnail/thumbnail_IMAG21_7003208699811542067.jpg, FRIDAY, 드라마,직업드라마,사이다,의학드라마,소설원작\n",
      "802833, 보스였음, 럭스, 럭스, RATE_15, 137187, https://image-comic.pstatic.net/webtoon/802833/thumbnail/thumbnail_IMAG21_99b5f54a-dfbe-4ed6-90b5-44a966d2a00f.jpg, THURSDAY, 액션\n",
      "802906, 우리 무슨 사이야?, 고농, 고농, ALL, 81582, https://image-comic.pstatic.net/webtoon/802906/thumbnail/thumbnail_IMAG21_a0759dac-4e68-4ce1-b787-a2a235d1bd37.jpg, FRIDAY, 로맨스\n",
      "602916, 칼부림, 고일권, 고일권, RATE_12, 71816, https://image-comic.pstatic.net/webtoon/602916/thumbnail/thumbnail_IMAG21_43cf1d1e-d265-464d-83db-f92dbc3fcf43.jpg, WEDNESDAY, 무협/사극,역사물,판무\n",
      "796466, 영웅&마왕&악당, 모모, 모모, RATE_12, 72730, https://image-comic.pstatic.net/webtoon/796466/thumbnail/thumbnail_IMAG21_2cf2568c-a1c6-4c4f-9a21-94b7c8136893.jpg, WEDNESDAY, 판타지,까칠남,소설원작\n",
      "183559, 신의 탑, SIU, SIU, RATE_12, 1965212, https://image-comic.pstatic.net/webtoon/183559/thumbnail/thumbnail_IMAG21_5f3fec31-5c95-4afe-a73f-3046288edb47.jpg, MONDAY, 판타지,세계관,이능력배틀물,소년왕도물,먼치킨\n",
      "807776, 달과 인어, 원산지, 원산지, ALL, 45393, https://image-comic.pstatic.net/webtoon/807776/thumbnail/thumbnail_IMAG21_7cb79cf9-3939-4a1b-b53e-9447e5f22f7c.jpg, SATURDAY, 드라마,러블리,힐링,인외존재,성장드라마,감성드라마\n",
      "802872, DARK MOON: 회색 도시, HYBE, HYBE, RATE_12, 17587, https://image-comic.pstatic.net/webtoon/802872/thumbnail/thumbnail_IMAG21_c80f6d62-0971-4806-9aa5-9cc0d9e5599e.jpg, TUESDAY, 판타지,세계관,다크판타지,느와르\n",
      "799868, 행운을 부탁해!, 해롱, 해롱, ALL, 24071, https://image-comic.pstatic.net/webtoon/799868/thumbnail/thumbnail_IMAG21_edfa4344-9f13-4a6c-8b9f-00d08cf37a1d.jpg, MONDAY, 로맨스,로맨스코미디,현실로맨스,로판\n",
      "810682, 범상찮은 밤, 어사화, 어사화, RATE_15, 28763, https://image-comic.pstatic.net/webtoon/810682/thumbnail/thumbnail_IMAG21_09e253e0-1fdd-4758-9109-ecf605569ca6.jpg, WEDNESDAY, 드라마,2022지상최대공모전,사이다,서스펜스,복수극\n",
      "814362, 시한부의 아이까지 뺏으려 합니다, 랍스타, 랍스타, ALL, 15518, https://image-comic.pstatic.net/webtoon/814362/thumbnail/thumbnail_IMAG21_16247d91-5c88-43aa-80e3-f28b2daf868d.jpg, MONDAY, 로맨스,소설원작\n",
      "797937, 순수한 동거생활, 성은, 성은, RATE_12, 170019, https://image-comic.pstatic.net/webtoon/797937/thumbnail/thumbnail_IMAG21_2614c677-2b48-4d30-af5c-170964180b51.jpg, THURSDAY, 로맨스,현실로맨스,오피스로맨스,연상연하,사내연애,소설원작\n",
      "733074, 백수세끼, 치즈, 치즈, ALL, 482842, https://image-comic.pstatic.net/webtoon/733074/thumbnail/thumbnail_IMAG21_80df3e76-47af-4007-b57c-e8f2830835e5.jpg, MONDAY, 드라마,음식&요리,감성드라마\n",
      "809579, 윗집 그 남자, 핸저 아트, 핸저 아트, RATE_15, 41867, https://image-comic.pstatic.net/webtoon/809579/thumbnail/thumbnail_IMAG21_424dd48b-0c3d-4100-8fa9-cd37f95e81aa.jpg, TUESDAY, 스릴러,해외작품,집착물\n",
      "756140, 라서드, 감람, 감람, RATE_12, 62668, https://image-comic.pstatic.net/webtoon/756140/thumbnail/thumbnail_IMAG21_7c527b6e-773f-40c8-aa1a-5cbd9e7dc482.jpg, MONDAY, 판타지\n",
      "804145, 에브리띵 이즈 파인, 마이크 버첼, 마이크 버첼, RATE_15, 104611, https://image-comic.pstatic.net/webtoon/804145/thumbnail/thumbnail_IMAG21_4fef0e05-88f3-44a6-8851-1f1c474e0678.jpg, WEDNESDAY, 스릴러,해외작품\n",
      "808482, 게임 속 바바리안으로 살아남기, 한태수, MIDNIGHT STUDIO, RATE_15, 61964, https://image-comic.pstatic.net/webtoon/808482/thumbnail/thumbnail_IMAG21_8d99e7c4-0d9c-4b75-9947-5b32ca178482.jpg, THURSDAY, 판타지,지금추천작,소설원작\n",
      "813454, 이섭의 연애, 248, 248, RATE_15, 90187, https://image-comic.pstatic.net/webtoon/813454/thumbnail/thumbnail_IMAG21_5bb6458f-1629-4e91-bbbd-c8c3bca738b8.jpg, TUESDAY, 로맨스,재벌,오피스로맨스,사내연애,까칠남,소설원작\n",
      "750558, 로어 올림푸스, 레이첼스마이스, 레이첼스마이스, RATE_15, 91075, https://image-comic.pstatic.net/webtoon/750558/thumbnail/thumbnail_IMAG21_7148167415155931235.jpg, WEDNESDAY, 로맨스,해외작품,역사물,세계관,인외존재,구원서사\n",
      "778967, 랑데뷰, 제로, 제로, RATE_15, 151609, https://image-comic.pstatic.net/webtoon/778967/thumbnail/thumbnail_IMAG21_b0341594-06f3-4b2e-9a3d-da333cae2880.jpg, SUNDAY, 드라마,감성드라마\n",
      "774358, 천마는 평범하게 살 수 없다, 철범, 우푸, RATE_15, 175904, https://image-comic.pstatic.net/webtoon/774358/thumbnail/thumbnail_IMAG21_580067f4-3434-475f-ba51-3bbc86c6ad7d.jpg, TUESDAY, 판타지,소설원작\n",
      "793410, 별빛 커튼콜, 아르몽, 아르몽, ALL, 46595, https://image-comic.pstatic.net/webtoon/793410/thumbnail/thumbnail_IMAG21_e2baecd4-0f45-40b2-9de9-667f86e1f7f2.jpg, FRIDAY, 로맨스,힐링,청춘로맨스,인플루언서,성장드라마\n",
      "758675, 그 기사가 레이디로 사는 법, 아인, lnk., ALL, 230064, https://image-comic.pstatic.net/webtoon/758675/thumbnail/thumbnail_IMAG21_b5ba4df8-fff7-47a0-86f0-2960a054e03e.jpg, FRIDAY, 판타지,혐관로맨스,삼각관계,빙의,로판,소설원작\n",
      "814541, ㅋㅋ단편.zip, 네이버웹툰 작가, 네이버웹툰 작가, ALL, 10518, https://image-comic.pstatic.net/webtoon/814541/thumbnail/thumbnail_IMAG21_18a2bffa-6c6e-4884-ab41-45b4646cabe3.jpg, MONDAY, 개그\n",
      "783814, 엑스애쉬, 김세훈, 이광수, RATE_12, 98235, https://image-comic.pstatic.net/webtoon/783814/thumbnail/thumbnail_IMAG21_3472617502213103923.jpg, SATURDAY, 판타지,게임판타지,소년왕도물\n",
      "786496, 아사, 우새새, 우새새, RATE_15, 121553, https://image-comic.pstatic.net/webtoon/786496/thumbnail/thumbnail_IMAG21_c3f8631d-abd5-48b8-9f72-25faafd32904.jpg, SATURDAY, 판타지,2020지상최대공모전,동양풍판타지\n",
      "807159, 포스트 팬데믹, 좡좡, 영명, RATE_15, 20649, https://image-comic.pstatic.net/webtoon/807159/thumbnail/thumbnail_IMAG21_e7c75b1e-7bc4-484b-874d-1245f114479e.jpg, MONDAY, 스릴러,소설원작\n",
      "805730, 누가 나를 죽였을까, 후, 후, RATE_18, 34156, https://image-comic.pstatic.net/webtoon/805730/thumbnail/thumbnail_IMAG21_385b1660-0880-4713-873e-1a1cd45744a0.jpg, WEDNESDAY, 스릴러,서스펜스,성인웹툰\n",
      "803934, 나랑X할래?, 진자, 정생, RATE_15, 177601, https://image-comic.pstatic.net/webtoon/803934/thumbnail/thumbnail_IMAG21_4fabee83-c9ef-4a00-96f3-0ed4a45b90b5.jpg, SATURDAY, 로맨스\n",
      "797442, 멜빈이 그들에게 남긴 것, 삼칠13, 팀 해피게리, RATE_12, 91031, https://image-comic.pstatic.net/webtoon/797442/thumbnail/thumbnail_IMAG21_cce91579-a3d8-45c0-b82e-c8e9a64faf69.jpg, FRIDAY, 로맨스,햇살캐,레드아이스스튜디오,힐링,로판,소설원작\n",
      "751999, 백년게임, 하람, 지야, RATE_12, 76420, https://image-comic.pstatic.net/webtoon/751999/thumbnail/thumbnail_IMAG21_8797d0ef-cefd-463b-bf97-1361a5de293b.jpg, FRIDAY, 판타지\n",
      "780253, 두 번 사는 프로듀서, 여로운, 여로운, RATE_12, 59782, https://image-comic.pstatic.net/webtoon/780253/thumbnail/thumbnail_IMAG21_c85d6008-87f8-46c8-82b7-2b744dd5723d.jpg, WEDNESDAY, 판타지,직업드라마,회귀,연예계,소설원작\n",
      "602910, 윈드브레이커, 조용석, 조용석, RATE_12, 1149313, https://image-comic.pstatic.net/webtoon/602910/thumbnail/thumbnail_IMAG21_e861f2cf-6157-4d33-8e02-7b4cbf0a8baf.jpg, MONDAY, 스포츠,스포츠성장\n",
      "807397, 고백어택, 늠개, 늠개, ALL, 67082, https://image-comic.pstatic.net/webtoon/807397/thumbnail/thumbnail_IMAG21_d0a7cee2-4ded-4506-aedf-71c25675247c.jpg, MONDAY, 로맨스,짝사랑,학원로맨스\n",
      "783117, 만능잡캐, 홍실, 김대훈, RATE_15, 112466, https://image-comic.pstatic.net/webtoon/783117/thumbnail/thumbnail_IMAG21_7364620379494637924.jpg, THURSDAY, 판타지,고인물,아포칼립스,게임판타지,먼치킨\n",
      "803518, 서브 남주가 파업하면 생기는 일, 쓰레빠인간, 해그늘, ALL, 75084, https://image-comic.pstatic.net/webtoon/803518/thumbnail/thumbnail_IMAG21_32d146f5-7e22-4fe4-bc73-92b2e446d7f7.jpg, MONDAY, 판타지,로판,소설원작\n",
      "697533, 미시령, 모코넛, 모코넛, RATE_15, 152949, https://image-comic.pstatic.net/webtoon/697533/thumbnail/thumbnail_IMAG21_e9f62ca7-39be-4dd4-bfa7-4709a70aca32.jpg, WEDNESDAY, 스릴러,최강자전,2016최강자전\n",
      "792372, 산의 시간, 지님, 지님, ALL, 12412, https://image-comic.pstatic.net/webtoon/792372/thumbnail/thumbnail_IMAG21_73240292-aa0a-4bd0-a87f-7e17993c4011.jpg, WEDNESDAY, 드라마\n",
      "801736, 폭군님은 착하게 살고 싶어, 람글, 카콘, ALL, 177083, https://image-comic.pstatic.net/webtoon/801736/thumbnail/thumbnail_IMAG21_4cef0649-b3cf-4a27-8eda-afb93d6f6bf4.jpg, FRIDAY, 로맨스\n",
      "807600, 악취해결사, 샘샘, 샘샘, ALL, 23459, https://image-comic.pstatic.net/webtoon/807600/thumbnail/thumbnail_IMAG21_f1a481c2-78fb-433d-8db4-01e31b150755.jpg, MONDAY, 드라마,최강자전,2021최강자전,학원물,성장드라마\n",
      "740132, 중독연구소, 김택기, 김택기, ALL, 28124, https://image-comic.pstatic.net/webtoon/740132/thumbnail/thumbnail_IMAG21_d6f6e062-23d4-432a-a4be-6e1e66f63ede.jpg, MONDAY, 드라마\n",
      "735661, 재혼 황후, 히어리, 숨풀, RATE_15, 926352, https://image-comic.pstatic.net/webtoon/735661/thumbnail/thumbnail_IMAG21_4b3c44a0-f286-4878-bac3-84c3ec9dc0a1.jpg, FRIDAY, 로맨스,다정남,후회물,궁중로맨스,혐관로맨스,직진남,이세계,연상연하,역하렘,선결혼후연애,삼각관계,로판,걸크러시,소설원작\n",
      "807308, 나를 낳아줘, 미티, 연주, RATE_15, 50967, https://image-comic.pstatic.net/webtoon/807308/thumbnail/thumbnail_IMAG21_bdecad71-95ad-4faf-b4e4-c131425da94f.jpg, WEDNESDAY, 드라마,현실로맨스\n",
      "794644, 사랑하는 여배우들, 고나리자, 수정, ALL, 23544, https://image-comic.pstatic.net/webtoon/794644/thumbnail/thumbnail_IMAG21_6d7a7af6-ed5d-474f-bae0-f5fc70cef0e6.jpg, THURSDAY, 로맨스,연예계\n",
      "790776, 붉은 이정표, 달뜬, 달뜬, RATE_15, 49127, https://image-comic.pstatic.net/webtoon/790776/thumbnail/thumbnail_IMAG21_683f454e-5f7a-416b-936b-8a06cb1c3cae.jpeg, TUESDAY, 액션,사이다,동양풍판타지,복수극,먼치킨\n",
      "771912, THE 런웨이, 도미, 녹두, RATE_15, 130615, https://image-comic.pstatic.net/webtoon/771912/thumbnail/thumbnail_IMAG21_f5c91d16-dbed-423a-be2a-ea025ef95ead.jpg, THURSDAY, 로맨스,오피스로맨스,사내연애,소설원작\n",
      "801035, 퍼니게임, 배진수, 배진수, RATE_15, 88110, https://image-comic.pstatic.net/webtoon/801035/thumbnail/thumbnail_IMAG21_01fd148f-edb2-4ada-9571-910981ec3376.jpg, MONDAY, 스릴러\n",
      "764623, 오로지 오로라, 홍달, 홍달, ALL, 48878, https://image-comic.pstatic.net/webtoon/764623/thumbnail/thumbnail_IMAG21_7305232428546929716.jpg, MONDAY, 판타지,최강자전,2019최강자전,히어로\n",
      "769209, 화산귀환, LICO, LICO, RATE_15, 1137225, https://image-comic.pstatic.net/webtoon/769209/thumbnail/thumbnail_IMAG21_3511dcdd-6e33-4171-8839-598d6d266215.jpg, WEDNESDAY, 무협/사극,세계관,동양풍판타지,힘숨찐,회귀,이세계,먼치킨,소설원작\n",
      "712362, 개를 낳았다, 이선, 이선, ALL, 511128, https://image-comic.pstatic.net/webtoon/712362/thumbnail/thumbnail_IMAG21_7220173143199539507.jpg, FRIDAY, 드라마,무해한,동물,감성드라마\n",
      "745876, 플레이어, 박종석, 오현준, RATE_12, 208856, https://image-comic.pstatic.net/webtoon/745876/thumbnail/thumbnail_IMAG21_ad75ad2a-a372-4f6c-873c-41ddd2e11f79.jpg, FRIDAY, 액션,게임판타지,이능력배틀물\n",
      "787500, 은탄, 김규삼, 김규삼, RATE_15, 129584, https://image-comic.pstatic.net/webtoon/787500/thumbnail/thumbnail_IMAG21_7090184484697487202.jpg, SATURDAY, 판타지,오컬트,동양풍판타지,먼치킨,다크히어로\n",
      "814535, 백씨세가 시한부 공자, 단박, 과장, RATE_15, 4476, https://image-comic.pstatic.net/webtoon/814535/thumbnail/thumbnail_IMAG21_20cd5f4e-09d2-4ebc-be63-c3368c46354f.jpg, TUESDAY, 판타지,소설원작\n",
      "814213, 용사보다 너무 강해서 힘을 숨김, 승한, 예림, RATE_15, 16528, https://image-comic.pstatic.net/webtoon/814213/thumbnail/thumbnail_IMAG21_f5547951-b364-4daa-b4ca-c809375072fd.jpg, SUNDAY, 액션\n",
      "797943, 원수가 나를 유혹할 때, 황비노, 포롱, ALL, 34200, https://image-comic.pstatic.net/webtoon/797943/thumbnail/thumbnail_IMAG21_6733cb7f-79aa-4ecd-8a22-ed34a17684d8.jpg, TUESDAY, 로맨스,폭스남,2030연애,로맨스코미디,회귀,직진남,소설원작\n",
      "811721, 무직백수 계백순, 지발, 지발, RATE_15, 130008, https://image-comic.pstatic.net/webtoon/811721/thumbnail/thumbnail_IMAG21_9a2a959a-666b-4156-8e4f-db64dfe319c6.jpg, WEDNESDAY, 개그,요즘핫한추천작\n",
      "796075, 절대검감, 김두루미, 티아이, RATE_12, 116001, https://image-comic.pstatic.net/webtoon/796075/thumbnail/thumbnail_IMAG21_31f75c4c-81c9-454a-8d92-9e23b577e1a5.jpg, MONDAY, 무협/사극,환골탈태,소설원작\n",
      "738694, 튜토리얼 탑의 고인물, 토프, 토프, RATE_15, 342280, https://image-comic.pstatic.net/webtoon/738694/thumbnail/thumbnail_IMAG21_7366031057188643120.jpg, WEDNESDAY, 액션,고인물,아포칼립스,사이다,게임판타지,헌터물,먼치킨,소설원작\n",
      "812017, 배드 엔딩 메이커, 오일구, 심재영, ALL, 47359, https://image-comic.pstatic.net/webtoon/812017/thumbnail/thumbnail_IMAG21_81b7c01e-af62-44de-af3f-9010104f9843.jpg, TUESDAY, 판타지,피카레스크,게임판타지,소설원작\n",
      "812354, 신혼일기, 자까, 자까, ALL, 332518, https://image-comic.pstatic.net/webtoon/812354/thumbnail/thumbnail_IMAG21_f391c11a-9a74-4e0c-b601-2fcebafffd07.jpg, THURSDAY, 일상,2030연애,친구>연인\n",
      "799838, 메소드 연기법, 김이연, 김이연, RATE_15, 35161, https://image-comic.pstatic.net/webtoon/799838/thumbnail/thumbnail_IMAG21_e19883fb-74f1-4491-9b72-8731946a11fc.jpg, FRIDAY, 스릴러,계략여주\n",
      "807029, 묘약마녀, 자유, 자유, ALL, 75119, https://image-comic.pstatic.net/webtoon/807029/thumbnail/thumbnail_IMAG21_4f5f473d-60ff-4ee5-86e9-052e5efd2aeb.jpg, SATURDAY, 판타지,성장드라마\n",
      "792120, 아이돌의 비밀 스터디, 우아람, 우아람, RATE_12, 11602, https://image-comic.pstatic.net/webtoon/792120/thumbnail/thumbnail_IMAG21_a9d3ae51-ae12-496a-a059-e124410f4108.jpg, WEDNESDAY, 드라마,아이돌,2020지상최대공모전,연예계,성장드라마\n",
      "801809, 연애고수, 햇님, 햇님, RATE_15, 39705, https://image-comic.pstatic.net/webtoon/801809/thumbnail/thumbnail_IMAG21_6764cc3d-eca6-4875-9e34-7c3b50c78bf3.jpg, WEDNESDAY, 로맨스,전남친,직진남,인플루언서,삼각관계\n",
      "803480, 노빠꾸 최하영, 우엉이, 우엉이, RATE_12, 59835, https://image-comic.pstatic.net/webtoon/803480/thumbnail/thumbnail_IMAG21_2e2c5658-1865-4b48-90f8-f9dfa07ab9ef.jpg, SUNDAY, 액션,4차원,힘숨찐,학원물\n",
      "670145, 킬더킹, 마사토끼, joana, ALL, 72026, https://image-comic.pstatic.net/webtoon/670145/thumbnail/thumbnail_IMAG21_3905854744587100517.jpg, THURSDAY, 드라마,두뇌싸움\n",
      "769663, 더블클릭, 박수봉, 박수봉, ALL, 166908, https://image-comic.pstatic.net/webtoon/769663/thumbnail/thumbnail_IMAG21_935bf47d-9219-4f45-8a58-d5a7af13ce51.jpg, MONDAY, 액션,게임판타지,스포츠성장\n",
      "798664, 자매전쟁, 기맹기, 기맹기, RATE_12, 323644, https://image-comic.pstatic.net/webtoon/798664/thumbnail/thumbnail_IMAG21_38708e4d-5ed5-4301-b4a6-b9e794b173c4.jpeg, SUNDAY, 드라마,계략여주,학원로맨스,복수극\n",
      "732021, 탑코너, 윤성, 라군, ALL, 146904, https://image-comic.pstatic.net/webtoon/732021/thumbnail/thumbnail_IMAG21_3617062741365437232.jpg, SATURDAY, 스포츠,축구,스포츠성장\n",
      "797184, 대충 캠퍼스로맨스임, 공철진, 공철진, RATE_15, 296115, https://image-comic.pstatic.net/webtoon/797184/thumbnail/thumbnail_IMAG21_7161629625811166819.jpg, SATURDAY, 로맨스,로맨스코미디,캠퍼스로맨스,삼각관계\n",
      "723046, 하우스키퍼, 채용택, 유현, RATE_15, 188488, https://image-comic.pstatic.net/webtoon/723046/thumbnail/thumbnail_IMAG21_c9dc9f1e-6e34-4ae8-9ea3-e94dda2dbef5.jpg, TUESDAY, 판타지,슈퍼스트링,아포칼립스,sf,먼치킨,감염\n",
      "808994, 흑화한 노예남을 길들였다, LICO, LICO, RATE_15, 154216, https://image-comic.pstatic.net/webtoon/808994/thumbnail/thumbnail_IMAG21_a20585d3-f39f-49cd-9425-4ff59487fd57.jpg, SATURDAY, 로맨스,요즘핫한추천작,소설원작\n",
      "802272, 독거미, 신진우, 홍순식, RATE_15, 10468, https://image-comic.pstatic.net/webtoon/802272/thumbnail/thumbnail_IMAG21_bbcca2f4-1063-4a0b-9af7-b7a714171b71.jpg, THURSDAY, 드라마,범죄,서스펜스,복수극,먼치킨\n",
      "797819, 우투리: THE LEGACY, 이재헌, 홍기우, RATE_15, 18444, https://image-comic.pstatic.net/webtoon/797819/thumbnail/thumbnail_IMAG21_2efb3bf2-b392-4c9d-8662-f0c493ddafe3.jpg, TUESDAY, 판타지\n",
      "812851, 망치하르방, 상상어, 상상어, RATE_12, 42735, https://image-comic.pstatic.net/webtoon/812851/thumbnail/thumbnail_IMAG21_2a769f30-0067-470b-838a-18856e7e0f8f.jpg, WEDNESDAY, 판타지,힘숨찐,먼치킨\n",
      "812594, 신입사원 김철수, 스튜디오MW, 권다희, RATE_15, 21367, https://image-comic.pstatic.net/webtoon/812594/thumbnail/thumbnail_IMAG21_7dd78989-bb75-49e9-baa9-cbc5e918af00.jpg, TUESDAY, 판타지,타임슬립,힐링,직업드라마,회귀,복수극,두뇌싸움,소설원작\n",
      "759940, 만렙돌파, 성불예정, 미노, RATE_15, 247385, https://image-comic.pstatic.net/webtoon/759940/thumbnail/thumbnail_IMAG21_3976787538998813497.jpg, MONDAY, 판타지,고인물,게임판타지,먼치킨\n",
      "786262, 생존고백, 박태현, 박태현, RATE_12, 66836, https://image-comic.pstatic.net/webtoon/786262/thumbnail/thumbnail_IMAG21_ef76cf9e-0742-400a-8dcb-2720679c9764.jpg, SUNDAY, 로맨스,2021지상최대공모전,오컬트\n",
      "812121, 자매의 사생활, 조주희, 뉘롬, RATE_15, 39830, https://image-comic.pstatic.net/webtoon/812121/thumbnail/thumbnail_IMAG21_8d4a2ffb-4ce5-4a27-8554-462ae7055592.jpg, TUESDAY, 로맨스,재벌,고자극로맨스,2030연애,로맨스코미디,혐관로맨스,계약연애\n",
      "774451, 아빠같은 남자, 이수민, 이수민, RATE_12, 27459, https://image-comic.pstatic.net/webtoon/774451/thumbnail/thumbnail_IMAG21_dfacd585-dc48-410e-b91d-1a3131a4c54d.jpg, THURSDAY, 드라마\n",
      "801992, 뜨거운 홍차, 에리카, ZZING, ALL, 63971, https://image-comic.pstatic.net/webtoon/801992/thumbnail/thumbnail_IMAG21_84951a6c-71f7-42d1-8656-2625b47a9de9.jpg, FRIDAY, 로맨스,학원로맨스,소설원작\n",
      "805671, 공작저의 붉은 밤, H.C, 타샤토토, RATE_15, 20074, https://image-comic.pstatic.net/webtoon/805671/thumbnail/thumbnail_IMAG21_8be4a557-d691-48b1-8445-199e6c0c5dbd.jpg, TUESDAY, 로맨스,선결혼후연애,뱀파이어,로판,구원서사,소설원작\n",
      "801555, 언다잉, 임목원, 임목원, RATE_12, 48516, https://image-comic.pstatic.net/webtoon/801555/thumbnail/thumbnail_IMAG21_e90dca57-f705-4a4e-8848-752d809b4b8b.jpg, FRIDAY, 스릴러\n",
      "792317, 결혼공략, 율무, 율무, ALL, 46420, https://image-comic.pstatic.net/webtoon/792317/thumbnail/thumbnail_IMAG21_524ed207-a4c2-4864-b8e1-3aef96a7ba41.jpg, MONDAY, 로맨스,로맨스코미디,캠퍼스로맨스,청춘로맨스\n",
      "814371, 시한부 기사가 되었다, 김두루미, 최윤열, RATE_15, 8490, https://image-comic.pstatic.net/webtoon/814371/thumbnail/thumbnail_IMAG21_45b13cf0-1c9a-4582-9a03-830329440c2a.jpg, SATURDAY, 판타지,헌터물,다크판타지,소설원작\n",
      "785749, 슈퍼스타 천대리, Do8, 이재국, ALL, 21412, https://image-comic.pstatic.net/webtoon/785749/thumbnail/thumbnail_IMAG21_7d010b0f-a77f-4449-a910-1816e2c547cc.jpg, MONDAY, 감성,음악,연예계,소설원작\n",
      "778968, 밤을 깨우는 마법, 외딴, 외딴, ALL, 51489, https://image-comic.pstatic.net/webtoon/778968/thumbnail/thumbnail_IMAG21_7364286329789702709.jpg, SATURDAY, 판타지,2020지상최대공모전\n",
      "802079, 청춘계시록, 한서, 한서, ALL, 274124, https://image-comic.pstatic.net/webtoon/802079/thumbnail/thumbnail_IMAG21_848d280d-a280-4b16-979a-9a9484113b16.jpg, SUNDAY, 로맨스,로맨스코미디,2021지상최대공모전,현실로맨스,학원로맨스,하이틴,학원물,친구>연인,사이비종교\n",
      "738487, 하루만 네가 되고 싶어, 삼, 삼, RATE_15, 706370, https://image-comic.pstatic.net/webtoon/738487/thumbnail/thumbnail_IMAG21_66eac5ec-876b-469e-ab05-81261fddde8d.jpg, TUESDAY, 로맨스,최강자전,2019최강자전,직진남,이세계,역하렘,삼각관계,두뇌싸움,로판,걸크러시,구원서사\n",
      "800770, 재벌집 막내아들, JP, 김병관, RATE_12, 266261, https://image-comic.pstatic.net/webtoon/800770/thumbnail/thumbnail_IMAG21_d2e1e7ee-fc83-4030-a1e7-200378bc088f.jpg, THURSDAY, 드라마,재벌,타임슬립,드라마&영화원작웹툰,회귀,빙의,복수극,두뇌싸움,소설원작\n",
      "814538, 오만의 시대, 팀 코모도, 한솔, RATE_15, 20502, https://image-comic.pstatic.net/webtoon/814538/thumbnail/thumbnail_IMAG21_37b888c5-d7d7-4722-95b2-2be5687efdda.jpg, THURSDAY, 로맨스,요즘핫한추천작,로판,소설원작\n",
      "813410, 神장산범, 령, 서루, RATE_15, 74062, https://image-comic.pstatic.net/webtoon/813410/thumbnail/thumbnail_IMAG21_9a889dbd-cd44-4cce-a01c-f7b73f42734e.jpg, SUNDAY, 로맨스,폭스남,로맨스코미디,인외존재,빙의,구원서사\n",
      "784582, 소년 검사, 혁씨, 혁씨, RATE_15, 51466, https://image-comic.pstatic.net/webtoon/784582/thumbnail/thumbnail_IMAG21_e433729e-1bd9-4a35-aa16-d43bee995a62.jpg, SATURDAY, 판타지,게임판타지,성장드라마\n",
      "801593, 사내고충처리반, 정주행, JINU, RATE_12, 28356, https://image-comic.pstatic.net/webtoon/801593/thumbnail/thumbnail_IMAG21_f551544b-d49b-44b3-8360-fb2594f889ee.jpg, WEDNESDAY, 드라마,범죄,직업드라마,복수극\n",
      "808198, 촉법소년, 박태준 만화회사, 정종택, RATE_15, 265786, https://image-comic.pstatic.net/webtoon/808198/thumbnail/thumbnail_IMAG21_2aabb538-5b1a-4d74-81ed-b41bb8a155ff.jpg, THURSDAY, 액션,지금추천작\n",
      "774832, 같은 학교 친구, 유유, 유유, ALL, 256757, https://image-comic.pstatic.net/webtoon/774832/thumbnail/thumbnail_IMAG21_b90a49f3-7ef2-4898-94b3-acfa634b3ed7.jpg, SATURDAY, 로맨스,러블리,2020지상최대공모전,학원로맨스,하이틴\n",
      "730425, 판타지 여동생!, 유누, 유누, ALL, 123047, https://image-comic.pstatic.net/webtoon/730425/thumbnail/thumbnail_IMAG21_3835209134721021750.jpg, WEDNESDAY, 판타지,게임판타지\n",
      "807550, 허리케인 공주님, 랑또, 랑또, ALL, 87054, https://image-comic.pstatic.net/webtoon/807550/thumbnail/thumbnail_IMAG21_ceb5dd8c-f8b0-4af2-aadc-14da357b6104.jpg, SUNDAY, 개그,요즘핫한추천작,학원물,이세계,성장드라마\n",
      "801517, 퇴근 후에 만나요, 박한나, 햄친, RATE_12, 40540, https://image-comic.pstatic.net/webtoon/801517/thumbnail/thumbnail_IMAG21_0a77b0a7-0677-4228-b88b-84619093999f.jpg, MONDAY, 로맨스,2030연애,로맨스코미디,전남친,오피스로맨스,사내연애,소설원작\n",
      "783050, 신군, 규남, 규남, RATE_15, 92457, https://image-comic.pstatic.net/webtoon/783050/thumbnail/thumbnail_IMAG21_ca9a662b-7a79-4e80-94c9-d62ebe597aad.jpg, MONDAY, 액션,소년왕도물\n",
      "809872, 룸9, 은작, 은작, RATE_15, 25667, https://image-comic.pstatic.net/webtoon/809872/thumbnail/thumbnail_IMAG21_54a73ea1-f5b7-482e-81be-6e5d049b7e3e.jpg, FRIDAY, 스릴러\n",
      "795262, 사형소년, 김숭늉, 광산, RATE_15, 329665, https://image-comic.pstatic.net/webtoon/795262/thumbnail/thumbnail_IMAG21_6904a7bd-e806-4f49-9b00-ee882a86fd4b.jpg, SUNDAY, 스릴러,사이다\n",
      "764480, 트리거, 고경빈, 고경빈, RATE_15, 26289, https://image-comic.pstatic.net/webtoon/764480/thumbnail/thumbnail_IMAG21_9551ea28-1692-4478-a090-10ef47770f40.jpg, MONDAY, 판타지,아포칼립스,인외존재\n",
      "806265, 더 캐슬 - 귀안의 신부, 혜용, 피칸, RATE_15, 58024, https://image-comic.pstatic.net/webtoon/806265/thumbnail/thumbnail_IMAG21_5c7b929f-cc5f-4325-8628-a3118b4d698d.jpg, SATURDAY, 로맨스,직진남,선결혼후연애,로판,소설원작\n",
      "793275, 작전명 순정, 꼬까리, 들덤, ALL, 682198, https://image-comic.pstatic.net/webtoon/793275/thumbnail/thumbnail_IMAG21_30c77a8d-ada1-40f8-b87a-d02bb05e7e13.jpg, SATURDAY, 로맨스,2021지상최대공모전,하이틴\n",
      "733280, 나를 바꿔줘, 이지호, 호띠, RATE_15, 257983, https://image-comic.pstatic.net/webtoon/733280/thumbnail/thumbnail_IMAG21_cf0ca5a3-b4be-4f10-a3b3-ed0274de8d8e.jpg, SATURDAY, 드라마\n",
      "808677, 최고의 뿔소라, 김인정, 김인정, RATE_12, 48768, https://image-comic.pstatic.net/webtoon/808677/thumbnail/thumbnail_IMAG21_73e14c93-e8b2-4bb7-80e9-2e0054655813.jpg, SUNDAY, 로맨스,무해한,다정남,2030연애,로맨스코미디,현실로맨스,연예계,성장드라마,구원서사,감성드라마\n",
      "774051, 남편을 만렙으로 키우려 합니다, 유기농, 컬린, RATE_12, 195041, https://image-comic.pstatic.net/webtoon/774051/thumbnail/thumbnail_IMAG21_0cf6ad18-a403-4a35-913b-e6648b66c5a8.jpg, SATURDAY, 로맨스,회귀,선결혼후연애,소설원작\n",
      "811908, 대박사건, 광진, 그나, RATE_15, 18913, https://image-comic.pstatic.net/webtoon/811908/thumbnail/thumbnail_IMAG21_32171763-13bc-4f0c-af2e-b1112a8cf698.jpg, SATURDAY, 스릴러,범죄,서스펜스,복수극,두뇌싸움\n",
      "802840, 저 그런 인재 아닙니다, 에몽, 머나, ALL, 206128, https://image-comic.pstatic.net/webtoon/802840/thumbnail/thumbnail_IMAG21_1ae41652-be65-4c1d-be08-8df716aaa41c.jpg, TUESDAY, 판타지,세계관,이세계,다크히어로,소설원작\n",
      "802578, 신의 최애캐, 김찹쌀, 김찹쌀, RATE_12, 16650, https://image-comic.pstatic.net/webtoon/802578/thumbnail/thumbnail_IMAG21_d687ee7c-9d25-4b56-8b89-b0acf3c0662a.jpg, FRIDAY, 드라마,2022지상최대공모전,타임슬립\n",
      "797259, 이 결혼, 새로고침, 영, 다프네 박, RATE_15, 52410, https://image-comic.pstatic.net/webtoon/797259/thumbnail/thumbnail_IMAG21_4135202076969481273.jpg, TUESDAY, 로맨스,계약연애,소설원작\n",
      "807537, 서울밤피어, 송지형, 송지형, RATE_15, 38039, https://image-comic.pstatic.net/webtoon/807537/thumbnail/thumbnail_IMAG21_327d2143-755b-44a5-acd0-82e8c0c11b62.jpg, THURSDAY, 판타지,뱀파이어,먼치킨,다크판타지\n",
      "798622, 천상의 주인, 권러프, MOOHAK, RATE_12, 25730, https://image-comic.pstatic.net/webtoon/798622/thumbnail/thumbnail_IMAG21_0fd8f2b5-635c-4d34-ad9a-ef26e4de39ac.jpg, FRIDAY, 판타지,소년왕도물\n",
      "727188, 취사병 전설이 되다, 제이로빈, 이진수, ALL, 424298, https://image-comic.pstatic.net/webtoon/727188/thumbnail/thumbnail_IMAG21_d4726354-42bc-4bdf-b500-02c951082eeb.jpg, SATURDAY, 판타지,직업드라마,밀리터리,게임판타지,음식&요리,소설원작\n",
      "803119, 푸른 밤, 황홀의 윤무, 호찌, 해독, RATE_15, 57506, https://image-comic.pstatic.net/webtoon/803119/thumbnail/thumbnail_IMAG21_cfc478c6-3b56-4bdf-b959-089775b2b916.jpg, FRIDAY, 로맨스,고자극로맨스,혐관로맨스,뱀파이어,까칠남,소설원작\n",
      "813641, 도깨비의 밤, 문식, 도올, RATE_12, 40046, https://image-comic.pstatic.net/webtoon/813641/thumbnail/thumbnail_IMAG21_a53a4e1b-3395-44da-b9dc-6fe08c98bee5.jpg, FRIDAY, 액션\n",
      "702608, 랜덤채팅의 그녀!, 박은혁, 박은혁, RATE_15, 571623, https://image-comic.pstatic.net/webtoon/702608/thumbnail/thumbnail_IMAG21_7005692479348499809.jpg, TUESDAY, 드라마,학원물\n",
      "812560, 돈내놔, 은류, 도늑, RATE_15, 25164, https://image-comic.pstatic.net/webtoon/812560/thumbnail/thumbnail_IMAG21_72e2af78-cf9b-4a45-9e31-e9ccf1a3ee25.jpg, THURSDAY, 액션,서바이벌,사이다,게임판타지,먼치킨,머니게임,두뇌싸움\n",
      "814398, 로맨스 당도 백퍼센트, 이동건, 이동건, ALL, 30607, https://image-comic.pstatic.net/webtoon/814398/thumbnail/thumbnail_IMAG21_23b64b71-1d91-4326-982c-1480462c01e6.jpg, TUESDAY, 일상,러블리,짝사랑,2030연애,로맨스코미디,현실로맨스,하이퍼리얼리즘\n",
      "754876, 카루나, 강호진, 강호진, RATE_12, 17787, https://image-comic.pstatic.net/webtoon/754876/thumbnail/thumbnail_IMAG21_3904682673849053541.jpg, THURSDAY, 판타지\n",
      "793350, 미나 이퀄, 이유정, 이유정, RATE_18, 49968, https://image-comic.pstatic.net/webtoon/793350/thumbnail/thumbnail_IMAG21_3545852647434696500.jpg, SATURDAY, 액션,성인웹툰\n",
      "795529, 아카데미에 위장취업당했다, 타나, WAG, RATE_12, 187826, https://image-comic.pstatic.net/webtoon/795529/thumbnail/thumbnail_IMAG21_60e29e1a-a910-4d27-bca4-30fb5df9e21e.jpg, SUNDAY, 판타지,소설원작\n",
      "783053, 김부장, 박태준 만화회사, 정종택, RATE_15, 564758, https://image-comic.pstatic.net/webtoon/783053/thumbnail/thumbnail_IMAG21_d7732f14-26da-4e35-8762-660cc87b53f1.jpg, TUESDAY, 액션,사이다,먼치킨,다크히어로,느와르\n",
      "813455, 어린 상사, LICO, LICO, RATE_15, 36827, https://image-comic.pstatic.net/webtoon/813455/thumbnail/thumbnail_IMAG21_ddc3190d-f2d9-4087-9675-3d6b3663642b.jpg, WEDNESDAY, 로맨스,현실로맨스,오피스로맨스,소설원작\n",
      "796867, 버림받은 왕녀의 은밀한 침실, 혜니, 혜니, RATE_18, 288323, https://image-comic.pstatic.net/webtoon/796867/thumbnail/thumbnail_IMAG21_77aa5064-b42b-4838-912e-2c6266c53a74.jpg, MONDAY, 로맨스,고자극로맨스,궁중로맨스,까칠남,소설원작,성인웹툰\n",
      "711422, 삼국지톡, 무적핑크, 이리, RATE_12, 165395, https://image-comic.pstatic.net/webtoon/711422/thumbnail/thumbnail_IMAG21_fd8cb5db-01ab-4c7b-a2a9-920d4479d5f7.jpg, TUESDAY, 무협/사극\n",
      "796242, 위대한 겸상, 홍치, 홍치, ALL, 119495, https://image-comic.pstatic.net/webtoon/796242/thumbnail/thumbnail_IMAG21_3558519051501779250.jpg, THURSDAY, 로맨스,음식&요리\n",
      "814048, 마님이네 미국 시골집 이야기, 마님, 마님, ALL, 29408, https://image-comic.pstatic.net/webtoon/814048/thumbnail/thumbnail_IMAG21_234ffc80-64de-4765-b059-6888ae0a9fae.jpg, WEDNESDAY, 일상,러블리,힐링,동물\n",
      "806189, 별난식당, HO9, HO9, ALL, 108694, https://image-comic.pstatic.net/webtoon/806189/thumbnail/thumbnail_IMAG21_292de414-bd9a-418d-a4e9-d97060398223.jpg, MONDAY, 드라마,지금추천작,힐링,직업드라마,음식&요리,성장드라마\n",
      "728128, 합격시켜주세용, 이온, 이온, ALL, 202266, https://image-comic.pstatic.net/webtoon/728128/thumbnail/thumbnail_IMAG21_7089844928995668020.jpg, SUNDAY, 판타지\n",
      "813625, 내가 사랑한 물고기, 우주봄봄, 부발, RATE_12, 52987, https://image-comic.pstatic.net/webtoon/813625/thumbnail/thumbnail_IMAG21_da7dcddf-5dfd-4509-8033-f8d92d79763d.jpg, THURSDAY, 로맨스,세계관,2030연애,로맨스코미디,청춘로맨스,인외존재\n",
      "794383, 브레이커 : 이터널 포스, 전극진, 박진환, RATE_15, 97825, https://image-comic.pstatic.net/webtoon/794383/thumbnail/thumbnail_IMAG21_21ee5311-021a-405a-bc57-eea051c54552.jpg, FRIDAY, 액션,환골탈태,세계관,사이다,소년왕도물,느와르\n",
      "803649, 밤마다 남편이 바뀐다, 구슬, 여슬기, ALL, 197913, https://image-comic.pstatic.net/webtoon/803649/thumbnail/thumbnail_IMAG21_2dd44beb-7a5b-43f0-b9d4-af7829e69c70.jpg, SUNDAY, 로맨스,2030연애,로맨스코미디,선결혼후연애,로판,소설원작\n",
      "808910, 그 악룡은 무엇을 위해 사는가, 호나란, 마누비, ALL, 51451, https://image-comic.pstatic.net/webtoon/808910/thumbnail/thumbnail_IMAG21_7ff45d3f-5da2-49c4-b91a-ad1396ed6793.jpg, THURSDAY, 로맨스,회귀,인외존재,로판,소설원작\n",
      "807826, 내게 종말은 게임이다, HOOPA, HOOPA, RATE_15, 52999, https://image-comic.pstatic.net/webtoon/807826/thumbnail/thumbnail_IMAG21_634e489a-2a62-4078-86e0-ca1a24f55f65.jpg, SUNDAY, 판타지,아포칼립스,게임판타지,인외존재,인플루언서,먼치킨,소설원작\n",
      "804160, 전남편의 미친개를 길들였다, 철무장미, 자개, RATE_15, 209921, https://image-comic.pstatic.net/webtoon/804160/thumbnail/thumbnail_IMAG21_335a77d2-bbcd-4766-83f6-8d90120e9379.jpg, FRIDAY, 로맨스,소설원작\n",
      "795297, 신화급 귀속 아이템을 손에 넣었다, 정선율, 헤스, RATE_15, 296573, https://image-comic.pstatic.net/webtoon/795297/thumbnail/thumbnail_IMAG21_4134925888999731505.jpg, MONDAY, 판타지,아포칼립스,사이다,게임판타지,회귀,헌터물,소년왕도물,먼치킨,구원서사,소설원작\n",
      "812403, 컨트롤X, 사이렌, 서클, RATE_12, 32445, https://image-comic.pstatic.net/webtoon/812403/thumbnail/thumbnail_IMAG21_bc35a097-4b19-43bf-849e-26f8712bd65f.jpg, MONDAY, 로맨스,2022지상최대공모전,전남친,연예계,걸크러시\n",
      "801515, 비서 일탈, 솔방울, 꿀봉이, RATE_15, 121392, https://image-comic.pstatic.net/webtoon/801515/thumbnail/thumbnail_IMAG21_2e85c821-0398-4b06-9c61-66f729974082.jpg, THURSDAY, 로맨스,고자극로맨스,2030연애,직진남,오피스로맨스,소설원작\n",
      "778991, 몸이 바뀌는 사정, 푸릭, 달꽃, RATE_15, 134099, https://image-comic.pstatic.net/webtoon/778991/thumbnail/thumbnail_IMAG21_3544721241449849699.jpg, SUNDAY, 로맨스,집착물,성별반전,직진남,삼각관계,빙의,로판,구원서사,걸크러시,소설원작\n",
      "812168, 강아지는 멍멍하고 짖지 않아!, 얄라리, 얄라리, ALL, 21775, https://image-comic.pstatic.net/webtoon/812168/thumbnail/thumbnail_IMAG21_b0c2ba00-3f16-4e96-923f-920a746aa883.jpg, WEDNESDAY, 일상,무해한,힐링\n",
      "807777, 마도전생기, 포스스튜디오, 포스스튜디오, RATE_15, 109826, https://image-comic.pstatic.net/webtoon/807777/thumbnail/thumbnail_IMAG21_e47489ea-bf97-4726-a8e7-6403092a303a.jpg, SATURDAY, 무협/사극,지금추천작,힘숨찐,판무,소설원작\n",
      "773459, 용사가 돌아왔다, 나락, 풍백, RATE_15, 262733, https://image-comic.pstatic.net/webtoon/773459/thumbnail/thumbnail_IMAG21_e8b3af6c-d4ed-42c4-9b8d-8c19e766428e.jpg, TUESDAY, 액션,차원이동,아포칼립스,먼치킨,다크판타지\n",
      "795658, 초인의 게임, Two-zero, 플랜에이, ALL, 187257, https://image-comic.pstatic.net/webtoon/795658/thumbnail/thumbnail_IMAG21_9771c54c-af6a-477c-9243-2b3bb784aae6.jpg, TUESDAY, 판타지,히어로,헌터물,이능력배틀물,소설원작\n",
      "676695, 제로게임, 즐바센, 즐바센, RATE_12, 374572, https://image-comic.pstatic.net/webtoon/676695/thumbnail/thumbnail_IMAG21_68b97d1b-2b65-4b2c-a5a0-6aa60d4602de.jpg, TUESDAY, 판타지,최강자전,2015최강자전,두뇌싸움,걸크러시\n",
      "798917, 언니, 이번 생엔 내가 왕비야, Omin, 테미스, RATE_15, 346948, https://image-comic.pstatic.net/webtoon/798917/thumbnail/thumbnail_IMAG21_ca84bfa2-c1c8-4621-9b4b-26dc745606f5.jpg, FRIDAY, 로맨스,레드아이스스튜디오,사이다,회귀,복수극,로판,소설원작\n",
      "812629, 내향남녀, 나, 나, ALL, 192943, https://image-comic.pstatic.net/webtoon/812629/thumbnail/thumbnail_IMAG21_692752ea-20d9-4972-972b-66338ab3a8dd.jpg, THURSDAY, 로맨스\n",
      "813949, 손 잡은 사이, 반하리, 반하리, ALL, 20920, https://image-comic.pstatic.net/webtoon/813949/thumbnail/thumbnail_IMAG21_79b59c9a-81ae-4dcb-9740-a92ce81e7bcc.jpg, SUNDAY, 로맨스\n",
      "808454, 반대로 끌리는 사이, 한구, 한구, ALL, 64238, https://image-comic.pstatic.net/webtoon/808454/thumbnail/thumbnail_IMAG21_5bd6216a-9baa-4859-bc6e-3f224badb74a.jpg, TUESDAY, 로맨스,햇살캐,로맨스코미디,2021지상최대공모전,캠퍼스로맨스\n",
      "812907, 1825일, 지민, 지민, RATE_15, 10804, https://image-comic.pstatic.net/webtoon/812907/thumbnail/thumbnail_IMAG21_4cf453b2-af77-4519-8adf-629885f4ff76.jpg, SATURDAY, 드라마,감성드라마\n",
      "790713, 대학원 탈출일지, 요다, 요다, ALL, 183449, https://image-comic.pstatic.net/webtoon/790713/thumbnail/thumbnail_IMAG21_3919364435331003700.jpg, TUESDAY, 일상,하이퍼리얼리즘\n",
      "734574, 영앤리치가 아니야!, 최삡뺩, 최삡뺩, ALL, 44041, https://image-comic.pstatic.net/webtoon/734574/thumbnail/thumbnail_IMAG21_8688bbf6-1067-465b-9070-4fef7c1ab1cd.jpg, MONDAY, 개그,재벌\n",
      "597447, 프리드로우, 전선욱, 전선욱, RATE_15, 1631780, https://image-comic.pstatic.net/webtoon/597447/thumbnail/thumbnail_IMAG21_37e97fb1-5572-45cc-8672-2a60b6cb768e.jpg, SATURDAY, 드라마,힘숨찐,학원물,성장드라마\n",
      "730174, 칼가는 소녀, 오리, 오리, RATE_12, 398530, https://image-comic.pstatic.net/webtoon/730174/thumbnail/thumbnail_IMAG21_301ca9ab-3938-4028-832c-48febddd6cf7.jpg, MONDAY, 드라마,최강자전,2018최강자전,성장드라마,걸크러시,감성드라마\n",
      "813922, 집착남주의 전부인이 되었습니다, 하담, 꿀생강, RATE_15, 40217, https://image-comic.pstatic.net/webtoon/813922/thumbnail/thumbnail_IMAG21_df1e3434-59bd-454c-9e3c-ee99bf8408ea.jpg, TUESDAY, 로맨스,집착물,빙의,로판,소설원작\n",
      "746857, 무사만리행, 운, 배민기, RATE_15, 175692, https://image-comic.pstatic.net/webtoon/746857/thumbnail/thumbnail_IMAG21_fb7d7fcd-19f1-49eb-9cc8-aae9622cdd04.jpg, THURSDAY, 무협/사극,성장물,퓨전사극,판무,먼치킨\n",
      "812558, 더 베이비시터, 김도연, 김도연, RATE_15, 16804, https://image-comic.pstatic.net/webtoon/812558/thumbnail/thumbnail_IMAG21_226e3ef8-2aab-431f-a2ac-d8c71ce7e590.jpg, WEDNESDAY, 스릴러\n",
      "570506, 최강전설 강해효, 최병열, 최병열, RATE_15, 616088, https://image-comic.pstatic.net/webtoon/570506/thumbnail/thumbnail_IMAG21_3630857206429464627.jpg, THURSDAY, 액션\n",
      "721948, 스터디그룹, 신형욱, 유승연, RATE_15, 627614, https://image-comic.pstatic.net/webtoon/721948/thumbnail/thumbnail_IMAG21_b5efacb7-c212-422f-bc4a-15cf5dc84408.jpg, SATURDAY, 액션,블루스트링,힘숨찐,학원물\n",
      "802854, 주작연애, 우까, 우까, RATE_15, 82529, https://image-comic.pstatic.net/webtoon/802854/thumbnail/thumbnail_IMAG21_8acfafa7-d1db-42fa-9e01-3b7500650e11.jpg, MONDAY, 로맨스,고자극로맨스,최강자전,혐관로맨스,하이틴,학원로맨스\n",
      "775140, 인피니티, 2오, 2오, ALL, 56119, https://image-comic.pstatic.net/webtoon/775140/thumbnail/thumbnail_IMAG21_2de7a216-571b-4bf9-81b6-11b37126d328.jpg, FRIDAY, 스포츠,스포츠성장\n",
      "811707, 플레이어가 과거를 숨김, 개차반, 비누끼, RATE_12, 56388, https://image-comic.pstatic.net/webtoon/811707/thumbnail/thumbnail_IMAG21_a4202254-2f7b-4933-b1e5-3308888cb7bb.jpg, SATURDAY, 판타지,소설원작\n",
      "805745, 케찰코아틀 - 헤수스, d몬, d몬, RATE_18, 12720, https://image-comic.pstatic.net/webtoon/805745/thumbnail/thumbnail_IMAG21_8f015554-152f-4390-b8de-148617e64dfa.jpg, WEDNESDAY, 드라마,느와르,성인웹툰\n",
      "641253, 외모지상주의, 박태준, 박태준, RATE_15, 2361330, https://image-comic.pstatic.net/webtoon/641253/thumbnail/thumbnail_IMAG21_01672165-03c8-44b1-ba0e-ef82c9cfcd10.jpg, FRIDAY, 드라마,학원물,먼치킨\n",
      "783523, 내가 죽기로 결심한 것은, YUJU, YUJU, RATE_15, 614745, https://image-comic.pstatic.net/webtoon/783523/thumbnail/thumbnail_IMAG21_cc413d42-89ab-4c7d-a28c-0f698acb169b.jpg, WEDNESDAY, 로맨스,폭스남,집착물,청춘로맨스,재회\n",
      "801820, 햄버거가 제일 좋아, 용현, 민국, ALL, 54352, https://image-comic.pstatic.net/webtoon/801820/thumbnail/thumbnail_IMAG21_82855003-8d89-45b6-8a8b-55c4cbbd8ad2.jpg, TUESDAY, 로맨스,현실로맨스,청춘로맨스,연상연하,삼각관계\n",
      "809261, 거짓말의 뉘앙스, 사즈, 사즈, ALL, 73022, https://image-comic.pstatic.net/webtoon/809261/thumbnail/thumbnail_IMAG21_b2d4a5c0-3026-4560-b3ee-add80e181536.jpg, TUESDAY, 드라마,2022지상최대공모전,후회물,하이퍼리얼리즘,인플루언서\n",
      "784140, 후궁 스캔들, 기트로우, 기트로우, ALL, 134372, https://image-comic.pstatic.net/webtoon/784140/thumbnail/thumbnail_IMAG21_a110320c-9741-482a-bfef-a265ac9734e1.jpg, SUNDAY, 로맨스,동양풍판타지,소설원작\n",
      "805323, 히어로 더 맥시멈, 박재이, 박재이, RATE_12, 22180, https://image-comic.pstatic.net/webtoon/805323/thumbnail/thumbnail_IMAG21_e6ccdaa1-14f8-4023-a864-1ef978eda629.jpg, WEDNESDAY, 액션,2021지상최대공모전,히어로\n",
      "810450, 올빼미와 여름 하늘, WmW, WmW, ALL, 13288, https://image-comic.pstatic.net/webtoon/810450/thumbnail/thumbnail_IMAG21_33cdff23-00fd-4040-8373-60846d4e3ad6.jpg, THURSDAY, 로맨스,해외작품,힐링,하이틴,소설원작\n",
      "805481, 사랑은 없는 것처럼, carbo(도효원), 김해담, RATE_15, 33395, https://image-comic.pstatic.net/webtoon/805481/thumbnail/thumbnail_IMAG21_9e078731-7266-4eeb-b39b-ab358c126589.jpg, SUNDAY, 로맨스,소설원작\n",
      "802849, 사기 친 공작님을 유혹해버렸다, T.Heimdallr , T.Heimdallr , ALL, 40999, https://image-comic.pstatic.net/webtoon/802849/thumbnail/thumbnail_IMAG21_4c99d9c3-76da-444d-b9be-d698741e54fe.jpg, THURSDAY, 판타지,로판,소설원작\n",
      "800618, 도깨비 부른다, WEBANGSANG, WEBANGSANG, RATE_15, 27551, https://image-comic.pstatic.net/webtoon/800618/thumbnail/thumbnail_IMAG21_0e4be823-3c99-480c-923a-eaa554b46646.jpg, MONDAY, 판타지\n",
      "616239, 윌유메리미, 마인드C, 마인드C, ALL, 340529, https://image-comic.pstatic.net/webtoon/616239/thumbnail/thumbnail_IMAG21_7c320dd0-7f6e-4645-b82b-e46752ed7375.jpg, TUESDAY, 일상\n",
      "670143, 헬퍼 2 : 킬베로스, 삭, 삭, RATE_18, 389395, https://image-comic.pstatic.net/webtoon/670143/thumbnail/thumbnail_IMAG21_12d5d293-d54d-4022-8e00-c97c5779c701.jpg, WEDNESDAY, 액션,성인웹툰\n",
      "789966, 장풍전, 신영우, 신영우, RATE_15, 43719, https://image-comic.pstatic.net/webtoon/789966/thumbnail/thumbnail_IMAG21_3774973501885266274.jpg, SUNDAY, 액션\n",
      "746833, 저무는 해, 시린 눈, MURO, MURO, ALL, 142210, https://image-comic.pstatic.net/webtoon/746833/thumbnail/thumbnail_IMAG21_21c3beb3-76fa-4b6a-811a-b641dd017e1b.jpg, SATURDAY, 드라마\n",
      "805746, 케찰코아틀 - 다빗, d몬, d몬, RATE_18, 11525, https://image-comic.pstatic.net/webtoon/805746/thumbnail/thumbnail_IMAG21_caf881fb-bc3c-43ef-8ea0-3e4885836ec1.jpg, THURSDAY, 드라마,느와르,성인웹툰\n",
      "801589, 놓지마 정신줄 시즌3, 신태훈, 나승훈, ALL, 119010, https://image-comic.pstatic.net/webtoon/801589/thumbnail/thumbnail_IMAG21_1b439234-e17d-4fb8-9eef-5d2d4173234c.jpg, TUESDAY, 개그,드라마&영화원작웹툰\n",
      "752414, 리턴 투 플레이어, 신성, 세혼, RATE_15, 238481, https://image-comic.pstatic.net/webtoon/752414/thumbnail/thumbnail_IMAG21_b66a0f20-01c1-4b3f-ab8e-1d5ca6f089fe.jpg, MONDAY, 판타지,아포칼립스,게임판타지,회귀,소년왕도물,먼치킨,소설원작\n",
      "745654, 백호랑, 박혬, 박혬, ALL, 61221, https://image-comic.pstatic.net/webtoon/745654/thumbnail/thumbnail_IMAG21_3978989878055821874.jpg, MONDAY, 판타지\n",
      "803794, 더 해머, 스튜디오M, 멘수, RATE_12, 37347, https://image-comic.pstatic.net/webtoon/803794/thumbnail/thumbnail_IMAG21_4a2de803-f18c-4f76-a0f4-d920f87e1f31.jpg, SATURDAY, 판타지,소설원작\n",
      "654774, 소녀의 세계, 모랑지, 모랑지, ALL, 1124795, https://image-comic.pstatic.net/webtoon/654774/thumbnail/thumbnail_IMAG21_4048794550434817075.jpg, MONDAY, 드라마,하이틴,학원로맨스,직진남,삼각관계,까칠남,감성드라마\n",
      "776092, 어느날 갑자기 서울은, 박창근, 박창근, RATE_15, 227725, https://image-comic.pstatic.net/webtoon/776092/thumbnail/thumbnail_IMAG21_3905524900524404791.jpg, SUNDAY, 스릴러,아포칼립스,좀비,감염\n",
      "743139, 한림체육관, 혜성, 이석재, RATE_15, 386141, https://image-comic.pstatic.net/webtoon/743139/thumbnail/thumbnail_IMAG21_6012f944-ea1f-4328-ba22-bca09be494ee.jpg, TUESDAY, 액션,블루스트링,슈퍼스트링,학원물,소년왕도물\n",
      "791258, 부캐인생, 까를로스, 징크, RATE_15, 37524, https://image-comic.pstatic.net/webtoon/791258/thumbnail/thumbnail_IMAG21_7161908888893337954.jpg, THURSDAY, 드라마,인플루언서,서스펜스\n",
      "812344, 사생돌, 령, 유나나, RATE_15, 39499, https://image-comic.pstatic.net/webtoon/812344/thumbnail/thumbnail_IMAG21_f73d7a93-6883-4586-b89b-7e1b7c5d86e7.jpg, WEDNESDAY, 로맨스,아이돌,로맨스코미디,혐관로맨스,연예계,성장드라마,까칠남\n",
      "769658, 경자 전성시대, 김호드, 김호드, RATE_15, 55371, https://image-comic.pstatic.net/webtoon/769658/thumbnail/thumbnail_IMAG21_3559023722976457571.jpg, SUNDAY, 개그,4차원\n",
      "802389, 궤짝, 박태준 만화회사, 지노, RATE_15, 62267, https://image-comic.pstatic.net/webtoon/802389/thumbnail/thumbnail_IMAG21_2c396e53-5710-47b4-b9ae-0b9582454479.jpg, TUESDAY, 스릴러\n",
      "794458, 보고 있지?, 송범규, 송범규, RATE_15, 18702, https://image-comic.pstatic.net/webtoon/794458/thumbnail/thumbnail_IMAG21_7089291664123257185.jpg, SATURDAY, 드라마,2020지상최대공모전,인플루언서,서스펜스\n",
      "812354, 신혼일기, 자까, 자까, ALL, 332518, https://image-comic.pstatic.net/webtoon/812354/thumbnail/thumbnail_IMAG21_f391c11a-9a74-4e0c-b601-2fcebafffd07.jpg, THURSDAY, 일상,2030연애,친구>연인\n",
      "799148, 지니오패스, 공현곤, 공현곤, RATE_15, 33695, https://image-comic.pstatic.net/webtoon/799148/thumbnail/thumbnail_IMAG21_1ae3f0d3-f4ed-4a90-86f0-dc7d028b1782.jpg, FRIDAY, 스릴러,서스펜스,복수극,두뇌싸움\n",
      "808533, 좀비X슬래셔, 나락, 홍준기, RATE_15, 42828, https://image-comic.pstatic.net/webtoon/808533/thumbnail/thumbnail_IMAG21_9df8c3c3-bf3b-495a-9b42-ce97369c239b.jpg, SATURDAY, 액션,아포칼립스,히어로,좀비\n",
      "804783, 사변괴담, 강태진, 강태진, RATE_15, 72197, https://image-comic.pstatic.net/webtoon/804783/thumbnail/thumbnail_IMAG21_a80f7760-3c93-4002-84d4-eece85593f84.jpg, TUESDAY, 스릴러,역사물,좀비,빙의,괴담\n",
      "798303, 108명의 그녀들, 고송, 고송, ALL, 54066, https://image-comic.pstatic.net/webtoon/798303/thumbnail/thumbnail_IMAG21_ba8821d3-95a0-4916-a95d-7ab265982ef8.jpg, SUNDAY, 로맨스,로판,소설원작\n",
      "757904, 호랑이 들어와요, 배세혁, 유은, ALL, 269512, https://image-comic.pstatic.net/webtoon/757904/thumbnail/thumbnail_IMAG21_f3e09476-b052-4599-b619-4b2aba154143.jpg, TUESDAY, 판타지\n",
      "793553, 이계진입 리로디드, 차우민, 쵸쵸, ALL, 70299, https://image-comic.pstatic.net/webtoon/793553/thumbnail/thumbnail_IMAG21_1afbb206-239d-41d8-832b-cbd6be2b0c0a.jpeg, SATURDAY, 판타지,소설원작\n",
      "803371, 애증화음, 전구, 전구, ALL, 22128, https://image-comic.pstatic.net/webtoon/803371/thumbnail/thumbnail_IMAG21_86c1543c-a30a-41cd-b010-ca749e5e7f25.jpg, FRIDAY, 드라마,음악,서바이벌,혐관로맨스,학원물,성장드라마,걸크러시\n",
      "806776, 노인의 꿈, 백원달, 백원달, ALL, 36994, https://image-comic.pstatic.net/webtoon/806776/thumbnail/thumbnail_IMAG21_aa8b48b8-6ed9-44ce-a1a0-e194514ab026.jpg, SATURDAY, 드라마,무해한,힐링,성장드라마,감성드라마\n",
      "801038, 성스러운 그대 이르시길, 26, 로주, RATE_15, 88716, https://image-comic.pstatic.net/webtoon/801038/thumbnail/thumbnail_IMAG21_487ec2b2-9670-456f-9837-733602d048b1.jpg, FRIDAY, 로맨스,소설원작\n",
      "791892, 멸종위기종인간, 사하라, 사하라, RATE_15, 29607, https://image-comic.pstatic.net/webtoon/791892/thumbnail/thumbnail_IMAG21_3834359001091564337.jpg, WEDNESDAY, 판타지,2021지상최대공모전,아포칼립스,이능력배틀물\n",
      "798326, 시체기사 군터, 마요너구리, 마요너구리, RATE_15, 71195, https://image-comic.pstatic.net/webtoon/798326/thumbnail/thumbnail_IMAG21_b64bc0f5-24d2-4c78-8654-bd2b08860108.jpg, TUESDAY, 액션,인외존재,뱀파이어,다크판타지\n",
      "772725, 물어보는 사이, 성은, 성은, RATE_15, 390710, https://image-comic.pstatic.net/webtoon/772725/thumbnail/thumbnail_IMAG21_7769fa4b-5f29-4622-af74-613bda6a47ef.jpg, MONDAY, 로맨스,아이돌,계약연애,직진남,인외존재,연예계,삼각관계,뱀파이어\n",
      "808074, 트러블리걸, 일쩜이, 일쩜이, RATE_15, 24956, https://image-comic.pstatic.net/webtoon/808074/thumbnail/thumbnail_IMAG21_d4899238-5123-443d-826c-f70b1f3618a5.jpg, MONDAY, 로맨스\n",
      "774044, 투신전생기, 청담, 청담, RATE_12, 421556, https://image-comic.pstatic.net/webtoon/774044/thumbnail/thumbnail_IMAG21_81504afb-1a05-41b0-9650-0c9aa1d741d9.jpg, SUNDAY, 액션,회귀,이능력배틀물,복수극,먼치킨\n",
      "808455, 중간에서 만나, 조흰, 윤김, RATE_15, 200158, https://image-comic.pstatic.net/webtoon/808455/thumbnail/thumbnail_IMAG21_c37c85f4-b9f1-4026-b79c-45d979f9743f.jpg, WEDNESDAY, 로맨스,폭스남,로맨스코미디,연상연하\n",
      "792277, 따개비, 뜰새, delete, RATE_15, 19031, https://image-comic.pstatic.net/webtoon/792277/thumbnail/thumbnail_IMAG21_a0d9827b-0e2c-48ce-a1ca-ccb2d4ff65f1.jpg, THURSDAY, 스릴러,소설원작\n",
      "748535, 마른 가지에 바람처럼, 화음, 화음, RATE_12, 460124, https://image-comic.pstatic.net/webtoon/748535/thumbnail/thumbnail_IMAG21_fbaf72e0-c829-44ad-b56c-5c60a9fd5705.jpg, WEDNESDAY, 로맨스,이세계,구원서사,소설원작\n",
      "779632, 일타강사 백사부, 팀 더 지크, 오리보리, RATE_12, 226444, https://image-comic.pstatic.net/webtoon/779632/thumbnail/thumbnail_IMAG21_4048795649913205816.jpg, SUNDAY, 무협/사극,소설원작\n",
      "717481, 일렉시드, 손제호, 제나, RATE_12, 487863, https://image-comic.pstatic.net/webtoon/717481/thumbnail/thumbnail_IMAG21_3545800975505057126.jpg, WEDNESDAY, 액션,세계관,학원물,이능력배틀물,성장드라마,동물\n",
      "803909, 나 혼자 특성빨로 무한 성장, 샤이아탄, 2사랑, RATE_15, 123995, https://image-comic.pstatic.net/webtoon/803909/thumbnail/thumbnail_IMAG21_764d377c-fe45-40f9-8775-0f6ff92ad421.jpg, SUNDAY, 액션,레드아이스스튜디오,헌터물,먼치킨,소설원작\n",
      "780267, 오!너의 리스크, 바리, 바리, RATE_15, 94477, https://image-comic.pstatic.net/webtoon/780267/thumbnail/thumbnail_IMAG21_7234251265032676917.jpg, FRIDAY, 드라마,2020지상최대공모전\n",
      "798173, 이상한 변호사 우영우, 원프로젝트, 화음조, RATE_15, 123404, https://image-comic.pstatic.net/webtoon/798173/thumbnail/thumbnail_IMAG21_384e425c-307a-4754-b3f7-bb660117c0f3.jpg, THURSDAY, 드라마,햇살캐,법정드라마,드라마&영화원작웹툰,힐링,직업드라마,성장드라마\n",
      "800506, 웅크, 나유진, 나유진, ALL, 64192, https://image-comic.pstatic.net/webtoon/800506/thumbnail/thumbnail_IMAG21_21640049-34da-44e5-82d7-bbb7aca3a3f8.jpg, TUESDAY, 감성,무해한,힐링\n",
      "778656, 봐선 안되는 것, 수리부, 수리부, RATE_15, 68777, https://image-comic.pstatic.net/webtoon/778656/thumbnail/thumbnail_IMAG21_f2b7be76-da44-4f83-b16d-0448f9020f16.jpg, SATURDAY, 스릴러,괴담\n",
      "798101, 왕게임, 신형욱, 범고래, RATE_12, 111373, https://image-comic.pstatic.net/webtoon/798101/thumbnail/thumbnail_IMAG21_766e3761-228a-4c04-97b8-6f0ef13cf35b.jpg, TUESDAY, 액션,블루스트링,학원물,서스펜스\n",
      "730607, 평행도시, 고다, 고다, RATE_15, 112418, https://image-comic.pstatic.net/webtoon/730607/thumbnail/thumbnail_IMAG21_4050531779662669109.jpg, SUNDAY, 판타지\n",
      "805356, 이종 격투기, 꼬마비, 꼬마비, RATE_12, 21563, https://image-comic.pstatic.net/webtoon/805356/thumbnail/thumbnail_IMAG21_d7631c1e-dab2-44b5-97af-c61d5fade064.jpg, SATURDAY, 드라마\n",
      "802117, 겨울특강, 곤세, 곤세, RATE_15, 15056, https://image-comic.pstatic.net/webtoon/802117/thumbnail/thumbnail_IMAG21_15a0d966-695b-45ce-a050-e42a40f31559.jpg, SATURDAY, 판타지\n",
      "799016, 어느 백작 영애의 이중생활, Jeu, 킴뽀, ALL, 53562, https://image-comic.pstatic.net/webtoon/799016/thumbnail/thumbnail_IMAG21_719cf041-6408-4429-85dc-4b2cd2cb930d.jpg, WEDNESDAY, 로맨스,성별반전,로맨스코미디,로판,소설원작\n",
      "800828, 용두사망 소설 속의 악녀가 되었다, 하견, 너구리, ALL, 64921, https://image-comic.pstatic.net/webtoon/800828/thumbnail/thumbnail_IMAG21_bd9dbd1f-322c-4fdc-88f0-135d4a892735.jpg, SATURDAY, 로맨스,빙의,로판,소설원작\n",
      "21815, 히어로메이커, 빤쓰, 빤쓰, ALL, 82511, https://image-comic.pstatic.net/webtoon/21815/thumbnail/thumbnail_IMAG21_7292511306663934265.jpg, MONDAY, 판타지,히어로\n",
      "753839, 빅맨, 하하영, 하하영, ALL, 123296, https://image-comic.pstatic.net/webtoon/753839/thumbnail/thumbnail_IMAG21_3835153067459896165.jpg, TUESDAY, 스포츠,농구,스포츠성장\n",
      "794742, 로또 황녀님, 무무경, 도힌, ALL, 84299, https://image-comic.pstatic.net/webtoon/794742/thumbnail/thumbnail_IMAG21_761b9cda-5024-4109-bd3d-77e07ca6010f.jpg, FRIDAY, 로맨스,러블리,육아물,로판\n",
      "784989, 배트맨: 웨인 패밀리 어드벤처, CRC Payne, StarBite, ALL, 14064, https://image-comic.pstatic.net/webtoon/784989/thumbnail/thumbnail_IMAG21_3762867861630367334.jpg, THURSDAY, 일상,해외작품,히어로\n",
      "812414, 포 더 퀸덤, 로즈옹, 로즈옹, RATE_18, 81807, https://image-comic.pstatic.net/webtoon/812414/thumbnail/thumbnail_IMAG21_d6cbf0a2-9f22-4f8a-b3f9-411e39804dee.jpg, TUESDAY, 로맨스,고자극로맨스,혐관로맨스,성인웹툰\n",
      "616239, 윌유메리미, 마인드C, 마인드C, ALL, 340529, https://image-comic.pstatic.net/webtoon/616239/thumbnail/thumbnail_IMAG21_7c320dd0-7f6e-4645-b82b-e46752ed7375.jpg, TUESDAY, 일상\n",
      "777767, 역대급 영지 설계사, 이현민, 김현수, ALL, 388979, https://image-comic.pstatic.net/webtoon/777767/thumbnail/thumbnail_IMAG21_cc85f891-272b-450a-b642-cffe1568ab71.jpg, FRIDAY, 판타지,소년왕도물,소설원작\n",
      "812731, 죽었던 너와 다시 시작하기, 히우, 히우, RATE_15, 20984, https://image-comic.pstatic.net/webtoon/812731/thumbnail/thumbnail_IMAG21_e79b69fe-3380-49e2-a3af-ac2b7b42f055.jpg, TUESDAY, 로맨스,2022지상최대공모전,다정남,집착물,2030연애,캠퍼스로맨스\n",
      "802039, 루루라라 우리네 인생, 현이씨, 현이씨, ALL, 31768, https://image-comic.pstatic.net/webtoon/802039/thumbnail/thumbnail_IMAG21_a7a82a34-586c-4acf-b6f2-ab052be786f1.jpg, MONDAY, 일상,무해한\n",
      "812161, 도태교실, 황준호, 황준호, RATE_18, 44379, https://image-comic.pstatic.net/webtoon/812161/thumbnail/thumbnail_IMAG21_076b480a-84eb-46be-b6b0-906e66902f68.jpg, TUESDAY, 스릴러,복수극,성인웹툰\n",
      "791256, 파견체, 곽백수, 곽백수, RATE_12, 18015, https://image-comic.pstatic.net/webtoon/791256/thumbnail/thumbnail_IMAG21_3833187132113172581.jpg, MONDAY, 판타지,sf,인외존재\n",
      "801827, 랭커, 신건, taibogi, RATE_15, 32199, https://image-comic.pstatic.net/webtoon/801827/thumbnail/thumbnail_IMAG21_46875d4a-190f-4663-bac5-0d3003263646.jpg, MONDAY, 액션,성장물,서바이벌,격투기,소년왕도물\n",
      "810561, 왕자님 짠내밥상, 쑥, 쑥, ALL, 7468, https://image-comic.pstatic.net/webtoon/810561/thumbnail/thumbnail_IMAG21_b93e29dc-335c-4c38-afa9-074c581273cc.jpg, TUESDAY, 드라마\n",
      "775141, 66666년 만에 환생한 흑마법사, 팀 더 지크, 파사, RATE_12, 343230, https://image-comic.pstatic.net/webtoon/775141/thumbnail/thumbnail_IMAG21_11d97e88-9ccf-4e7a-a10d-dde42725e3fa.jpg, WEDNESDAY, 판타지,회귀,먼치킨,소설원작\n",
      "805691, 무진, 사과, 브라보 장, RATE_15, 49527, https://image-comic.pstatic.net/webtoon/805691/thumbnail/thumbnail_IMAG21_8b092acf-e28c-47d2-9b5f-3a02df85103f.jpg, SUNDAY, 액션,범죄,복수극,느와르\n",
      "758037, 참교육, 채용택, 한가람, RATE_15, 882335, https://image-comic.pstatic.net/webtoon/758037/thumbnail/thumbnail_IMAG21_15cb2611-34c0-4f02-a689-41d0b1016579.jpg, MONDAY, 액션,블루스트링,사이다,학원물,먼치킨,다크히어로\n",
      "790453, 갓트, 서패스, 아거주누, RATE_15, 61571, https://image-comic.pstatic.net/webtoon/790453/thumbnail/thumbnail_IMAG21_e0450de2-238f-46b5-89ff-d3f726124130.jpg, THURSDAY, 판타지\n",
      "813598, 황금의 세계를 너에게, 레민, 레민, RATE_15, 22980, https://image-comic.pstatic.net/webtoon/813598/thumbnail/thumbnail_IMAG21_f55c7a25-f918-43d5-a6c1-e63ab9deb378.jpg, SUNDAY, 판타지,성장물,소년왕도물,걸크러시,다크판타지,구원서사\n",
      "808757, 야매 힐러로 사는 법, 14획, 나옌, ALL, 81958, https://image-comic.pstatic.net/webtoon/808757/thumbnail/thumbnail_IMAG21_79e60f3a-a6f1-4f25-8c14-ba4a143bbb32.jpg, SATURDAY, 판타지,요즘핫한추천작,지금추천작,소설원작\n",
      "780845, 사서고생!, 몽실, 몽실, ALL, 53432, https://image-comic.pstatic.net/webtoon/780845/thumbnail/thumbnail_IMAG21_fb6ff972-27ca-459d-ac5d-c1083e96c45c.jpg, SATURDAY, 드라마\n",
      "772243, 모스크바의 여명, 이샨오, 이샨오, ALL, 64554, https://image-comic.pstatic.net/webtoon/772243/thumbnail/thumbnail_IMAG21_3918807214864216674.jpg, MONDAY, 드라마,힐링,소설원작\n",
      "802378, 엔딩, 바꿔보려합니다, 모카빵, 모카빵, RATE_12, 84549, https://image-comic.pstatic.net/webtoon/802378/thumbnail/thumbnail_IMAG21_125f2441-6e6a-4cea-bfec-2969a1107fcf.jpg, THURSDAY, 로맨스,2020지상최대공모전,학원로맨스,역하렘,빙의,로판\n",
      "804469, 원하나, 비진, 비진, RATE_15, 48299, https://image-comic.pstatic.net/webtoon/804469/thumbnail/thumbnail_IMAG21_2aa7b888-6149-4ba0-ae84-0158fd0e249c.jpeg, MONDAY, 드라마,2021최강자전\n",
      "775631, 완벽한 결혼의 정석, 영, 제리볼, RATE_15, 263852, https://image-comic.pstatic.net/webtoon/775631/thumbnail/thumbnail_IMAG21_4063147592470967090.jpg, THURSDAY, 로맨스,혐관로맨스,계약연애,회귀,선결혼후연애,소설원작\n",
      "758665, 샤인 스타, 김현, 김현, ALL, 68896, https://image-comic.pstatic.net/webtoon/758665/thumbnail/thumbnail_IMAG21_3617063617572387171.jpg, SUNDAY, 로맨스,성장드라마\n",
      "760002, 반귀, 세정, 세정, RATE_12, 114277, https://image-comic.pstatic.net/webtoon/760002/thumbnail/thumbnail_IMAG21_7017793712846615395.jpg, WEDNESDAY, 로맨스,오컬트,인외존재\n",
      "812576, 착한 여자 안선해, 선우, 선우, ALL, 12073, https://image-comic.pstatic.net/webtoon/812576/thumbnail/thumbnail_IMAG21_91557fba-c1c9-4391-a066-2f43f44a4608.jpg, TUESDAY, 드라마,성장드라마,감성드라마\n",
      "801580, 백설을 위하여, 러스츄, 김햐, RATE_15, 64891, https://image-comic.pstatic.net/webtoon/801580/thumbnail/thumbnail_IMAG21_fe3ba1fc-a481-42db-bd91-7d2a02f599a6.jpg, SUNDAY, 로맨스,소설원작\n",
      "807164, 펀치드렁커드, 고태호, 고태호, RATE_15, 26337, https://image-comic.pstatic.net/webtoon/807164/thumbnail/thumbnail_IMAG21_2dbe37c4-e501-4ba0-84c5-e839fc6d5b0c.jpg, SUNDAY, 드라마\n",
      "797221, 비밀친구, 이밤애, 사바싸, RATE_15, 29847, https://image-comic.pstatic.net/webtoon/797221/thumbnail/thumbnail_IMAG21_7089289671999633716.jpg, FRIDAY, 스릴러,2021지상최대공모전,서스펜스,복수극,두뇌싸움\n",
      "796302, 베니루 BAENIRU, 우지금, 우지금, RATE_15, 62571, https://image-comic.pstatic.net/webtoon/796302/thumbnail/thumbnail_IMAG21_8861c149-1927-400e-a343-b5a76be7efdf.jpg, THURSDAY, 스릴러,서스펜스\n",
      "766563, 히어로 킬러, 꿀벌, 벌꿀, RATE_15, 238467, https://image-comic.pstatic.net/webtoon/766563/thumbnail/thumbnail_IMAG21_b71167a5-4409-411e-96e8-f2dad9ddbe00.jpg, FRIDAY, 액션,히어로\n",
      "808897, 주인공의 주식을 팝니다, 50, 가얌, ALL, 56161, https://image-comic.pstatic.net/webtoon/808897/thumbnail/thumbnail_IMAG21_23c55f45-c7c0-45ef-a988-5447d0123cf6.jpg, SUNDAY, 로맨스,로판,소설원작\n",
      "808760, 어쌔신 크리드 - 잊혀진 사원, 샤이아탄, Tabii, RATE_15, 17708, https://image-comic.pstatic.net/webtoon/808760/thumbnail/thumbnail_IMAG21_41bce5b2-aa2a-4186-94ea-22bf8b37488a.jpg, MONDAY, 판타지,레드아이스스튜디오,게임판타지\n",
      "807406, 당신의 그림자를 그만두었을 때, 봉이, 유성, ALL, 48033, https://image-comic.pstatic.net/webtoon/807406/thumbnail/thumbnail_IMAG21_6fbae7f4-b275-4c27-8ae0-23549dc8a84e.jpg, THURSDAY, 로맨스,소설원작\n",
      "803010, 로맨스가 가능해?, 임주이, 임주이, ALL, 84192, https://image-comic.pstatic.net/webtoon/803010/thumbnail/thumbnail_IMAG21_39c36855-22e9-43eb-b0af-65fe8204d568.jpg, TUESDAY, 로맨스,2030연애,로맨스코미디,청춘로맨스,선결혼후연애,걸크러시,소설원작\n",
      "770523, 흑막 여주가 날 새엄마로 만들려고 해, 이산시, 하리힌, ALL, 266163, https://image-comic.pstatic.net/webtoon/770523/thumbnail/thumbnail_IMAG21_b0c43bf3-14b8-4b43-970f-ced56b793582.jpg, THURSDAY, 로맨스,육아물,빙의,로판,소설원작\n",
      "800101, 헬스던전, 도베도베, 채종, ALL, 35448, https://image-comic.pstatic.net/webtoon/800101/thumbnail/thumbnail_IMAG21_68185df2-8958-47cc-948b-d5890bec9e45.jpg, SUNDAY, 액션,사이다,4차원,이세계,먼치킨\n",
      "791632, 낙원의 이론, 무멘, 무멘, ALL, 35607, https://image-comic.pstatic.net/webtoon/791632/thumbnail/thumbnail_IMAG21_0e5ee34e-898a-4106-8652-35525f24afa9.jpg, WEDNESDAY, 판타지,소설원작\n",
      "800046, 문제적 왕자님, 선인장, 선인장, RATE_15, 115919, https://image-comic.pstatic.net/webtoon/800046/thumbnail/thumbnail_IMAG21_1b3a9842-439f-43a3-8b2f-90fc1b1ee356.jpg, FRIDAY, 로맨스,로맨스코미디,로판,소설원작\n",
      "802039, 루루라라 우리네 인생, 현이씨, 현이씨, ALL, 31768, https://image-comic.pstatic.net/webtoon/802039/thumbnail/thumbnail_IMAG21_a7a82a34-586c-4acf-b6f2-ab052be786f1.jpg, MONDAY, 일상,무해한\n",
      "753304, 아침을 지나 밤으로, 손지은, 손지은, ALL, 75052, https://image-comic.pstatic.net/webtoon/753304/thumbnail/thumbnail_IMAG21_02569ecf-8e35-48b5-a9d3-5ab38900163d.jpg, SATURDAY, 판타지,최강자전,2019최강자전\n",
      "813329, 연애 생각은 없지만, 서울소, 서울소, RATE_15, 25694, https://image-comic.pstatic.net/webtoon/813329/thumbnail/thumbnail_IMAG21_b5afa8e4-8e0e-43e8-b0d2-29cef0a433c1.jpg, SATURDAY, 로맨스,다정남,폭스남,2030연애,로맨스코미디,현실로맨스,직진남,인플루언서,오피스로맨스,사내연애\n",
      "812645, 망겜의 현금술사, 무릇, 무릇, ALL, 35697, https://image-comic.pstatic.net/webtoon/812645/thumbnail/thumbnail_IMAG21_4815ef88-953d-4752-997e-45004ac3ae47.jpg, SATURDAY, 판타지,러블리,로맨스코미디,2021지상최대공모전,힐링,사이다,게임판타지,먼치킨\n",
      "768474, 장미같은 소리, 혜진양, 듀영, RATE_15, 77339, https://image-comic.pstatic.net/webtoon/768474/thumbnail/thumbnail_IMAG21_7cb64c7e-2528-4057-8118-ad1df1acf2f7.jpg, SUNDAY, 스릴러,연예계\n",
      "801505, 뮤즈 온 유명, 수진, 수진, RATE_15, 249764, https://image-comic.pstatic.net/webtoon/801505/thumbnail/thumbnail_IMAG21_893e0926-523f-4bc1-b7a6-e30af1ec3c6e.jpg, THURSDAY, 드라마,2030연애,하이퍼리얼리즘,청춘로맨스,전남친,재회,연예계,삼각관계\n",
      "687915, 꿈의 기업, 문지현, 문지현, RATE_12, 118391, https://image-comic.pstatic.net/webtoon/687915/thumbnail/thumbnail_IMAG21_d46ad6b8-e9a8-4bc8-b501-e62adfee0eb6.jpg, MONDAY, 스릴러,아포칼립스,sf\n",
      "741891, 결혼생활 그림일기, 은꼼지, 은꼼지, ALL, 112101, https://image-comic.pstatic.net/webtoon/741891/thumbnail/thumbnail_IMAG21_47b971e4-00b6-451b-862e-1060bae5a80d.jpg, MONDAY, 일상\n",
      "813802, 괴물의 바다, 삼칠, 삼칠, RATE_12, 9672, https://image-comic.pstatic.net/webtoon/813802/thumbnail/thumbnail_IMAG21_a579f9c8-251d-4e09-a42a-9253540d0437.jpg, THURSDAY, 판타지,성장물,햇살캐,인외존재,구원서사\n",
      "703839, 홍시는 날 좋아해!, 강하다, 웃는해, ALL, 346512, https://image-comic.pstatic.net/webtoon/703839/thumbnail/thumbnail_IMAG21_5868239b-e1f5-4bcc-ad21-9dba1539d693.jpg, SATURDAY, 로맨스,햇살캐,까칠남\n",
      "809625, 시한부 천재 암흑기사, 정선율, 나기, ALL, 79804, https://image-comic.pstatic.net/webtoon/809625/thumbnail/thumbnail_IMAG21_15dd153c-6e74-4628-9429-ab469095cdae.jpg, THURSDAY, 판타지,지금추천작,게임판타지,소년왕도물,빙의,먼치킨,소설원작\n",
      "814407, 프린키피아, 버튼, 한경찰, ALL, 8070, https://image-comic.pstatic.net/webtoon/814407/thumbnail/thumbnail_IMAG21_5b80b114-7602-4d9e-93b3-ac7c38b2375f.jpg, SUNDAY, 판타지\n",
      "783052, 퀘스트지상주의, 박태준 만화회사, 박태준 만화회사, RATE_15, 543146, https://image-comic.pstatic.net/webtoon/783052/thumbnail/thumbnail_IMAG21_800f4c56-26ac-419e-9ed0-baf322311dea.jpg, MONDAY, 드라마,게임판타지,학원물\n",
      "478261, 선천적 얼간이들, 가스파드, 가스파드, ALL, 375086, https://image-comic.pstatic.net/webtoon/478261/thumbnail/thumbnail_IMAG21_7fbd8610-0a97-40e3-9c63-101ea07fc4b4.jpg, THURSDAY, 개그,무해한,러블리,힐링,4차원,하이퍼리얼리즘,동물,공감성수치\n",
      "800034, 헬크래프트, 나락, 영기, RATE_15, 41432, https://image-comic.pstatic.net/webtoon/800034/thumbnail/thumbnail_IMAG21_a340a6df-b77c-436a-a729-70927915634d.jpg, MONDAY, 판타지,서스펜스,두뇌싸움\n",
      "808389, 나혼자 탑에서 농사, 임형, 이하경 , ALL, 87795, https://image-comic.pstatic.net/webtoon/808389/thumbnail/thumbnail_IMAG21_4a5ab33b-e6fe-4fbe-95b7-bd7fa6a9c156.jpg, FRIDAY, 판타지,지금추천작,무해한,햇살캐,힐링,차원이동,동물,소설원작\n",
      "804333, 그냥 선생님, 연일, 연일, ALL, 79367, https://image-comic.pstatic.net/webtoon/804333/thumbnail/thumbnail_IMAG21_b39d8b31-ca85-492f-8588-c766aa2b3c27.jpg, TUESDAY, 일상\n",
      "813552, 우아한 욕망, 김종건, 김종건, RATE_18, 70845, https://image-comic.pstatic.net/webtoon/813552/thumbnail/thumbnail_IMAG21_c81f8080-3781-4789-9411-a171d501b01a.jpg, MONDAY, 로맨스,고자극로맨스,성인웹툰\n",
      "793539, 마왕의 고백, 탑승, 탑승, RATE_12, 126669, https://image-comic.pstatic.net/webtoon/793539/thumbnail/thumbnail_IMAG21_4377b048-3468-4b60-9b15-289d0f974340.jpg, SUNDAY, 판타지,2021지상최대공모전,인외존재,성장드라마\n",
      "783599, 블러드 리벤저, 고백, 고백, RATE_15, 40019, https://image-comic.pstatic.net/webtoon/783599/thumbnail/thumbnail_IMAG21_629c1cd8-a02c-4ee3-80a8-2da6c5c6a57e.jpg, SUNDAY, 판타지,2021지상최대공모전\n",
      "703844, 가비지타임, 2사장, 2사장, ALL, 351956, https://image-comic.pstatic.net/webtoon/703844/thumbnail/thumbnail_IMAG21_5ddcb40e-1f6a-40f3-b2c4-6cd9a7eee843.jpg, SUNDAY, 스포츠,최강자전,2017최강자전,농구,스포츠성장\n",
      "814116, 악녀교실, 즛호, 즛호, RATE_15, 18848, https://image-comic.pstatic.net/webtoon/814116/thumbnail/thumbnail_IMAG21_81d8f011-e821-42a0-9556-1f0f9690b178.jpg, MONDAY, 드라마,사이다,학원물,복수극\n",
      "768536, 잔불의 기사, 환댕, 환댕, RATE_15, 216003, https://image-comic.pstatic.net/webtoon/768536/thumbnail/thumbnail_IMAG21_91c5c081-77e6-4516-a503-2f45aad57401.jpg, MONDAY, 판타지,세계관,판무,복수극\n",
      "807655, 너와 XX, 뉸, 뉸, RATE_15, 16589, https://image-comic.pstatic.net/webtoon/807655/thumbnail/thumbnail_IMAG21_d962d301-4188-46d7-89dc-77aa4c9373a5.jpg, THURSDAY, 로맨스,2030연애,현실로맨스,하이퍼리얼리즘\n",
      "798277, 아슈타르테, SOON, SOON, ALL, 108920, https://image-comic.pstatic.net/webtoon/798277/thumbnail/thumbnail_IMAG21_f3e49f1a-befe-435f-bf83-845d8516a82b.jpg, MONDAY, 로맨스,로판,소설원작\n",
      "809558, 나랑 해요, 통조림, 통조림, RATE_12, 29059, https://image-comic.pstatic.net/webtoon/809558/thumbnail/thumbnail_IMAG21_094f39f0-92cf-434d-9578-10b896b79ffb.jpg, WEDNESDAY, 로맨스,재벌,다정남,짝사랑,고자극로맨스,2030연애,직진남,소설원작\n",
      "790245, 어쩌다보니 천생연분, 꿀타래, 담초, RATE_15, 553082, https://image-comic.pstatic.net/webtoon/790245/thumbnail/thumbnail_IMAG21_3545003845982959922.jpg, FRIDAY, 로맨스,로맨스코미디,2021지상최대공모전,선결혼후연애\n",
      "809622, 죽음을 희망합니다, 인멸윤금, 요지, RATE_15, 43752, https://image-comic.pstatic.net/webtoon/809622/thumbnail/thumbnail_IMAG21_4b77015a-325c-4ac1-9964-fd50ff9e7367.jpg, SUNDAY, 로맨스,힐링,선결혼후연애,구원서사,소설원작\n",
      "808018, 흔한 빙의물인 줄 알았다, DOYOSAY, 아진, ALL, 120844, https://image-comic.pstatic.net/webtoon/808018/thumbnail/thumbnail_IMAG21_731f2947-7401-4a11-8561-04e0beef8771.jpg, WEDNESDAY, 로맨스,로판,소설원작\n",
      "802733, 크림슨 하트, HYBE, HYBE, RATE_12, 16292, https://image-comic.pstatic.net/webtoon/802733/thumbnail/thumbnail_IMAG21_99fc6540-7391-462a-b08b-326f55a8b354.jpg, FRIDAY, 판타지,세계관,이세계,걸크러시\n",
      "804871, 넷시의 비밀, 비온후, 비온후, ALL, 34547, https://image-comic.pstatic.net/webtoon/804871/thumbnail/thumbnail_IMAG21_9ac1b8cc-dadb-41ef-9312-85aa9de4cfd6.jpg, WEDNESDAY, 로맨스,세계관,로맨스코미디,구원서사\n",
      "796368, 세번째 로망스, 문조, 문조, ALL, 75514, https://image-comic.pstatic.net/webtoon/796368/thumbnail/thumbnail_IMAG21_9f304f70-bc24-4cdc-b582-8d1b63d013e0.jpg, MONDAY, 로맨스,타임슬립,전남친\n",
      "741825, 꽃만 키우는데 너무강함, 주현후, 주현후, ALL, 190474, https://image-comic.pstatic.net/webtoon/741825/thumbnail/thumbnail_IMAG21_c830f1df-cd0e-4b7f-aa4e-84d59c88a892.jpg, THURSDAY, 판타지,게임판타지,먼치킨,소설원작\n",
      "765156, 빌런투킬, 퓨핀, 은지, RATE_15, 172194, https://image-comic.pstatic.net/webtoon/765156/thumbnail/thumbnail_IMAG21_09f17695-7f1a-43c1-9515-3debf026e2ed.jpg, TUESDAY, 판타지,피카레스크,사이다,이능력배틀물,소년왕도물,복수극\n",
      "805743, 우리 집 고양이 보고 갈래?, 삼태, 삼태, RATE_15, 133023, https://image-comic.pstatic.net/webtoon/805743/thumbnail/thumbnail_IMAG21_7bb206cc-46b8-4745-9fce-4ce73bcd068e.jpg, TUESDAY, 로맨스,요즘핫한추천작,2022지상최대공모전,무해한,회귀,캠퍼스로맨스,동물\n",
      "793388, 주부 육성중, 임현, 임현, ALL, 59465, https://image-comic.pstatic.net/webtoon/793388/thumbnail/thumbnail_IMAG21_3481ec05-76fa-4302-9947-7931c6fb8d09.jpg, WEDNESDAY, 드라마\n",
      "703847, 35cm, 홍가, 홍가, RATE_12, 176429, https://image-comic.pstatic.net/webtoon/703847/thumbnail/thumbnail_IMAG21_75e07916-d264-42ee-8af7-2788f8b9235f.jpg, THURSDAY, 로맨스\n",
      "739411, 왕세자 입학도, 무번, 무번, ALL, 135869, https://image-comic.pstatic.net/webtoon/739411/thumbnail/thumbnail_IMAG21_dd0ba3a4-64e6-4a6a-92c8-b667ee0b387e.jpg, SATURDAY, 드라마,퓨전사극,성장드라마\n",
      "804989, 굿헌팅, HB, 심조, RATE_15, 18869, https://image-comic.pstatic.net/webtoon/804989/thumbnail/thumbnail_IMAG21_b14ade30-c3c3-49ec-9700-db2c49d7794b.jpg, WEDNESDAY, 스릴러\n",
      "802359, 세라는 망돌, 햇살, 햇살, ALL, 19182, https://image-comic.pstatic.net/webtoon/802359/thumbnail/thumbnail_IMAG21_3fa11f89-cf2d-4258-b130-7dd84bc14c95.jpg, FRIDAY, 로맨스\n",
      "759567, 판사 이한영, 문성호, 전돌돌, RATE_15, 154186, https://image-comic.pstatic.net/webtoon/759567/thumbnail/thumbnail_IMAG21_3991657355780766050.jpg, SUNDAY, 드라마,법정드라마,직업드라마,회귀,소설원작\n",
      "758677, 히트포인트, 민형, 여강현, RATE_15, 55391, https://image-comic.pstatic.net/webtoon/758677/thumbnail/thumbnail_IMAG21_377b4b19-09d2-45c7-8054-705ab153bfcc.jpg, FRIDAY, 판타지,성장물,사이다,이능력배틀물,소년왕도물\n",
      "801710, 인섹터, 마카빔, 마카빔, RATE_15, 75288, https://image-comic.pstatic.net/webtoon/801710/thumbnail/thumbnail_IMAG21_b65d115a-9224-4d45-9773-18addbc432d3.jpg, MONDAY, 판타지,힘숨찐,이능력배틀물,다크히어로\n",
      "809619, 솔그린, 래드, 래드, RATE_15, 12794, https://image-comic.pstatic.net/webtoon/809619/thumbnail/thumbnail_IMAG21_3622cd61-4695-40e7-b2e1-be2fca76fb3e.jpg, WEDNESDAY, 드라마,학원물,성장드라마\n",
      "806505, 수플레 팬 케이크, 호박, 호박, RATE_12, 18960, https://image-comic.pstatic.net/webtoon/806505/thumbnail/thumbnail_IMAG21_bb0e3058-ae71-4e6a-a74d-9dac77febfd1.jpg, WEDNESDAY, 판타지,이세계,음식&요리,성장드라마\n",
      "773476, 서울역 드루이드, 문성호, 활성곰, RATE_15, 178272, https://image-comic.pstatic.net/webtoon/773476/thumbnail/thumbnail_IMAG21_7293972368624870449.jpg, FRIDAY, 판타지,헌터물,먼치킨,소설원작\n",
      "802551, 너를 돌려차는 방법, 한성만, 한성만, ALL, 95319, https://image-comic.pstatic.net/webtoon/802551/thumbnail/thumbnail_IMAG21_04fdcd36-c440-4feb-8b3d-573b3584a32f.jpg, MONDAY, 로맨스,동아리,소꿉친구,로맨스코미디,힐링,혐관로맨스,학원로맨스,하이틴,친구>연인,연상연하,성장드라마\n",
      "736277, 싸움독학, 박태준 만화회사, 김정현, RATE_15, 1077044, https://image-comic.pstatic.net/webtoon/736277/thumbnail/thumbnail_IMAG21_bbbe3f76-021e-4dbc-830a-4358c1abec0c.jpg, SUNDAY, 액션,학원물,인플루언서,소년왕도물\n",
      "796152, 마루는 강쥐, 모죠, 모죠, ALL, 491894, https://image-comic.pstatic.net/webtoon/796152/thumbnail/thumbnail_IMAG21_26b9c1d8-ca2d-4fc7-87ea-a3334634236a.jpg, TUESDAY, 개그,무해한,햇살캐,4차원,동물\n",
      "783540, 여름여자 하보이, 석영, 석영, RATE_12, 89788, https://image-comic.pstatic.net/webtoon/783540/thumbnail/thumbnail_IMAG21_68171ccc-7365-47ed-babe-6e20dc3fc3b5.jpg, FRIDAY, 로맨스,성별반전,2020지상최대공모전\n",
      "802819, 궤도의 아이들, 나윤희, 구김, RATE_12, 28458, https://image-comic.pstatic.net/webtoon/802819/thumbnail/thumbnail_IMAG21_827d17bc-65c9-474d-a162-711ca38aae0a.jpg, SATURDAY, 드라마,학원로맨스,청춘로맨스,성장드라마,감성드라마\n",
      "742105, 미래의 골동품 가게, 구아진, 구아진, RATE_15, 256541, https://image-comic.pstatic.net/webtoon/742105/thumbnail/thumbnail_IMAG21_a3860cc1-f927-4031-92fd-8d89b9801127.jpg, WEDNESDAY, 스릴러,오컬트\n",
      "750184, 나쁜사람, 둠스, 둠스, RATE_12, 393829, https://image-comic.pstatic.net/webtoon/750184/thumbnail/thumbnail_IMAG21_adfbd65f-18fa-4268-81db-ec88ae4aa8b1.jpg, WEDNESDAY, 액션,학원물\n",
      "801698, 게임 최강 트롤러, 박종석, YATO, ALL, 97023, https://image-comic.pstatic.net/webtoon/801698/thumbnail/thumbnail_IMAG21_52e81ef5-fb49-4f99-801c-0e13c5691c67., THURSDAY, 판타지,소설원작\n",
      "783520, 재앙의 날, 환상특급, 이승찬, RATE_15, 29231, https://image-comic.pstatic.net/webtoon/783520/thumbnail/thumbnail_IMAG21_3846462416433133112.jpg, FRIDAY, 스릴러\n",
      "776655, 마법사랑해, 명랑, 청설모, RATE_12, 65081, https://image-comic.pstatic.net/webtoon/776655/thumbnail/thumbnail_IMAG21_743eef6e-731e-4f27-8b73-d19dc0944d71.jpg, THURSDAY, 판타지,차원이동,판무\n",
      "799220, 여름의 너에게, 라라뮤, 라라뮤, ALL, 79274, https://image-comic.pstatic.net/webtoon/799220/thumbnail/thumbnail_IMAG21_23f445b9-eaee-4cb9-b9b1-4683779bff21.jpg, FRIDAY, 로맨스,힐링,학원로맨스,삼각관계\n",
      "730656, 사신소년, 류, 류, RATE_15, 626755, https://image-comic.pstatic.net/webtoon/730656/thumbnail/thumbnail_IMAG21_fc6d8dbf-eed2-43d0-af45-2edb3cc4244e.jpg, TUESDAY, 액션,이능력배틀물,소년왕도물,먼치킨\n",
      "64997, 나이트런, 김성민, 김성민, RATE_15, 243162, https://image-comic.pstatic.net/webtoon/64997/thumbnail/thumbnail_IMAG21_3834645974328108595.jpg, SATURDAY, 판타지,sf,다크판타지\n",
      "814512, 사내연애 사절!, 두부, 남수, RATE_12, 109769, https://image-comic.pstatic.net/webtoon/814512/thumbnail/thumbnail_IMAG21_822d18b7-4c27-4cb0-9966-2b156aceaac0.jpg, THURSDAY, 로맨스,2030연애,로맨스코미디,현실로맨스,청춘로맨스,친구>연인,연상연하,오피스로맨스,사내연애\n",
      "774864, 존잘주의, 령, 령, RATE_15, 248961, https://image-comic.pstatic.net/webtoon/774864/thumbnail/thumbnail_IMAG21_7366025529484523875.jpg, SATURDAY, 로맨스,학원물,역하렘\n",
      "784580, 묘령의 황자, 아흐레달, 아흐레달, RATE_15, 147633, https://image-comic.pstatic.net/webtoon/784580/thumbnail/thumbnail_IMAG21_d99dd56e-a987-4fa9-9a08-895ba09c874f.jpg, SATURDAY, 드라마,성별반전,궁중로맨스,동양풍판타지,걸크러시\n",
      "650305, 호랑이형님, 이상규, 이상규, RATE_15, 869502, https://image-comic.pstatic.net/webtoon/650305/thumbnail/thumbnail_IMAG21_3631086797392995425.jpg, SATURDAY, 판타지,세계관,동양풍판타지\n",
      "654138, 은주의 방 2~3부, 노란구미, 노란구미, ALL, 160650, https://image-comic.pstatic.net/webtoon/654138/thumbnail/thumbnail_IMAG21_3559587746721839161.jpg, TUESDAY, 드라마,드라마&영화원작웹툰\n",
      "780414, 오빠집이 비어서, 이서희, 이서희, ALL, 180687, https://image-comic.pstatic.net/webtoon/780414/thumbnail/thumbnail_IMAG21_fc2621b0-84c3-404d-a18d-5925dba6ab77.jpg, MONDAY, 로맨스,계약연애,연예계,소설원작\n",
      "768469, 여우놀이, 황혜진, 황혜진, RATE_12, 331578, https://image-comic.pstatic.net/webtoon/768469/thumbnail/thumbnail_IMAG21_bff0c189-27cb-4859-8866-5f548210a578.jpg, FRIDAY, 드라마,아이돌,폭스남,2020지상최대공모전,학원로맨스,하이틴\n",
      "809618, 신과함께 돌아온 기사왕님, 지대공마법소년, 전천후마검사, ALL, 37142, https://image-comic.pstatic.net/webtoon/809618/thumbnail/thumbnail_IMAG21_118a7124-11b6-4eed-b04a-20ee139256c1.jpg, TUESDAY, 개그,먼치킨,소설원작\n",
      "800726, 사표내고 이계에서 힐링합니다, 덤보, 파란, ALL, 62984, https://image-comic.pstatic.net/webtoon/800726/thumbnail/thumbnail_IMAG21_f8d6b47c-3af0-49ef-9aa7-3b6ea28e4aa8.jpg, TUESDAY, 판타지,이세계,음식&요리,소설원작\n",
      "400739, 에이머, 구동인, 구동인, ALL, 147675, https://image-comic.pstatic.net/webtoon/400739/thumbnail/thumbnail_IMAG21_b5046846-5af7-48a9-9b20-b0b07cf0c904.jpeg, TUESDAY, 판타지,두뇌싸움\n",
      "807775, 천재 타자가 강속구를 숨김, 황지성, 스튜디오MW, ALL, 63090, https://image-comic.pstatic.net/webtoon/807775/thumbnail/thumbnail_IMAG21_91cb8ff9-5be3-40ba-8df9-661972577cd2.jpg, MONDAY, 스포츠,야구,소설원작\n",
      "793067, 버그이터, 이륙, 이륙, RATE_12, 36762, https://image-comic.pstatic.net/webtoon/793067/thumbnail/thumbnail_IMAG21_3544444194497192757.jpg, MONDAY, 판타지,2021지상최대공모전,게임판타지,먼치킨\n",
      "804157, 첫날밤만 세 번째, 나라나라, 나라나라, RATE_15, 76504, https://image-comic.pstatic.net/webtoon/804157/thumbnail/thumbnail_IMAG21_9bf245bf-319b-4902-8ebd-438ca75c6e04.jpg, SUNDAY, 로맨스,고자극로맨스,2030연애,재회,오피스로맨스,소설원작\n",
      "803767, 대위님! 이번 전쟁터는 이곳인가요?, 김망고, 비터버, ALL, 76440, https://image-comic.pstatic.net/webtoon/803767/thumbnail/thumbnail_IMAG21_63c2a7a4-ca93-4ab4-8224-769b3dfa692b.jpg, FRIDAY, 로맨스,차원이동,밀리터리,빙의,로판,걸크러시,소설원작\n",
      "801277, 그림자 잡기, 최날, 최날, RATE_12, 6967, https://image-comic.pstatic.net/webtoon/801277/thumbnail/thumbnail_IMAG21_704c7b5b-4662-4998-b388-735f1505dc34.jpg, SUNDAY, 스릴러\n",
      "806304, 두 마리를 위한 뜰, 솜마르, 솜마르, RATE_15, 25762, https://image-comic.pstatic.net/webtoon/806304/thumbnail/thumbnail_IMAG21_66bb4eb2-72ef-4036-9945-27c929f5dab4.jpg, WEDNESDAY, 드라마,2022지상최대공모전,힐링,혐관로맨스,동양풍판타지,인외존재,성장드라마,동물\n",
      "799267, 안녕, 나의 수집, 하린, 하린, ALL, 69871, https://image-comic.pstatic.net/webtoon/799267/thumbnail/thumbnail_IMAG21_f522ff4f-4f7c-40bf-b9f2-f58d049d4a82.jpg, WEDNESDAY, 일상,무해한\n",
      "805437, 피폐물의 해피엔딩을 위하여, 호, 호, ALL, 58160, https://image-comic.pstatic.net/webtoon/805437/thumbnail/thumbnail_IMAG21_e830e751-20be-4c57-a6ff-f299588d05b6.jpg, MONDAY, 로맨스,빙의,로판,구원서사\n",
      "814541, ㅋㅋ단편.zip, 네이버웹툰 작가, 네이버웹툰 작가, ALL, 10518, https://image-comic.pstatic.net/webtoon/814541/thumbnail/thumbnail_IMAG21_18a2bffa-6c6e-4884-ab41-45b4646cabe3.jpg, MONDAY, 개그\n",
      "799805, 분신으로 자동사냥, 차씨, 오팔, RATE_12, 112986, https://image-comic.pstatic.net/webtoon/799805/thumbnail/thumbnail_IMAG21_aff53990-84b6-4b97-973d-fa3a8add5da5.jpg, SUNDAY, 판타지,소설원작\n",
      "804329, 약탈 신부, 팀 카푸치노, 팀 카푸치노, RATE_15, 192551, https://image-comic.pstatic.net/webtoon/804329/thumbnail/thumbnail_IMAG21_d09239e1-4e22-46a7-83df-b7094eceb403.jpg, FRIDAY, 로맨스,혐관로맨스,인외존재,구원서사,소설원작\n",
      "801324, 민간인 통제구역 - 일급기밀, OSIK, OSIK, RATE_15, 40606, https://image-comic.pstatic.net/webtoon/801324/thumbnail/thumbnail_IMAG21_201ca646-5c79-42d2-ad28-49a435dc362e.jpg, SATURDAY, 스릴러,프리퀄,밀리터리,하이퍼리얼리즘,서스펜스\n",
      "728750, 장씨세가 호위무사, 김인호, 김인호, RATE_12, 310213, https://image-comic.pstatic.net/webtoon/728750/thumbnail/thumbnail_IMAG21_47c21251-b213-4882-bacc-15adce1acfc8.jpg, MONDAY, 무협/사극,사이다,힘숨찐,판무,먼치킨,소설원작\n",
      "776542, 네가 죽기를 바랄 때가 있었다, 기매, 아란, ALL, 201990, https://image-comic.pstatic.net/webtoon/776542/thumbnail/thumbnail_IMAG21_ca2e314b-448b-4383-980a-b6c50b1c6ca4.jpg, THURSDAY, 로맨스,후회물,혐관로맨스,로판,구원서사,소설원작\n",
      "797582, 로잘린 보가트, 삼월에, 마하, RATE_12, 146041, https://image-comic.pstatic.net/webtoon/797582/thumbnail/thumbnail_IMAG21_c1588ed1-f012-4592-ae45-ff9b177fe9f9.jpg, TUESDAY, 로맨스,고자극로맨스,궁중로맨스,소설원작\n",
      "783527, 그렇고 그런 바람에, 아니영, 아니영, RATE_15, 274602, https://image-comic.pstatic.net/webtoon/783527/thumbnail/thumbnail_IMAG21_e43d251c-2624-4f7d-871f-3c829ba25efa.jpg, FRIDAY, 로맨스,햇살캐,러블리,로맨스코미디,캠퍼스로맨스,인플루언서,걸크러시\n",
      "793944, 오늘의 비너스, 엄세윤, 도달, RATE_15, 67136, https://image-comic.pstatic.net/webtoon/793944/thumbnail/thumbnail_IMAG21_0c4cd9dc-26bc-4977-88ab-ec2939612bba.jpg, MONDAY, 로맨스,환골탈태,2021지상최대공모전,친구>연인,연예계\n",
      "798293, 굿바이 유교보이, 아실, 아실, RATE_15, 45398, https://image-comic.pstatic.net/webtoon/798293/thumbnail/thumbnail_IMAG21_fe6bfde6-5033-4037-9c30-eecd3fd70de3.jpg, MONDAY, 로맨스,계략여주,2030연애,계약연애,직진남,삼각관계\n",
      "785703, 애옹식당, 정다정, 정다정, ALL, 98926, https://image-comic.pstatic.net/webtoon/785703/thumbnail/thumbnail_IMAG21_020a4de1-984b-4343-8735-55970b9fda68.jpg, TUESDAY, 일상,무해한,힐링,음식&요리,성장드라마,동물\n",
      "797844, 폭군 남편과 이혼하겠습니다, 조사라, 조사라, ALL, 107360, https://image-comic.pstatic.net/webtoon/797844/thumbnail/thumbnail_IMAG21_3473510481684150625.jpg, SATURDAY, 로맨스,차원이동,사이다,빙의,걸크러시,소설원작\n",
      "786082, 여우애담, 이도광, 이도광, RATE_15, 88609, https://image-comic.pstatic.net/webtoon/786082/thumbnail/thumbnail_IMAG21_69748953-29ef-4a38-80da-66f94654789d.jpg, SUNDAY, 로맨스,동양풍판타지,퓨전사극,인외존재\n",
      "804333, 그냥 선생님, 연일, 연일, ALL, 79367, https://image-comic.pstatic.net/webtoon/804333/thumbnail/thumbnail_IMAG21_b39d8b31-ca85-492f-8588-c766aa2b3c27.jpg, TUESDAY, 일상\n",
      "804051, 이게 웬 떡, 박쓰담, 박쓰담, ALL, 116851, https://image-comic.pstatic.net/webtoon/804051/thumbnail/thumbnail_IMAG21_baa4a2af-edc7-43c8-9674-fb69b25a2465.jpg, THURSDAY, 로맨스\n",
      "800796, 온리호프, 초승, 초승, RATE_15, 208810, https://image-comic.pstatic.net/webtoon/800796/thumbnail/thumbnail_IMAG21_e5f6d283-25ac-4c32-be9a-b883c1ba7b87.jpg, FRIDAY, 로맨스,타임슬립,고자극로맨스,회귀\n",
      "701700, 트롤트랩, 유비, 유비, RATE_12, 171057, https://image-comic.pstatic.net/webtoon/701700/thumbnail/thumbnail_IMAG21_14be195a-a8e9-4324-8d48-226eea667453.jpg, THURSDAY, 판타지,소년왕도물\n",
      "730657, 오로지 너를 이기고 싶어, 아마도지, 사삭, ALL, 453537, https://image-comic.pstatic.net/webtoon/730657/thumbnail/thumbnail_IMAG21_4d928a6e-b354-4b8c-ad73-382845df1857.jpg, SUNDAY, 로맨스,로맨스코미디,하이틴,학원로맨스\n",
      "802913, 이런 미친 엔딩, LEE세, LEE세, ALL, 42760, https://image-comic.pstatic.net/webtoon/802913/thumbnail/thumbnail_IMAG21_1c4725c3-d63a-473a-a5fb-cb707836ada4.jpg, WEDNESDAY, 로맨스\n",
      "809870, 두꺼비집, 허만강, 허만강, RATE_15, 19818, https://image-comic.pstatic.net/webtoon/809870/thumbnail/thumbnail_IMAG21_99b34792-86f3-43a2-aa29-dad847a3daf5.jpg, WEDNESDAY, 스릴러\n",
      "813412, 포크&나이프, 삼박, 삼박, RATE_15, 9241, https://image-comic.pstatic.net/webtoon/813412/thumbnail/thumbnail_IMAG21_3d5f4af7-cbbd-486c-ad3a-89eec9550598.jpg, SUNDAY, 판타지\n",
      "792651, 99강화나무몽둥이, 홍실, 지페리, RATE_15, 509368, https://image-comic.pstatic.net/webtoon/792651/thumbnail/thumbnail_IMAG21_218f18ef-7f68-4d6a-972c-686a3e9f6138.jpg, SATURDAY, 판타지,고인물,사이다,게임판타지\n",
      "801711, 시한부인 줄 알았어요!, 혜용, 에시, RATE_15, 311263, https://image-comic.pstatic.net/webtoon/801711/thumbnail/thumbnail_IMAG21_bf581fbe-7d3d-4ff6-bfd3-a973f3c65aa1.jpg, TUESDAY, 로맨스,햇살캐,로맨스코미디,궁중로맨스,계약연애,삼각관계,로판,소설원작\n",
      "698918, 원주민 공포만화, 원주민, 원주민, RATE_15, 296446, https://image-comic.pstatic.net/webtoon/698918/thumbnail/thumbnail_IMAG21_3689346629442483042.jpg, TUESDAY, 스릴러,괴담\n",
      "788976, 특수청소, 한(恨), 한(恨), RATE_15, 57331, https://image-comic.pstatic.net/webtoon/788976/thumbnail/thumbnail_IMAG21_c91160f6-aa01-43d8-a6a9-6347e50d1eaf.jpg, THURSDAY, 드라마\n",
      "795540, 드래곤의 심장을 가지고 있습니다, 시뉴라, 시뉴라, RATE_15, 59982, https://image-comic.pstatic.net/webtoon/795540/thumbnail/thumbnail_IMAG21_5dbe14f7-5802-4643-9b1d-90d94542f450.jpg, FRIDAY, 로맨스,2021지상최대공모전,혐관로맨스,인외존재\n",
      "796251, 홍 의관의 은밀한 비밀, 유계진, 유계진, RATE_12, 57065, https://image-comic.pstatic.net/webtoon/796251/thumbnail/thumbnail_IMAG21_eb634bbe-8a82-4918-a650-9423acf27f72.jpg, SUNDAY, 로맨스,성별반전,퓨전사극,소설원작\n",
      "807992, 성애적 순애보, 유, 명, RATE_15, 38398, https://image-comic.pstatic.net/webtoon/807992/thumbnail/thumbnail_IMAG21_a977bb5f-927e-42c3-8231-99c1f8b54591.jpg, SUNDAY, 로맨스,고자극로맨스,2030연애,청춘로맨스,캠퍼스로맨스\n",
      "805974, 돌격! 용마치킨, 팀 오누이, 팀 오누이, ALL, 19747, https://image-comic.pstatic.net/webtoon/805974/thumbnail/thumbnail_IMAG21_7794debf-da11-42fd-9126-13723f239794.jpg, TUESDAY, 판타지\n",
      "803123, 연애 연기대상, 김충전, 일공팔, RATE_15, 25382, https://image-comic.pstatic.net/webtoon/803123/thumbnail/thumbnail_IMAG21_4a7c5fbd-fe54-484c-a2e6-0ec548fbbb5c.jpg, MONDAY, 로맨스,고자극로맨스,2030연애,로맨스코미디,계약연애,청춘로맨스,캠퍼스로맨스\n",
      "729964, 만물의 영장, 보민, 보민, ALL, 106089, https://image-comic.pstatic.net/webtoon/729964/thumbnail/thumbnail_IMAG21_3625061d-dadd-4e0c-96cd-9fcf1fe584c9.jpg, THURSDAY, 개그,4차원,인외존재,소년왕도물,동물,먼치킨\n",
      "732988, 올가미, 해무리, 해무리, RATE_15, 503011, https://image-comic.pstatic.net/webtoon/732988/thumbnail/thumbnail_IMAG21_eda8ea4b-fdc8-411d-9f28-09e450cc06c5.jpg, TUESDAY, 드라마,폭스남,집착물,고자극로맨스,혐관로맨스,인외존재,뱀파이어\n",
      "814398, 로맨스 당도 백퍼센트, 이동건, 이동건, ALL, 30607, https://image-comic.pstatic.net/webtoon/814398/thumbnail/thumbnail_IMAG21_23b64b71-1d91-4326-982c-1480462c01e6.jpg, TUESDAY, 일상,러블리,짝사랑,2030연애,로맨스코미디,현실로맨스,하이퍼리얼리즘\n",
      "809056, 너나 나나, 김연우, 김연우, ALL, 28188, https://image-comic.pstatic.net/webtoon/809056/thumbnail/thumbnail_IMAG21_ad6cc2e8-a610-4c73-9b78-953c1d4507d2.jpg, SATURDAY, 드라마,러블리,학원물\n",
      "753478, 데드퀸, 김규삼, 김규삼, RATE_15, 244068, https://image-comic.pstatic.net/webtoon/753478/thumbnail/thumbnail_IMAG21_4049077133597095219.jpg, FRIDAY, 판타지,아포칼립스\n",
      "761461, 순정말고 순종, 슈안, 슈안, RATE_15, 508018, https://image-comic.pstatic.net/webtoon/761461/thumbnail/thumbnail_IMAG21_e3c857a7-900b-4085-969a-75d9127b5a38.jpg, MONDAY, 로맨스,로맨스코미디,연예계,삼각관계\n",
      "811129, 러브 똘츄얼리, 김진경, 김진경, ALL, 18861, https://image-comic.pstatic.net/webtoon/811129/thumbnail/thumbnail_IMAG21_02284133-0eb0-407a-9c4e-7381dbd7a8a4.jpg, MONDAY, 로맨스\n",
      "786973, DARK MOON: 달의 제단, HYBE, HYBE, RATE_12, 175438, https://image-comic.pstatic.net/webtoon/786973/thumbnail/thumbnail_IMAG21_35f474fa-13bc-4ac5-9815-91f0e9d1ef95.jpg, SUNDAY, 판타지,뱀파이어\n",
      "813335, 얼짱시대, 박태준 만화회사, 박태준 만화회사, RATE_15, 127323, https://image-comic.pstatic.net/webtoon/813335/thumbnail/thumbnail_IMAG21_652b3db2-e6ca-48ac-928d-5fd3006a7d2a.jpg, SATURDAY, 드라마\n",
      "805334, 짐승의 꽃, 하브린, 옆집찰스, RATE_15, 79417, https://image-comic.pstatic.net/webtoon/805334/thumbnail/thumbnail_IMAG21_1a7f9687-e04f-4ac8-8f50-ac58275a2295.jpg, TUESDAY, 로맨스,고자극로맨스,2030연애,로판,소설원작\n",
      "814594, 개같이 탈출, 갬쟈, 갬쟈, ALL, 13566, https://image-comic.pstatic.net/webtoon/814594/thumbnail/thumbnail_IMAG21_8746b12b-566e-4375-b0ab-1eaf48e17a1d.jpg, MONDAY, 드라마,성장물,2022지상최대공모전,무해한,힐링,좀비,동물\n",
      "811634, 또다시 열일곱, 한다, 한다, RATE_12, 29624, https://image-comic.pstatic.net/webtoon/811634/thumbnail/thumbnail_IMAG21_4b8d87f9-e5f1-42ec-a2f6-9d1936901087.jpg, SATURDAY, 로맨스,타임슬립,2021지상최대공모전,회귀,학원로맨스,전남친\n",
      "800400, AI 유하, 박현, 지홍주, ALL, 22725, https://image-comic.pstatic.net/webtoon/800400/thumbnail/thumbnail_IMAG21_bb74c497-7fa9-48c2-9f4f-4438317ff0c8.jpg, TUESDAY, 로맨스,아이돌연애,로맨스코미디,현실로맨스,연예계,삼각관계\n",
      "758662, 급식아빠, 김재한, 김재한, RATE_15, 369971, https://image-comic.pstatic.net/webtoon/758662/thumbnail/thumbnail_IMAG21_f061545e-a32b-473c-82fa-20a04a5e6ed1.jpg, WEDNESDAY, 액션,학원물\n",
      "735078, 먹지마세요, 노도, 비버, RATE_15, 39841, https://image-comic.pstatic.net/webtoon/735078/thumbnail/thumbnail_IMAG21_bbbfa6c0-bd41-4c59-a7fb-a44776497691.jpg, SATURDAY, 판타지,오컬트,동양풍판타지,인외존재\n",
      "721433, 집이 없어, 와난, 와난, ALL, 433458, https://image-comic.pstatic.net/webtoon/721433/thumbnail/thumbnail_IMAG21_e14d8057-378c-4208-8531-e82e1dce8dd6.jpg, TUESDAY, 드라마,오컬트,학원물,성장드라마\n",
      "809597, 킬링대디, 또이, 또이, RATE_15, 9140, https://image-comic.pstatic.net/webtoon/809597/thumbnail/thumbnail_IMAG21_223ee9a4-35f7-4c7d-b6a6-7374400787ac.jpg, WEDNESDAY, 드라마\n",
      "808439, 킬러경찰, 이제환, 이윤균, RATE_15, 132354, https://image-comic.pstatic.net/webtoon/808439/thumbnail/thumbnail_IMAG21_aa3d6e94-3bc1-45a7-8f60-f9304366e403.jpg, SATURDAY, 액션,지금추천작\n",
      "802835, 겨울 정원의 하와르, 단청, 래럿, ALL, 88200, https://image-comic.pstatic.net/webtoon/802835/thumbnail/thumbnail_IMAG21_4289191f-b053-4bad-a004-701a7d674869.jpg, WEDNESDAY, 로맨스,소설원작\n",
      "797253, 메리의 불타는 행복회로, 김지수, 김지수, ALL, 40010, https://image-comic.pstatic.net/webtoon/797253/thumbnail/thumbnail_IMAG21_3adf296f-505b-4824-98b0-61c28432fb2d.jpg, MONDAY, 드라마\n",
      "800304, 황제사냥, KAN, KAN, RATE_15, 63259, https://image-comic.pstatic.net/webtoon/800304/thumbnail/thumbnail_IMAG21_a97d059c-7eae-4e7c-afa0-74a6d2ac4c15.jpg, THURSDAY, 판타지,2021지상최대공모전,혐관로맨스,직진남,이세계,복수극,먼치킨,구원서사,걸크러시\n",
      "761722, 세기말 풋사과 보습학원, 순끼, 순끼, ALL, 500866, https://image-comic.pstatic.net/webtoon/761722/thumbnail/thumbnail_IMAG21_8ad71820-0c48-418a-89e9-5c001e393f54.jpg, FRIDAY, 로맨스,러블리,소꿉친구,하이틴,학원로맨스,친구>연인,성장드라마,레트로,까칠남\n",
      "799467, 내겐 너무 소란한 결혼, 이지이, 포스스튜디오, RATE_15, 64492, https://image-comic.pstatic.net/webtoon/799467/thumbnail/thumbnail_IMAG21_12c13949-64c3-4502-890f-b837cb3cd6f4.jpg, WEDNESDAY, 로맨스,로맨스코미디,현실로맨스,선결혼후연애,소설원작\n",
      "808776, 엘프, 홍작가, 홍작가, ALL, 18819, https://image-comic.pstatic.net/webtoon/808776/thumbnail/thumbnail_IMAG21_fb25d2f3-790c-48db-beaf-c2504f4ed4c0.jpg, MONDAY, 판타지,세계관\n",
      "769193, 아가사, 이다인, 이다인, RATE_12, 43724, https://image-comic.pstatic.net/webtoon/769193/thumbnail/thumbnail_IMAG21_63967208-c38f-42a0-9186-163653c54a47.jpg, SATURDAY, 드라마,궁중로맨스,혐관로맨스,걸크러시\n",
      "790713, 대학원 탈출일지, 요다, 요다, ALL, 183449, https://image-comic.pstatic.net/webtoon/790713/thumbnail/thumbnail_IMAG21_3919364435331003700.jpg, TUESDAY, 일상,하이퍼리얼리즘\n",
      "802986, 잿더미 황후, 스튜디오BCW, 스튜디오BCW, RATE_15, 42129, https://image-comic.pstatic.net/webtoon/802986/thumbnail/thumbnail_IMAG21_c25b5dbd-8e7a-4184-aa1f-5d02727e874c.jpg, SUNDAY, 로맨스,소설원작\n",
      "800506, 웅크, 나유진, 나유진, ALL, 64192, https://image-comic.pstatic.net/webtoon/800506/thumbnail/thumbnail_IMAG21_21640049-34da-44e5-82d7-bbb7aca3a3f8.jpg, TUESDAY, 감성,무해한,힐링\n",
      "758439, 던전 씹어먹는 아티팩트, 엄키, 엄키, RATE_12, 179869, https://image-comic.pstatic.net/webtoon/758439/thumbnail/thumbnail_IMAG21_9bccc3c8-13bd-47c4-b711-1865c3479037.jpg, THURSDAY, 판타지,복수극,먼치킨,소설원작\n",
      "753975, 내게 필요한 NO맨스, 마그네슘, 마그네슘, ALL, 224481, https://image-comic.pstatic.net/webtoon/753975/thumbnail/thumbnail_IMAG21_7413f409-1a09-46b7-b10e-fa0cc7bc68b7.jpeg, SATURDAY, 로맨스,2019지상최대공모전,연예계,역하렘\n",
      "799213, 어떤소란, 케첩, 케첩, RATE_12, 34089, https://image-comic.pstatic.net/webtoon/799213/thumbnail/thumbnail_IMAG21_d0af8fd4-8aec-4e7f-9eca-f801c7ca01b2.jpg, SUNDAY, 로맨스,캠퍼스로맨스\n",
      "802070, 시선 끝 브로콜리, 모차, 모차, ALL, 34736, https://image-comic.pstatic.net/webtoon/802070/thumbnail/thumbnail_IMAG21_fa7ec89a-785c-4c64-97b2-6814ca4d5970.jpg, SATURDAY, 드라마\n",
      "783861, 헤어지면 죽음, 봄소희, KYMA, RATE_15, 225215, https://image-comic.pstatic.net/webtoon/783861/thumbnail/thumbnail_IMAG21_7571ae6b-a37c-4d12-8193-cb79c857cfaa.jpg, WEDNESDAY, 로맨스,레드스트링,인플루언서\n",
      "814149, 집착광공 집사전락, 마자, 마자, ALL, 13197, https://image-comic.pstatic.net/webtoon/814149/thumbnail/thumbnail_IMAG21_1cf527a2-606b-410a-b74c-b17bf938491e.jpg, SUNDAY, 개그,집착물\n"
     ]
    }
   ],
   "source": [
    "import csv\n",
    "with open('webtoon.csv', newline='', encoding='utf-8-sig') as csvfile:\n",
    "    spamreader = csv.reader(csvfile, delimiter=',')\n",
    "    for row in spamreader:\n",
    "        print(', '.join(row))"
   ]
  },
  {
   "cell_type": "code",
   "execution_count": 52,
   "metadata": {},
   "outputs": [
    {
     "data": {
      "text/plain": [
       "1"
      ]
     },
     "execution_count": 52,
     "metadata": {},
     "output_type": "execute_result"
    }
   ],
   "source": [
    "cur.execute(sql, row)"
   ]
  },
  {
   "cell_type": "code",
   "execution_count": 54,
   "metadata": {},
   "outputs": [
    {
     "data": {
      "text/plain": [
       "['814149',\n",
       " '집착광공 집사전락',\n",
       " '마자',\n",
       " '마자',\n",
       " 'ALL',\n",
       " '13197',\n",
       " 'https://image-comic.pstatic.net/webtoon/814149/thumbnail/thumbnail_IMAG21_1cf527a2-606b-410a-b74c-b17bf938491e.jpg',\n",
       " 'SUNDAY',\n",
       " '개그,집착물']"
      ]
     },
     "execution_count": 54,
     "metadata": {},
     "output_type": "execute_result"
    }
   ],
   "source": [
    "row"
   ]
  },
  {
   "cell_type": "code",
   "execution_count": 60,
   "metadata": {},
   "outputs": [],
   "source": [
    "con.commit()"
   ]
  },
  {
   "cell_type": "code",
   "execution_count": null,
   "metadata": {},
   "outputs": [],
   "source": []
  },
  {
   "cell_type": "code",
   "execution_count": null,
   "metadata": {},
   "outputs": [],
   "source": []
  },
  {
   "cell_type": "markdown",
   "metadata": {},
   "source": [
    "#### (사용X) `selenium` 을 활용한 크롤링"
   ]
  },
  {
   "cell_type": "code",
   "execution_count": null,
   "metadata": {},
   "outputs": [],
   "source": [
    "# pip install selenium"
   ]
  },
  {
   "cell_type": "code",
   "execution_count": null,
   "metadata": {},
   "outputs": [],
   "source": [
    "from selenium import webdriver\n",
    "import selenium"
   ]
  },
  {
   "cell_type": "code",
   "execution_count": null,
   "metadata": {},
   "outputs": [],
   "source": [
    "driver = webdriver.Chrome()"
   ]
  },
  {
   "cell_type": "code",
   "execution_count": null,
   "metadata": {},
   "outputs": [],
   "source": [
    "driver.get(\"https://comic.naver.com/webtoon\")"
   ]
  },
  {
   "cell_type": "code",
   "execution_count": null,
   "metadata": {},
   "outputs": [],
   "source": [
    "from selenium.webdriver.common.by import By\n",
    "driver.find_element(By.CSS_SELECTOR,\n",
    "                    \"#container > div.component_wrap.type2 > div.WeekdayMainView__daily_all_wrap--UvRFc > div:nth-child(1) > ul > li:nth-child(1) > div > a > span\").click()"
   ]
  },
  {
   "cell_type": "code",
   "execution_count": null,
   "metadata": {},
   "outputs": [],
   "source": [
    "driver.find_element(By.CSS_SELECTOR,\n",
    ").click()"
   ]
  },
  {
   "cell_type": "code",
   "execution_count": null,
   "metadata": {},
   "outputs": [],
   "source": []
  }
 ],
 "metadata": {
  "kernelspec": {
   "display_name": "venv",
   "language": "python",
   "name": "python3"
  },
  "language_info": {
   "codemirror_mode": {
    "name": "ipython",
    "version": 3
   },
   "file_extension": ".py",
   "mimetype": "text/x-python",
   "name": "python",
   "nbconvert_exporter": "python",
   "pygments_lexer": "ipython3",
   "version": "3.10.9"
  },
  "orig_nbformat": 4
 },
 "nbformat": 4,
 "nbformat_minor": 2
}
